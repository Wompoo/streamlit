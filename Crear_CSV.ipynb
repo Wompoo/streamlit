{
 "cells": [
  {
   "cell_type": "code",
   "execution_count": 17,
   "id": "bbf17f7e",
   "metadata": {},
   "outputs": [
    {
     "name": "stdout",
     "output_type": "stream",
     "text": [
      "=== INICIANDO PROCESAMIENTO DE MENSUALES ===\n",
      "\n",
      "📂 Procesando archivo mensual: 2022_datos_mensuales_panel_consumo_hogares_canales_base2021_tcm30_686041_canales.xlsx\n",
      "  ⏩ Omitida hoja: PORTADA\n",
      "  ⏩ Omitida hoja: Lista canales\n",
      "  💡 Se encontraron 4 bloques en 2022_canal_enero\n",
      "  ✔ PENETRACION guardado: CSV_Mensuales\\canal\\2022_canal_enero_PENETRACION.csv\n",
      "  ✔ PRECIO_MEDIO guardado: CSV_Mensuales\\canal\\2022_canal_enero_PRECIO_MEDIO.csv\n",
      "  ✔ VALOR guardado: CSV_Mensuales\\canal\\2022_canal_enero_VALOR.csv\n",
      "  ✔ VOLUMEN guardado: CSV_Mensuales\\canal\\2022_canal_enero_VOLUMEN.csv\n"
     ]
    },
    {
     "name": "stderr",
     "output_type": "stream",
     "text": [
      "C:\\Users\\Jokin\\AppData\\Local\\Temp\\ipykernel_76216\\1162139421.py:293: SettingWithCopyWarning: \n",
      "A value is trying to be set on a copy of a slice from a DataFrame.\n",
      "Try using .loc[row_indexer,col_indexer] = value instead\n",
      "\n",
      "See the caveats in the documentation: https://pandas.pydata.org/pandas-docs/stable/user_guide/indexing.html#returning-a-view-versus-a-copy\n",
      "  niveles_df['Nombre'] = niveles_df['Nombre'].astype(str).str.strip().str.upper()\n"
     ]
    },
    {
     "name": "stdout",
     "output_type": "stream",
     "text": [
      "  💡 Se encontraron 4 bloques en 2022_canal_febrero\n",
      "  ✔ PENETRACION guardado: CSV_Mensuales\\canal\\2022_canal_febrero_PENETRACION.csv\n",
      "  ✔ PRECIO_MEDIO guardado: CSV_Mensuales\\canal\\2022_canal_febrero_PRECIO_MEDIO.csv\n",
      "  ✔ VALOR guardado: CSV_Mensuales\\canal\\2022_canal_febrero_VALOR.csv\n",
      "  ✔ VOLUMEN guardado: CSV_Mensuales\\canal\\2022_canal_febrero_VOLUMEN.csv\n"
     ]
    },
    {
     "name": "stderr",
     "output_type": "stream",
     "text": [
      "C:\\Users\\Jokin\\AppData\\Local\\Temp\\ipykernel_76216\\1162139421.py:293: SettingWithCopyWarning: \n",
      "A value is trying to be set on a copy of a slice from a DataFrame.\n",
      "Try using .loc[row_indexer,col_indexer] = value instead\n",
      "\n",
      "See the caveats in the documentation: https://pandas.pydata.org/pandas-docs/stable/user_guide/indexing.html#returning-a-view-versus-a-copy\n",
      "  niveles_df['Nombre'] = niveles_df['Nombre'].astype(str).str.strip().str.upper()\n"
     ]
    },
    {
     "name": "stdout",
     "output_type": "stream",
     "text": [
      "  💡 Se encontraron 4 bloques en 2022_canal_marzo\n",
      "  ✔ PENETRACION guardado: CSV_Mensuales\\canal\\2022_canal_marzo_PENETRACION.csv\n",
      "  ✔ PRECIO_MEDIO guardado: CSV_Mensuales\\canal\\2022_canal_marzo_PRECIO_MEDIO.csv\n",
      "  ✔ VALOR guardado: CSV_Mensuales\\canal\\2022_canal_marzo_VALOR.csv\n",
      "  ✔ VOLUMEN guardado: CSV_Mensuales\\canal\\2022_canal_marzo_VOLUMEN.csv\n"
     ]
    },
    {
     "name": "stderr",
     "output_type": "stream",
     "text": [
      "C:\\Users\\Jokin\\AppData\\Local\\Temp\\ipykernel_76216\\1162139421.py:293: SettingWithCopyWarning: \n",
      "A value is trying to be set on a copy of a slice from a DataFrame.\n",
      "Try using .loc[row_indexer,col_indexer] = value instead\n",
      "\n",
      "See the caveats in the documentation: https://pandas.pydata.org/pandas-docs/stable/user_guide/indexing.html#returning-a-view-versus-a-copy\n",
      "  niveles_df['Nombre'] = niveles_df['Nombre'].astype(str).str.strip().str.upper()\n"
     ]
    },
    {
     "name": "stdout",
     "output_type": "stream",
     "text": [
      "  💡 Se encontraron 4 bloques en 2022_canal_abril\n",
      "  ✔ PENETRACION guardado: CSV_Mensuales\\canal\\2022_canal_abril_PENETRACION.csv\n",
      "  ✔ PRECIO_MEDIO guardado: CSV_Mensuales\\canal\\2022_canal_abril_PRECIO_MEDIO.csv\n",
      "  ✔ VALOR guardado: CSV_Mensuales\\canal\\2022_canal_abril_VALOR.csv\n",
      "  ✔ VOLUMEN guardado: CSV_Mensuales\\canal\\2022_canal_abril_VOLUMEN.csv\n"
     ]
    },
    {
     "name": "stderr",
     "output_type": "stream",
     "text": [
      "C:\\Users\\Jokin\\AppData\\Local\\Temp\\ipykernel_76216\\1162139421.py:293: SettingWithCopyWarning: \n",
      "A value is trying to be set on a copy of a slice from a DataFrame.\n",
      "Try using .loc[row_indexer,col_indexer] = value instead\n",
      "\n",
      "See the caveats in the documentation: https://pandas.pydata.org/pandas-docs/stable/user_guide/indexing.html#returning-a-view-versus-a-copy\n",
      "  niveles_df['Nombre'] = niveles_df['Nombre'].astype(str).str.strip().str.upper()\n"
     ]
    },
    {
     "name": "stdout",
     "output_type": "stream",
     "text": [
      "  💡 Se encontraron 4 bloques en 2022_canal_mayo\n",
      "  ✔ PENETRACION guardado: CSV_Mensuales\\canal\\2022_canal_mayo_PENETRACION.csv\n",
      "  ✔ PRECIO_MEDIO guardado: CSV_Mensuales\\canal\\2022_canal_mayo_PRECIO_MEDIO.csv\n",
      "  ✔ VALOR guardado: CSV_Mensuales\\canal\\2022_canal_mayo_VALOR.csv\n",
      "  ✔ VOLUMEN guardado: CSV_Mensuales\\canal\\2022_canal_mayo_VOLUMEN.csv\n"
     ]
    },
    {
     "name": "stderr",
     "output_type": "stream",
     "text": [
      "C:\\Users\\Jokin\\AppData\\Local\\Temp\\ipykernel_76216\\1162139421.py:293: SettingWithCopyWarning: \n",
      "A value is trying to be set on a copy of a slice from a DataFrame.\n",
      "Try using .loc[row_indexer,col_indexer] = value instead\n",
      "\n",
      "See the caveats in the documentation: https://pandas.pydata.org/pandas-docs/stable/user_guide/indexing.html#returning-a-view-versus-a-copy\n",
      "  niveles_df['Nombre'] = niveles_df['Nombre'].astype(str).str.strip().str.upper()\n"
     ]
    },
    {
     "name": "stdout",
     "output_type": "stream",
     "text": [
      "  💡 Se encontraron 4 bloques en 2022_canal_junio\n",
      "  ✔ PENETRACION guardado: CSV_Mensuales\\canal\\2022_canal_junio_PENETRACION.csv\n",
      "  ✔ PRECIO_MEDIO guardado: CSV_Mensuales\\canal\\2022_canal_junio_PRECIO_MEDIO.csv\n",
      "  ✔ VALOR guardado: CSV_Mensuales\\canal\\2022_canal_junio_VALOR.csv\n",
      "  ✔ VOLUMEN guardado: CSV_Mensuales\\canal\\2022_canal_junio_VOLUMEN.csv\n"
     ]
    },
    {
     "name": "stderr",
     "output_type": "stream",
     "text": [
      "C:\\Users\\Jokin\\AppData\\Local\\Temp\\ipykernel_76216\\1162139421.py:293: SettingWithCopyWarning: \n",
      "A value is trying to be set on a copy of a slice from a DataFrame.\n",
      "Try using .loc[row_indexer,col_indexer] = value instead\n",
      "\n",
      "See the caveats in the documentation: https://pandas.pydata.org/pandas-docs/stable/user_guide/indexing.html#returning-a-view-versus-a-copy\n",
      "  niveles_df['Nombre'] = niveles_df['Nombre'].astype(str).str.strip().str.upper()\n"
     ]
    },
    {
     "name": "stdout",
     "output_type": "stream",
     "text": [
      "  💡 Se encontraron 4 bloques en 2022_canal_julio\n",
      "  ✔ PENETRACION guardado: CSV_Mensuales\\canal\\2022_canal_julio_PENETRACION.csv\n",
      "  ✔ PRECIO_MEDIO guardado: CSV_Mensuales\\canal\\2022_canal_julio_PRECIO_MEDIO.csv\n",
      "  ✔ VALOR guardado: CSV_Mensuales\\canal\\2022_canal_julio_VALOR.csv\n",
      "  ✔ VOLUMEN guardado: CSV_Mensuales\\canal\\2022_canal_julio_VOLUMEN.csv\n"
     ]
    },
    {
     "name": "stderr",
     "output_type": "stream",
     "text": [
      "C:\\Users\\Jokin\\AppData\\Local\\Temp\\ipykernel_76216\\1162139421.py:293: SettingWithCopyWarning: \n",
      "A value is trying to be set on a copy of a slice from a DataFrame.\n",
      "Try using .loc[row_indexer,col_indexer] = value instead\n",
      "\n",
      "See the caveats in the documentation: https://pandas.pydata.org/pandas-docs/stable/user_guide/indexing.html#returning-a-view-versus-a-copy\n",
      "  niveles_df['Nombre'] = niveles_df['Nombre'].astype(str).str.strip().str.upper()\n"
     ]
    },
    {
     "name": "stdout",
     "output_type": "stream",
     "text": [
      "  💡 Se encontraron 4 bloques en 2022_canal_agosto\n",
      "  ✔ PENETRACION guardado: CSV_Mensuales\\canal\\2022_canal_agosto_PENETRACION.csv\n",
      "  ✔ PRECIO_MEDIO guardado: CSV_Mensuales\\canal\\2022_canal_agosto_PRECIO_MEDIO.csv\n",
      "  ✔ VALOR guardado: CSV_Mensuales\\canal\\2022_canal_agosto_VALOR.csv\n",
      "  ✔ VOLUMEN guardado: CSV_Mensuales\\canal\\2022_canal_agosto_VOLUMEN.csv\n"
     ]
    },
    {
     "name": "stderr",
     "output_type": "stream",
     "text": [
      "C:\\Users\\Jokin\\AppData\\Local\\Temp\\ipykernel_76216\\1162139421.py:293: SettingWithCopyWarning: \n",
      "A value is trying to be set on a copy of a slice from a DataFrame.\n",
      "Try using .loc[row_indexer,col_indexer] = value instead\n",
      "\n",
      "See the caveats in the documentation: https://pandas.pydata.org/pandas-docs/stable/user_guide/indexing.html#returning-a-view-versus-a-copy\n",
      "  niveles_df['Nombre'] = niveles_df['Nombre'].astype(str).str.strip().str.upper()\n"
     ]
    },
    {
     "name": "stdout",
     "output_type": "stream",
     "text": [
      "  💡 Se encontraron 4 bloques en 2022_canal_septiembre\n",
      "  ✔ PENETRACION guardado: CSV_Mensuales\\canal\\2022_canal_septiembre_PENETRACION.csv\n",
      "  ✔ PRECIO_MEDIO guardado: CSV_Mensuales\\canal\\2022_canal_septiembre_PRECIO_MEDIO.csv\n",
      "  ✔ VALOR guardado: CSV_Mensuales\\canal\\2022_canal_septiembre_VALOR.csv\n",
      "  ✔ VOLUMEN guardado: CSV_Mensuales\\canal\\2022_canal_septiembre_VOLUMEN.csv\n"
     ]
    },
    {
     "name": "stderr",
     "output_type": "stream",
     "text": [
      "C:\\Users\\Jokin\\AppData\\Local\\Temp\\ipykernel_76216\\1162139421.py:293: SettingWithCopyWarning: \n",
      "A value is trying to be set on a copy of a slice from a DataFrame.\n",
      "Try using .loc[row_indexer,col_indexer] = value instead\n",
      "\n",
      "See the caveats in the documentation: https://pandas.pydata.org/pandas-docs/stable/user_guide/indexing.html#returning-a-view-versus-a-copy\n",
      "  niveles_df['Nombre'] = niveles_df['Nombre'].astype(str).str.strip().str.upper()\n"
     ]
    },
    {
     "name": "stdout",
     "output_type": "stream",
     "text": [
      "  💡 Se encontraron 4 bloques en 2022_canal_octubre\n",
      "  ✔ PENETRACION guardado: CSV_Mensuales\\canal\\2022_canal_octubre_PENETRACION.csv\n",
      "  ✔ PRECIO_MEDIO guardado: CSV_Mensuales\\canal\\2022_canal_octubre_PRECIO_MEDIO.csv\n",
      "  ✔ VALOR guardado: CSV_Mensuales\\canal\\2022_canal_octubre_VALOR.csv\n",
      "  ✔ VOLUMEN guardado: CSV_Mensuales\\canal\\2022_canal_octubre_VOLUMEN.csv\n"
     ]
    },
    {
     "name": "stderr",
     "output_type": "stream",
     "text": [
      "C:\\Users\\Jokin\\AppData\\Local\\Temp\\ipykernel_76216\\1162139421.py:293: SettingWithCopyWarning: \n",
      "A value is trying to be set on a copy of a slice from a DataFrame.\n",
      "Try using .loc[row_indexer,col_indexer] = value instead\n",
      "\n",
      "See the caveats in the documentation: https://pandas.pydata.org/pandas-docs/stable/user_guide/indexing.html#returning-a-view-versus-a-copy\n",
      "  niveles_df['Nombre'] = niveles_df['Nombre'].astype(str).str.strip().str.upper()\n"
     ]
    },
    {
     "name": "stdout",
     "output_type": "stream",
     "text": [
      "  💡 Se encontraron 4 bloques en 2022_canal_noviembre\n",
      "  ✔ PENETRACION guardado: CSV_Mensuales\\canal\\2022_canal_noviembre_PENETRACION.csv\n",
      "  ✔ PRECIO_MEDIO guardado: CSV_Mensuales\\canal\\2022_canal_noviembre_PRECIO_MEDIO.csv\n",
      "  ✔ VALOR guardado: CSV_Mensuales\\canal\\2022_canal_noviembre_VALOR.csv\n",
      "  ✔ VOLUMEN guardado: CSV_Mensuales\\canal\\2022_canal_noviembre_VOLUMEN.csv\n"
     ]
    },
    {
     "name": "stderr",
     "output_type": "stream",
     "text": [
      "C:\\Users\\Jokin\\AppData\\Local\\Temp\\ipykernel_76216\\1162139421.py:293: SettingWithCopyWarning: \n",
      "A value is trying to be set on a copy of a slice from a DataFrame.\n",
      "Try using .loc[row_indexer,col_indexer] = value instead\n",
      "\n",
      "See the caveats in the documentation: https://pandas.pydata.org/pandas-docs/stable/user_guide/indexing.html#returning-a-view-versus-a-copy\n",
      "  niveles_df['Nombre'] = niveles_df['Nombre'].astype(str).str.strip().str.upper()\n"
     ]
    },
    {
     "name": "stdout",
     "output_type": "stream",
     "text": [
      "  💡 Se encontraron 4 bloques en 2022_canal_diciembre\n",
      "  ✔ PENETRACION guardado: CSV_Mensuales\\canal\\2022_canal_diciembre_PENETRACION.csv\n",
      "  ✔ PRECIO_MEDIO guardado: CSV_Mensuales\\canal\\2022_canal_diciembre_PRECIO_MEDIO.csv\n",
      "  ✔ VALOR guardado: CSV_Mensuales\\canal\\2022_canal_diciembre_VALOR.csv\n",
      "  ✔ VOLUMEN guardado: CSV_Mensuales\\canal\\2022_canal_diciembre_VOLUMEN.csv\n",
      "\n",
      "📂 Procesando archivo mensual: 2022_datos_mensuales_panel_consumo_hogares_ccaa_base2021_ok_tcm30_686109_ccaa.xlsx\n"
     ]
    },
    {
     "name": "stderr",
     "output_type": "stream",
     "text": [
      "C:\\Users\\Jokin\\AppData\\Local\\Temp\\ipykernel_76216\\1162139421.py:293: SettingWithCopyWarning: \n",
      "A value is trying to be set on a copy of a slice from a DataFrame.\n",
      "Try using .loc[row_indexer,col_indexer] = value instead\n",
      "\n",
      "See the caveats in the documentation: https://pandas.pydata.org/pandas-docs/stable/user_guide/indexing.html#returning-a-view-versus-a-copy\n",
      "  niveles_df['Nombre'] = niveles_df['Nombre'].astype(str).str.strip().str.upper()\n"
     ]
    },
    {
     "name": "stdout",
     "output_type": "stream",
     "text": [
      "  ⏩ Omitida hoja: PORTADA\n",
      "  ✔ CCAA guardado: CSV_Mensuales\\ccaa\\2022_ccaa_enero_T.ESPAÑA.csv\n",
      "  ✔ CCAA guardado: CSV_Mensuales\\ccaa\\2022_ccaa_enero_CATALUÑA.csv\n",
      "  ✔ CCAA guardado: CSV_Mensuales\\ccaa\\2022_ccaa_enero_ARAGÓN.csv\n",
      "  ✔ CCAA guardado: CSV_Mensuales\\ccaa\\2022_ccaa_enero_ILLES BALEARS.csv\n",
      "  ✔ CCAA guardado: CSV_Mensuales\\ccaa\\2022_ccaa_enero_COMUNITAT VALENCIANA.csv\n",
      "  ✔ CCAA guardado: CSV_Mensuales\\ccaa\\2022_ccaa_enero_REGIÓN DE MURCIA.csv\n",
      "  ✔ CCAA guardado: CSV_Mensuales\\ccaa\\2022_ccaa_enero_ANDALUCÍA.csv\n",
      "  ✔ CCAA guardado: CSV_Mensuales\\ccaa\\2022_ccaa_enero_COMUNIDAD DE MADRID.csv\n",
      "  ✔ CCAA guardado: CSV_Mensuales\\ccaa\\2022_ccaa_enero_CASTILLA - LA MANCHA.csv\n",
      "  ✔ CCAA guardado: CSV_Mensuales\\ccaa\\2022_ccaa_enero_EXTREMADURA.csv\n",
      "  ✔ CCAA guardado: CSV_Mensuales\\ccaa\\2022_ccaa_enero_CASTILLA Y LEÓN.csv\n",
      "  ✔ CCAA guardado: CSV_Mensuales\\ccaa\\2022_ccaa_enero_GALICIA.csv\n",
      "  ✔ CCAA guardado: CSV_Mensuales\\ccaa\\2022_ccaa_enero_PRINCIPADO DE ASTURIAS.csv\n",
      "  ✔ CCAA guardado: CSV_Mensuales\\ccaa\\2022_ccaa_enero_CANTABRIA.csv\n",
      "  ✔ CCAA guardado: CSV_Mensuales\\ccaa\\2022_ccaa_enero_PAIS VASCO.csv\n",
      "  ✔ CCAA guardado: CSV_Mensuales\\ccaa\\2022_ccaa_enero_LA RIOJA.csv\n",
      "  ✔ CCAA guardado: CSV_Mensuales\\ccaa\\2022_ccaa_enero_C. FORAL DE NAVARRA.csv\n",
      "  ✔ CCAA guardado: CSV_Mensuales\\ccaa\\2022_ccaa_enero_CANARIAS.csv\n"
     ]
    },
    {
     "name": "stderr",
     "output_type": "stream",
     "text": [
      "C:\\Users\\Jokin\\AppData\\Local\\Temp\\ipykernel_76216\\1162139421.py:189: SettingWithCopyWarning: \n",
      "A value is trying to be set on a copy of a slice from a DataFrame.\n",
      "Try using .loc[row_indexer,col_indexer] = value instead\n",
      "\n",
      "See the caveats in the documentation: https://pandas.pydata.org/pandas-docs/stable/user_guide/indexing.html#returning-a-view-versus-a-copy\n",
      "  niveles_df['Nombre'] = niveles_df['Nombre'].astype(str).str.strip().str.upper()\n"
     ]
    },
    {
     "name": "stdout",
     "output_type": "stream",
     "text": [
      "  ✔ CCAA guardado: CSV_Mensuales\\ccaa\\2022_ccaa_febrero_T.ESPAÑA.csv\n",
      "  ✔ CCAA guardado: CSV_Mensuales\\ccaa\\2022_ccaa_febrero_CATALUÑA.csv\n",
      "  ✔ CCAA guardado: CSV_Mensuales\\ccaa\\2022_ccaa_febrero_ARAGÓN.csv\n",
      "  ✔ CCAA guardado: CSV_Mensuales\\ccaa\\2022_ccaa_febrero_ILLES BALEARS.csv\n",
      "  ✔ CCAA guardado: CSV_Mensuales\\ccaa\\2022_ccaa_febrero_COMUNITAT VALENCIANA.csv\n",
      "  ✔ CCAA guardado: CSV_Mensuales\\ccaa\\2022_ccaa_febrero_REGIÓN DE MURCIA.csv\n",
      "  ✔ CCAA guardado: CSV_Mensuales\\ccaa\\2022_ccaa_febrero_ANDALUCÍA.csv\n",
      "  ✔ CCAA guardado: CSV_Mensuales\\ccaa\\2022_ccaa_febrero_COMUNIDAD DE MADRID.csv\n",
      "  ✔ CCAA guardado: CSV_Mensuales\\ccaa\\2022_ccaa_febrero_CASTILLA - LA MANCHA.csv\n",
      "  ✔ CCAA guardado: CSV_Mensuales\\ccaa\\2022_ccaa_febrero_EXTREMADURA.csv\n",
      "  ✔ CCAA guardado: CSV_Mensuales\\ccaa\\2022_ccaa_febrero_CASTILLA Y LEÓN.csv\n",
      "  ✔ CCAA guardado: CSV_Mensuales\\ccaa\\2022_ccaa_febrero_GALICIA.csv\n",
      "  ✔ CCAA guardado: CSV_Mensuales\\ccaa\\2022_ccaa_febrero_PRINCIPADO DE ASTURIAS.csv\n",
      "  ✔ CCAA guardado: CSV_Mensuales\\ccaa\\2022_ccaa_febrero_CANTABRIA.csv\n",
      "  ✔ CCAA guardado: CSV_Mensuales\\ccaa\\2022_ccaa_febrero_PAIS VASCO.csv\n",
      "  ✔ CCAA guardado: CSV_Mensuales\\ccaa\\2022_ccaa_febrero_LA RIOJA.csv\n",
      "  ✔ CCAA guardado: CSV_Mensuales\\ccaa\\2022_ccaa_febrero_C. FORAL DE NAVARRA.csv\n",
      "  ✔ CCAA guardado: CSV_Mensuales\\ccaa\\2022_ccaa_febrero_CANARIAS.csv\n"
     ]
    },
    {
     "name": "stderr",
     "output_type": "stream",
     "text": [
      "C:\\Users\\Jokin\\AppData\\Local\\Temp\\ipykernel_76216\\1162139421.py:189: SettingWithCopyWarning: \n",
      "A value is trying to be set on a copy of a slice from a DataFrame.\n",
      "Try using .loc[row_indexer,col_indexer] = value instead\n",
      "\n",
      "See the caveats in the documentation: https://pandas.pydata.org/pandas-docs/stable/user_guide/indexing.html#returning-a-view-versus-a-copy\n",
      "  niveles_df['Nombre'] = niveles_df['Nombre'].astype(str).str.strip().str.upper()\n"
     ]
    },
    {
     "name": "stdout",
     "output_type": "stream",
     "text": [
      "  ✔ CCAA guardado: CSV_Mensuales\\ccaa\\2022_ccaa_marzo_T.ESPAÑA.csv\n",
      "  ✔ CCAA guardado: CSV_Mensuales\\ccaa\\2022_ccaa_marzo_CATALUÑA.csv\n",
      "  ✔ CCAA guardado: CSV_Mensuales\\ccaa\\2022_ccaa_marzo_ARAGÓN.csv\n",
      "  ✔ CCAA guardado: CSV_Mensuales\\ccaa\\2022_ccaa_marzo_ILLES BALEARS.csv\n",
      "  ✔ CCAA guardado: CSV_Mensuales\\ccaa\\2022_ccaa_marzo_COMUNITAT VALENCIANA.csv\n",
      "  ✔ CCAA guardado: CSV_Mensuales\\ccaa\\2022_ccaa_marzo_REGIÓN DE MURCIA.csv\n",
      "  ✔ CCAA guardado: CSV_Mensuales\\ccaa\\2022_ccaa_marzo_ANDALUCÍA.csv\n",
      "  ✔ CCAA guardado: CSV_Mensuales\\ccaa\\2022_ccaa_marzo_COMUNIDAD DE MADRID.csv\n",
      "  ✔ CCAA guardado: CSV_Mensuales\\ccaa\\2022_ccaa_marzo_CASTILLA - LA MANCHA.csv\n",
      "  ✔ CCAA guardado: CSV_Mensuales\\ccaa\\2022_ccaa_marzo_EXTREMADURA.csv\n",
      "  ✔ CCAA guardado: CSV_Mensuales\\ccaa\\2022_ccaa_marzo_CASTILLA Y LEÓN.csv\n",
      "  ✔ CCAA guardado: CSV_Mensuales\\ccaa\\2022_ccaa_marzo_GALICIA.csv\n",
      "  ✔ CCAA guardado: CSV_Mensuales\\ccaa\\2022_ccaa_marzo_PRINCIPADO DE ASTURIAS.csv\n",
      "  ✔ CCAA guardado: CSV_Mensuales\\ccaa\\2022_ccaa_marzo_CANTABRIA.csv\n",
      "  ✔ CCAA guardado: CSV_Mensuales\\ccaa\\2022_ccaa_marzo_PAIS VASCO.csv\n",
      "  ✔ CCAA guardado: CSV_Mensuales\\ccaa\\2022_ccaa_marzo_LA RIOJA.csv\n",
      "  ✔ CCAA guardado: CSV_Mensuales\\ccaa\\2022_ccaa_marzo_C. FORAL DE NAVARRA.csv\n",
      "  ✔ CCAA guardado: CSV_Mensuales\\ccaa\\2022_ccaa_marzo_CANARIAS.csv\n"
     ]
    },
    {
     "name": "stderr",
     "output_type": "stream",
     "text": [
      "C:\\Users\\Jokin\\AppData\\Local\\Temp\\ipykernel_76216\\1162139421.py:189: SettingWithCopyWarning: \n",
      "A value is trying to be set on a copy of a slice from a DataFrame.\n",
      "Try using .loc[row_indexer,col_indexer] = value instead\n",
      "\n",
      "See the caveats in the documentation: https://pandas.pydata.org/pandas-docs/stable/user_guide/indexing.html#returning-a-view-versus-a-copy\n",
      "  niveles_df['Nombre'] = niveles_df['Nombre'].astype(str).str.strip().str.upper()\n"
     ]
    },
    {
     "name": "stdout",
     "output_type": "stream",
     "text": [
      "  ✔ CCAA guardado: CSV_Mensuales\\ccaa\\2022_ccaa_abril_T.ESPAÑA.csv\n",
      "  ✔ CCAA guardado: CSV_Mensuales\\ccaa\\2022_ccaa_abril_CATALUÑA.csv\n",
      "  ✔ CCAA guardado: CSV_Mensuales\\ccaa\\2022_ccaa_abril_ARAGÓN.csv\n",
      "  ✔ CCAA guardado: CSV_Mensuales\\ccaa\\2022_ccaa_abril_ILLES BALEARS.csv\n",
      "  ✔ CCAA guardado: CSV_Mensuales\\ccaa\\2022_ccaa_abril_COMUNITAT VALENCIANA.csv\n",
      "  ✔ CCAA guardado: CSV_Mensuales\\ccaa\\2022_ccaa_abril_REGIÓN DE MURCIA.csv\n",
      "  ✔ CCAA guardado: CSV_Mensuales\\ccaa\\2022_ccaa_abril_ANDALUCÍA.csv\n",
      "  ✔ CCAA guardado: CSV_Mensuales\\ccaa\\2022_ccaa_abril_COMUNIDAD DE MADRID.csv\n",
      "  ✔ CCAA guardado: CSV_Mensuales\\ccaa\\2022_ccaa_abril_CASTILLA - LA MANCHA.csv\n",
      "  ✔ CCAA guardado: CSV_Mensuales\\ccaa\\2022_ccaa_abril_EXTREMADURA.csv\n",
      "  ✔ CCAA guardado: CSV_Mensuales\\ccaa\\2022_ccaa_abril_CASTILLA Y LEÓN.csv\n",
      "  ✔ CCAA guardado: CSV_Mensuales\\ccaa\\2022_ccaa_abril_GALICIA.csv\n",
      "  ✔ CCAA guardado: CSV_Mensuales\\ccaa\\2022_ccaa_abril_PRINCIPADO DE ASTURIAS.csv\n",
      "  ✔ CCAA guardado: CSV_Mensuales\\ccaa\\2022_ccaa_abril_CANTABRIA.csv\n",
      "  ✔ CCAA guardado: CSV_Mensuales\\ccaa\\2022_ccaa_abril_PAIS VASCO.csv\n",
      "  ✔ CCAA guardado: CSV_Mensuales\\ccaa\\2022_ccaa_abril_LA RIOJA.csv\n",
      "  ✔ CCAA guardado: CSV_Mensuales\\ccaa\\2022_ccaa_abril_C. FORAL DE NAVARRA.csv\n",
      "  ✔ CCAA guardado: CSV_Mensuales\\ccaa\\2022_ccaa_abril_CANARIAS.csv\n"
     ]
    },
    {
     "name": "stderr",
     "output_type": "stream",
     "text": [
      "C:\\Users\\Jokin\\AppData\\Local\\Temp\\ipykernel_76216\\1162139421.py:189: SettingWithCopyWarning: \n",
      "A value is trying to be set on a copy of a slice from a DataFrame.\n",
      "Try using .loc[row_indexer,col_indexer] = value instead\n",
      "\n",
      "See the caveats in the documentation: https://pandas.pydata.org/pandas-docs/stable/user_guide/indexing.html#returning-a-view-versus-a-copy\n",
      "  niveles_df['Nombre'] = niveles_df['Nombre'].astype(str).str.strip().str.upper()\n"
     ]
    },
    {
     "name": "stdout",
     "output_type": "stream",
     "text": [
      "  ✔ CCAA guardado: CSV_Mensuales\\ccaa\\2022_ccaa_mayo_T.ESPAÑA.csv\n",
      "  ✔ CCAA guardado: CSV_Mensuales\\ccaa\\2022_ccaa_mayo_CATALUÑA.csv\n",
      "  ✔ CCAA guardado: CSV_Mensuales\\ccaa\\2022_ccaa_mayo_ARAGÓN.csv\n",
      "  ✔ CCAA guardado: CSV_Mensuales\\ccaa\\2022_ccaa_mayo_ILLES BALEARS.csv\n",
      "  ✔ CCAA guardado: CSV_Mensuales\\ccaa\\2022_ccaa_mayo_COMUNITAT VALENCIANA.csv\n",
      "  ✔ CCAA guardado: CSV_Mensuales\\ccaa\\2022_ccaa_mayo_REGIÓN DE MURCIA.csv\n",
      "  ✔ CCAA guardado: CSV_Mensuales\\ccaa\\2022_ccaa_mayo_ANDALUCÍA.csv\n",
      "  ✔ CCAA guardado: CSV_Mensuales\\ccaa\\2022_ccaa_mayo_COMUNIDAD DE MADRID.csv\n",
      "  ✔ CCAA guardado: CSV_Mensuales\\ccaa\\2022_ccaa_mayo_CASTILLA - LA MANCHA.csv\n",
      "  ✔ CCAA guardado: CSV_Mensuales\\ccaa\\2022_ccaa_mayo_EXTREMADURA.csv\n",
      "  ✔ CCAA guardado: CSV_Mensuales\\ccaa\\2022_ccaa_mayo_CASTILLA Y LEÓN.csv\n",
      "  ✔ CCAA guardado: CSV_Mensuales\\ccaa\\2022_ccaa_mayo_GALICIA.csv\n",
      "  ✔ CCAA guardado: CSV_Mensuales\\ccaa\\2022_ccaa_mayo_PRINCIPADO DE ASTURIAS.csv\n",
      "  ✔ CCAA guardado: CSV_Mensuales\\ccaa\\2022_ccaa_mayo_CANTABRIA.csv\n",
      "  ✔ CCAA guardado: CSV_Mensuales\\ccaa\\2022_ccaa_mayo_PAIS VASCO.csv\n",
      "  ✔ CCAA guardado: CSV_Mensuales\\ccaa\\2022_ccaa_mayo_LA RIOJA.csv\n",
      "  ✔ CCAA guardado: CSV_Mensuales\\ccaa\\2022_ccaa_mayo_C. FORAL DE NAVARRA.csv\n",
      "  ✔ CCAA guardado: CSV_Mensuales\\ccaa\\2022_ccaa_mayo_CANARIAS.csv\n"
     ]
    },
    {
     "name": "stderr",
     "output_type": "stream",
     "text": [
      "C:\\Users\\Jokin\\AppData\\Local\\Temp\\ipykernel_76216\\1162139421.py:189: SettingWithCopyWarning: \n",
      "A value is trying to be set on a copy of a slice from a DataFrame.\n",
      "Try using .loc[row_indexer,col_indexer] = value instead\n",
      "\n",
      "See the caveats in the documentation: https://pandas.pydata.org/pandas-docs/stable/user_guide/indexing.html#returning-a-view-versus-a-copy\n",
      "  niveles_df['Nombre'] = niveles_df['Nombre'].astype(str).str.strip().str.upper()\n"
     ]
    },
    {
     "name": "stdout",
     "output_type": "stream",
     "text": [
      "  ✔ CCAA guardado: CSV_Mensuales\\ccaa\\2022_ccaa_junio_T.ESPAÑA.csv\n",
      "  ✔ CCAA guardado: CSV_Mensuales\\ccaa\\2022_ccaa_junio_CATALUÑA.csv\n",
      "  ✔ CCAA guardado: CSV_Mensuales\\ccaa\\2022_ccaa_junio_ARAGÓN.csv\n",
      "  ✔ CCAA guardado: CSV_Mensuales\\ccaa\\2022_ccaa_junio_ILLES BALEARS.csv\n",
      "  ✔ CCAA guardado: CSV_Mensuales\\ccaa\\2022_ccaa_junio_COMUNITAT VALENCIANA.csv\n",
      "  ✔ CCAA guardado: CSV_Mensuales\\ccaa\\2022_ccaa_junio_REGIÓN DE MURCIA.csv\n",
      "  ✔ CCAA guardado: CSV_Mensuales\\ccaa\\2022_ccaa_junio_ANDALUCÍA.csv\n",
      "  ✔ CCAA guardado: CSV_Mensuales\\ccaa\\2022_ccaa_junio_COMUNIDAD DE MADRID.csv\n",
      "  ✔ CCAA guardado: CSV_Mensuales\\ccaa\\2022_ccaa_junio_CASTILLA - LA MANCHA.csv\n",
      "  ✔ CCAA guardado: CSV_Mensuales\\ccaa\\2022_ccaa_junio_EXTREMADURA.csv\n",
      "  ✔ CCAA guardado: CSV_Mensuales\\ccaa\\2022_ccaa_junio_CASTILLA Y LEÓN.csv\n",
      "  ✔ CCAA guardado: CSV_Mensuales\\ccaa\\2022_ccaa_junio_GALICIA.csv\n",
      "  ✔ CCAA guardado: CSV_Mensuales\\ccaa\\2022_ccaa_junio_PRINCIPADO DE ASTURIAS.csv\n",
      "  ✔ CCAA guardado: CSV_Mensuales\\ccaa\\2022_ccaa_junio_CANTABRIA.csv\n",
      "  ✔ CCAA guardado: CSV_Mensuales\\ccaa\\2022_ccaa_junio_PAIS VASCO.csv\n",
      "  ✔ CCAA guardado: CSV_Mensuales\\ccaa\\2022_ccaa_junio_LA RIOJA.csv\n"
     ]
    },
    {
     "name": "stderr",
     "output_type": "stream",
     "text": [
      "C:\\Users\\Jokin\\AppData\\Local\\Temp\\ipykernel_76216\\1162139421.py:189: SettingWithCopyWarning: \n",
      "A value is trying to be set on a copy of a slice from a DataFrame.\n",
      "Try using .loc[row_indexer,col_indexer] = value instead\n",
      "\n",
      "See the caveats in the documentation: https://pandas.pydata.org/pandas-docs/stable/user_guide/indexing.html#returning-a-view-versus-a-copy\n",
      "  niveles_df['Nombre'] = niveles_df['Nombre'].astype(str).str.strip().str.upper()\n"
     ]
    },
    {
     "name": "stdout",
     "output_type": "stream",
     "text": [
      "  ✔ CCAA guardado: CSV_Mensuales\\ccaa\\2022_ccaa_junio_C. FORAL DE NAVARRA.csv\n",
      "  ✔ CCAA guardado: CSV_Mensuales\\ccaa\\2022_ccaa_junio_CANARIAS.csv\n",
      "  ✔ CCAA guardado: CSV_Mensuales\\ccaa\\2022_ccaa_julio_T.ESPAÑA.csv\n",
      "  ✔ CCAA guardado: CSV_Mensuales\\ccaa\\2022_ccaa_julio_CATALUÑA.csv\n",
      "  ✔ CCAA guardado: CSV_Mensuales\\ccaa\\2022_ccaa_julio_ARAGÓN.csv\n",
      "  ✔ CCAA guardado: CSV_Mensuales\\ccaa\\2022_ccaa_julio_ILLES BALEARS.csv\n",
      "  ✔ CCAA guardado: CSV_Mensuales\\ccaa\\2022_ccaa_julio_COMUNITAT VALENCIANA.csv\n",
      "  ✔ CCAA guardado: CSV_Mensuales\\ccaa\\2022_ccaa_julio_REGIÓN DE MURCIA.csv\n",
      "  ✔ CCAA guardado: CSV_Mensuales\\ccaa\\2022_ccaa_julio_ANDALUCÍA.csv\n",
      "  ✔ CCAA guardado: CSV_Mensuales\\ccaa\\2022_ccaa_julio_COMUNIDAD DE MADRID.csv\n",
      "  ✔ CCAA guardado: CSV_Mensuales\\ccaa\\2022_ccaa_julio_CASTILLA - LA MANCHA.csv\n",
      "  ✔ CCAA guardado: CSV_Mensuales\\ccaa\\2022_ccaa_julio_EXTREMADURA.csv\n",
      "  ✔ CCAA guardado: CSV_Mensuales\\ccaa\\2022_ccaa_julio_CASTILLA Y LEÓN.csv\n",
      "  ✔ CCAA guardado: CSV_Mensuales\\ccaa\\2022_ccaa_julio_GALICIA.csv\n",
      "  ✔ CCAA guardado: CSV_Mensuales\\ccaa\\2022_ccaa_julio_PRINCIPADO DE ASTURIAS.csv\n",
      "  ✔ CCAA guardado: CSV_Mensuales\\ccaa\\2022_ccaa_julio_CANTABRIA.csv\n",
      "  ✔ CCAA guardado: CSV_Mensuales\\ccaa\\2022_ccaa_julio_PAIS VASCO.csv\n",
      "  ✔ CCAA guardado: CSV_Mensuales\\ccaa\\2022_ccaa_julio_LA RIOJA.csv\n",
      "  ✔ CCAA guardado: CSV_Mensuales\\ccaa\\2022_ccaa_julio_C. FORAL DE NAVARRA.csv\n",
      "  ✔ CCAA guardado: CSV_Mensuales\\ccaa\\2022_ccaa_julio_CANARIAS.csv\n"
     ]
    },
    {
     "name": "stderr",
     "output_type": "stream",
     "text": [
      "C:\\Users\\Jokin\\AppData\\Local\\Temp\\ipykernel_76216\\1162139421.py:189: SettingWithCopyWarning: \n",
      "A value is trying to be set on a copy of a slice from a DataFrame.\n",
      "Try using .loc[row_indexer,col_indexer] = value instead\n",
      "\n",
      "See the caveats in the documentation: https://pandas.pydata.org/pandas-docs/stable/user_guide/indexing.html#returning-a-view-versus-a-copy\n",
      "  niveles_df['Nombre'] = niveles_df['Nombre'].astype(str).str.strip().str.upper()\n"
     ]
    },
    {
     "name": "stdout",
     "output_type": "stream",
     "text": [
      "  ✔ CCAA guardado: CSV_Mensuales\\ccaa\\2022_ccaa_agosto_T.ESPAÑA.csv\n",
      "  ✔ CCAA guardado: CSV_Mensuales\\ccaa\\2022_ccaa_agosto_CATALUÑA.csv\n",
      "  ✔ CCAA guardado: CSV_Mensuales\\ccaa\\2022_ccaa_agosto_ARAGÓN.csv\n",
      "  ✔ CCAA guardado: CSV_Mensuales\\ccaa\\2022_ccaa_agosto_ILLES BALEARS.csv\n",
      "  ✔ CCAA guardado: CSV_Mensuales\\ccaa\\2022_ccaa_agosto_COMUNITAT VALENCIANA.csv\n",
      "  ✔ CCAA guardado: CSV_Mensuales\\ccaa\\2022_ccaa_agosto_REGIÓN DE MURCIA.csv\n",
      "  ✔ CCAA guardado: CSV_Mensuales\\ccaa\\2022_ccaa_agosto_ANDALUCÍA.csv\n",
      "  ✔ CCAA guardado: CSV_Mensuales\\ccaa\\2022_ccaa_agosto_COMUNIDAD DE MADRID.csv\n",
      "  ✔ CCAA guardado: CSV_Mensuales\\ccaa\\2022_ccaa_agosto_CASTILLA - LA MANCHA.csv\n",
      "  ✔ CCAA guardado: CSV_Mensuales\\ccaa\\2022_ccaa_agosto_EXTREMADURA.csv\n",
      "  ✔ CCAA guardado: CSV_Mensuales\\ccaa\\2022_ccaa_agosto_CASTILLA Y LEÓN.csv\n",
      "  ✔ CCAA guardado: CSV_Mensuales\\ccaa\\2022_ccaa_agosto_GALICIA.csv\n",
      "  ✔ CCAA guardado: CSV_Mensuales\\ccaa\\2022_ccaa_agosto_PRINCIPADO DE ASTURIAS.csv\n",
      "  ✔ CCAA guardado: CSV_Mensuales\\ccaa\\2022_ccaa_agosto_CANTABRIA.csv\n",
      "  ✔ CCAA guardado: CSV_Mensuales\\ccaa\\2022_ccaa_agosto_PAIS VASCO.csv\n",
      "  ✔ CCAA guardado: CSV_Mensuales\\ccaa\\2022_ccaa_agosto_LA RIOJA.csv\n",
      "  ✔ CCAA guardado: CSV_Mensuales\\ccaa\\2022_ccaa_agosto_C. FORAL DE NAVARRA.csv\n",
      "  ✔ CCAA guardado: CSV_Mensuales\\ccaa\\2022_ccaa_agosto_CANARIAS.csv\n"
     ]
    },
    {
     "name": "stderr",
     "output_type": "stream",
     "text": [
      "C:\\Users\\Jokin\\AppData\\Local\\Temp\\ipykernel_76216\\1162139421.py:189: SettingWithCopyWarning: \n",
      "A value is trying to be set on a copy of a slice from a DataFrame.\n",
      "Try using .loc[row_indexer,col_indexer] = value instead\n",
      "\n",
      "See the caveats in the documentation: https://pandas.pydata.org/pandas-docs/stable/user_guide/indexing.html#returning-a-view-versus-a-copy\n",
      "  niveles_df['Nombre'] = niveles_df['Nombre'].astype(str).str.strip().str.upper()\n"
     ]
    },
    {
     "name": "stdout",
     "output_type": "stream",
     "text": [
      "  ✔ CCAA guardado: CSV_Mensuales\\ccaa\\2022_ccaa_septiembre_T.ESPAÑA.csv\n",
      "  ✔ CCAA guardado: CSV_Mensuales\\ccaa\\2022_ccaa_septiembre_CATALUÑA.csv\n",
      "  ✔ CCAA guardado: CSV_Mensuales\\ccaa\\2022_ccaa_septiembre_ARAGÓN.csv\n",
      "  ✔ CCAA guardado: CSV_Mensuales\\ccaa\\2022_ccaa_septiembre_ILLES BALEARS.csv\n",
      "  ✔ CCAA guardado: CSV_Mensuales\\ccaa\\2022_ccaa_septiembre_COMUNITAT VALENCIANA.csv\n",
      "  ✔ CCAA guardado: CSV_Mensuales\\ccaa\\2022_ccaa_septiembre_REGIÓN DE MURCIA.csv\n",
      "  ✔ CCAA guardado: CSV_Mensuales\\ccaa\\2022_ccaa_septiembre_ANDALUCÍA.csv\n",
      "  ✔ CCAA guardado: CSV_Mensuales\\ccaa\\2022_ccaa_septiembre_COMUNIDAD DE MADRID.csv\n",
      "  ✔ CCAA guardado: CSV_Mensuales\\ccaa\\2022_ccaa_septiembre_CASTILLA - LA MANCHA.csv\n",
      "  ✔ CCAA guardado: CSV_Mensuales\\ccaa\\2022_ccaa_septiembre_EXTREMADURA.csv\n",
      "  ✔ CCAA guardado: CSV_Mensuales\\ccaa\\2022_ccaa_septiembre_CASTILLA Y LEÓN.csv\n",
      "  ✔ CCAA guardado: CSV_Mensuales\\ccaa\\2022_ccaa_septiembre_GALICIA.csv\n",
      "  ✔ CCAA guardado: CSV_Mensuales\\ccaa\\2022_ccaa_septiembre_PRINCIPADO DE ASTURIAS.csv\n",
      "  ✔ CCAA guardado: CSV_Mensuales\\ccaa\\2022_ccaa_septiembre_CANTABRIA.csv\n",
      "  ✔ CCAA guardado: CSV_Mensuales\\ccaa\\2022_ccaa_septiembre_PAIS VASCO.csv\n",
      "  ✔ CCAA guardado: CSV_Mensuales\\ccaa\\2022_ccaa_septiembre_LA RIOJA.csv\n",
      "  ✔ CCAA guardado: CSV_Mensuales\\ccaa\\2022_ccaa_septiembre_C. FORAL DE NAVARRA.csv\n",
      "  ✔ CCAA guardado: CSV_Mensuales\\ccaa\\2022_ccaa_septiembre_CANARIAS.csv\n"
     ]
    },
    {
     "name": "stderr",
     "output_type": "stream",
     "text": [
      "C:\\Users\\Jokin\\AppData\\Local\\Temp\\ipykernel_76216\\1162139421.py:189: SettingWithCopyWarning: \n",
      "A value is trying to be set on a copy of a slice from a DataFrame.\n",
      "Try using .loc[row_indexer,col_indexer] = value instead\n",
      "\n",
      "See the caveats in the documentation: https://pandas.pydata.org/pandas-docs/stable/user_guide/indexing.html#returning-a-view-versus-a-copy\n",
      "  niveles_df['Nombre'] = niveles_df['Nombre'].astype(str).str.strip().str.upper()\n"
     ]
    },
    {
     "name": "stdout",
     "output_type": "stream",
     "text": [
      "  ✔ CCAA guardado: CSV_Mensuales\\ccaa\\2022_ccaa_octubre_T.ESPAÑA.csv\n",
      "  ✔ CCAA guardado: CSV_Mensuales\\ccaa\\2022_ccaa_octubre_CATALUÑA.csv\n",
      "  ✔ CCAA guardado: CSV_Mensuales\\ccaa\\2022_ccaa_octubre_ARAGÓN.csv\n",
      "  ✔ CCAA guardado: CSV_Mensuales\\ccaa\\2022_ccaa_octubre_ILLES BALEARS.csv\n",
      "  ✔ CCAA guardado: CSV_Mensuales\\ccaa\\2022_ccaa_octubre_COMUNITAT VALENCIANA.csv\n",
      "  ✔ CCAA guardado: CSV_Mensuales\\ccaa\\2022_ccaa_octubre_REGIÓN DE MURCIA.csv\n",
      "  ✔ CCAA guardado: CSV_Mensuales\\ccaa\\2022_ccaa_octubre_ANDALUCÍA.csv\n",
      "  ✔ CCAA guardado: CSV_Mensuales\\ccaa\\2022_ccaa_octubre_COMUNIDAD DE MADRID.csv\n",
      "  ✔ CCAA guardado: CSV_Mensuales\\ccaa\\2022_ccaa_octubre_CASTILLA - LA MANCHA.csv\n",
      "  ✔ CCAA guardado: CSV_Mensuales\\ccaa\\2022_ccaa_octubre_EXTREMADURA.csv\n",
      "  ✔ CCAA guardado: CSV_Mensuales\\ccaa\\2022_ccaa_octubre_CASTILLA Y LEÓN.csv\n",
      "  ✔ CCAA guardado: CSV_Mensuales\\ccaa\\2022_ccaa_octubre_GALICIA.csv\n",
      "  ✔ CCAA guardado: CSV_Mensuales\\ccaa\\2022_ccaa_octubre_PRINCIPADO DE ASTURIAS.csv\n",
      "  ✔ CCAA guardado: CSV_Mensuales\\ccaa\\2022_ccaa_octubre_CANTABRIA.csv\n",
      "  ✔ CCAA guardado: CSV_Mensuales\\ccaa\\2022_ccaa_octubre_PAIS VASCO.csv\n",
      "  ✔ CCAA guardado: CSV_Mensuales\\ccaa\\2022_ccaa_octubre_LA RIOJA.csv\n",
      "  ✔ CCAA guardado: CSV_Mensuales\\ccaa\\2022_ccaa_octubre_C. FORAL DE NAVARRA.csv\n",
      "  ✔ CCAA guardado: CSV_Mensuales\\ccaa\\2022_ccaa_octubre_CANARIAS.csv\n"
     ]
    },
    {
     "name": "stderr",
     "output_type": "stream",
     "text": [
      "C:\\Users\\Jokin\\AppData\\Local\\Temp\\ipykernel_76216\\1162139421.py:189: SettingWithCopyWarning: \n",
      "A value is trying to be set on a copy of a slice from a DataFrame.\n",
      "Try using .loc[row_indexer,col_indexer] = value instead\n",
      "\n",
      "See the caveats in the documentation: https://pandas.pydata.org/pandas-docs/stable/user_guide/indexing.html#returning-a-view-versus-a-copy\n",
      "  niveles_df['Nombre'] = niveles_df['Nombre'].astype(str).str.strip().str.upper()\n"
     ]
    },
    {
     "name": "stdout",
     "output_type": "stream",
     "text": [
      "  ✔ CCAA guardado: CSV_Mensuales\\ccaa\\2022_ccaa_noviembre_T.ESPAÑA.csv\n",
      "  ✔ CCAA guardado: CSV_Mensuales\\ccaa\\2022_ccaa_noviembre_CATALUÑA.csv\n",
      "  ✔ CCAA guardado: CSV_Mensuales\\ccaa\\2022_ccaa_noviembre_ARAGÓN.csv\n",
      "  ✔ CCAA guardado: CSV_Mensuales\\ccaa\\2022_ccaa_noviembre_ILLES BALEARS.csv\n",
      "  ✔ CCAA guardado: CSV_Mensuales\\ccaa\\2022_ccaa_noviembre_COMUNITAT VALENCIANA.csv\n",
      "  ✔ CCAA guardado: CSV_Mensuales\\ccaa\\2022_ccaa_noviembre_REGIÓN DE MURCIA.csv\n",
      "  ✔ CCAA guardado: CSV_Mensuales\\ccaa\\2022_ccaa_noviembre_ANDALUCÍA.csv\n",
      "  ✔ CCAA guardado: CSV_Mensuales\\ccaa\\2022_ccaa_noviembre_COMUNIDAD DE MADRID.csv\n",
      "  ✔ CCAA guardado: CSV_Mensuales\\ccaa\\2022_ccaa_noviembre_CASTILLA - LA MANCHA.csv\n",
      "  ✔ CCAA guardado: CSV_Mensuales\\ccaa\\2022_ccaa_noviembre_EXTREMADURA.csv\n",
      "  ✔ CCAA guardado: CSV_Mensuales\\ccaa\\2022_ccaa_noviembre_CASTILLA Y LEÓN.csv\n",
      "  ✔ CCAA guardado: CSV_Mensuales\\ccaa\\2022_ccaa_noviembre_GALICIA.csv\n",
      "  ✔ CCAA guardado: CSV_Mensuales\\ccaa\\2022_ccaa_noviembre_PRINCIPADO DE ASTURIAS.csv\n",
      "  ✔ CCAA guardado: CSV_Mensuales\\ccaa\\2022_ccaa_noviembre_CANTABRIA.csv\n",
      "  ✔ CCAA guardado: CSV_Mensuales\\ccaa\\2022_ccaa_noviembre_PAIS VASCO.csv\n",
      "  ✔ CCAA guardado: CSV_Mensuales\\ccaa\\2022_ccaa_noviembre_LA RIOJA.csv\n",
      "  ✔ CCAA guardado: CSV_Mensuales\\ccaa\\2022_ccaa_noviembre_C. FORAL DE NAVARRA.csv\n",
      "  ✔ CCAA guardado: CSV_Mensuales\\ccaa\\2022_ccaa_noviembre_CANARIAS.csv\n"
     ]
    },
    {
     "name": "stderr",
     "output_type": "stream",
     "text": [
      "C:\\Users\\Jokin\\AppData\\Local\\Temp\\ipykernel_76216\\1162139421.py:189: SettingWithCopyWarning: \n",
      "A value is trying to be set on a copy of a slice from a DataFrame.\n",
      "Try using .loc[row_indexer,col_indexer] = value instead\n",
      "\n",
      "See the caveats in the documentation: https://pandas.pydata.org/pandas-docs/stable/user_guide/indexing.html#returning-a-view-versus-a-copy\n",
      "  niveles_df['Nombre'] = niveles_df['Nombre'].astype(str).str.strip().str.upper()\n"
     ]
    },
    {
     "name": "stdout",
     "output_type": "stream",
     "text": [
      "  ✔ CCAA guardado: CSV_Mensuales\\ccaa\\2022_ccaa_diciembre_T.ESPAÑA.csv\n",
      "  ✔ CCAA guardado: CSV_Mensuales\\ccaa\\2022_ccaa_diciembre_CATALUÑA.csv\n",
      "  ✔ CCAA guardado: CSV_Mensuales\\ccaa\\2022_ccaa_diciembre_ARAGÓN.csv\n",
      "  ✔ CCAA guardado: CSV_Mensuales\\ccaa\\2022_ccaa_diciembre_ILLES BALEARS.csv\n",
      "  ✔ CCAA guardado: CSV_Mensuales\\ccaa\\2022_ccaa_diciembre_COMUNITAT VALENCIANA.csv\n",
      "  ✔ CCAA guardado: CSV_Mensuales\\ccaa\\2022_ccaa_diciembre_REGIÓN DE MURCIA.csv\n",
      "  ✔ CCAA guardado: CSV_Mensuales\\ccaa\\2022_ccaa_diciembre_ANDALUCÍA.csv\n",
      "  ✔ CCAA guardado: CSV_Mensuales\\ccaa\\2022_ccaa_diciembre_COMUNIDAD DE MADRID.csv\n",
      "  ✔ CCAA guardado: CSV_Mensuales\\ccaa\\2022_ccaa_diciembre_CASTILLA - LA MANCHA.csv\n",
      "  ✔ CCAA guardado: CSV_Mensuales\\ccaa\\2022_ccaa_diciembre_EXTREMADURA.csv\n",
      "  ✔ CCAA guardado: CSV_Mensuales\\ccaa\\2022_ccaa_diciembre_CASTILLA Y LEÓN.csv\n",
      "  ✔ CCAA guardado: CSV_Mensuales\\ccaa\\2022_ccaa_diciembre_GALICIA.csv\n",
      "  ✔ CCAA guardado: CSV_Mensuales\\ccaa\\2022_ccaa_diciembre_PRINCIPADO DE ASTURIAS.csv\n",
      "  ✔ CCAA guardado: CSV_Mensuales\\ccaa\\2022_ccaa_diciembre_CANTABRIA.csv\n",
      "  ✔ CCAA guardado: CSV_Mensuales\\ccaa\\2022_ccaa_diciembre_PAIS VASCO.csv\n",
      "  ✔ CCAA guardado: CSV_Mensuales\\ccaa\\2022_ccaa_diciembre_LA RIOJA.csv\n",
      "  ✔ CCAA guardado: CSV_Mensuales\\ccaa\\2022_ccaa_diciembre_C. FORAL DE NAVARRA.csv\n",
      "  ✔ CCAA guardado: CSV_Mensuales\\ccaa\\2022_ccaa_diciembre_CANARIAS.csv\n",
      "\n",
      "📂 Procesando archivo mensual: 2022_sd_datos_mensuales_panel_consumo_hogares_base2021_tcm30_686112_sociodem.xlsx\n"
     ]
    },
    {
     "name": "stderr",
     "output_type": "stream",
     "text": [
      "C:\\Users\\Jokin\\AppData\\Local\\Temp\\ipykernel_76216\\1162139421.py:189: SettingWithCopyWarning: \n",
      "A value is trying to be set on a copy of a slice from a DataFrame.\n",
      "Try using .loc[row_indexer,col_indexer] = value instead\n",
      "\n",
      "See the caveats in the documentation: https://pandas.pydata.org/pandas-docs/stable/user_guide/indexing.html#returning-a-view-versus-a-copy\n",
      "  niveles_df['Nombre'] = niveles_df['Nombre'].astype(str).str.strip().str.upper()\n"
     ]
    },
    {
     "name": "stdout",
     "output_type": "stream",
     "text": [
      "  📄 Procesando hoja: enero\n"
     ]
    },
    {
     "name": "stderr",
     "output_type": "stream",
     "text": [
      "C:\\Users\\Jokin\\AppData\\Local\\Temp\\ipykernel_76216\\1162139421.py:92: FutureWarning: DataFrame.applymap has been deprecated. Use DataFrame.map instead.\n",
      "  df = df.applymap(lambda x: x.strip() if isinstance(x, str) else x)\n",
      "C:\\Users\\Jokin\\AppData\\Local\\Temp\\ipykernel_76216\\1162139421.py:164: SettingWithCopyWarning: \n",
      "A value is trying to be set on a copy of a slice from a DataFrame.\n",
      "Try using .loc[row_indexer,col_indexer] = value instead\n",
      "\n",
      "See the caveats in the documentation: https://pandas.pydata.org/pandas-docs/stable/user_guide/indexing.html#returning-a-view-versus-a-copy\n",
      "  niveles_df['Nombre'] = niveles_df['Nombre'].astype(str).str.strip().str.upper()\n"
     ]
    },
    {
     "name": "stdout",
     "output_type": "stream",
     "text": [
      "    ✔ CSV creado: CSV_Mensuales\\sociodem\\2022_sociodem_enero_CONSUMO_X_CAPITA.csv\n",
      "    ✔ CSV creado: CSV_Mensuales\\sociodem\\2022_sociodem_enero_GASTO_X_CAPITA.csv\n",
      "    ✔ CSV creado: CSV_Mensuales\\sociodem\\2022_sociodem_enero_PENETRACION.csv\n",
      "    ✔ CSV creado: CSV_Mensuales\\sociodem\\2022_sociodem_enero_PRECIO_MEDIO_KG_Ó_LITROS.csv\n",
      "    ✔ CSV creado: CSV_Mensuales\\sociodem\\2022_sociodem_enero_VALOR_MILES_EUROS.csv\n",
      "    ✔ CSV creado: CSV_Mensuales\\sociodem\\2022_sociodem_enero_VOLUMEN_MILES_KG_Ó_LITROS.csv\n",
      "  📄 Procesando hoja: febrero\n"
     ]
    },
    {
     "name": "stderr",
     "output_type": "stream",
     "text": [
      "C:\\Users\\Jokin\\AppData\\Local\\Temp\\ipykernel_76216\\1162139421.py:92: FutureWarning: DataFrame.applymap has been deprecated. Use DataFrame.map instead.\n",
      "  df = df.applymap(lambda x: x.strip() if isinstance(x, str) else x)\n"
     ]
    },
    {
     "name": "stdout",
     "output_type": "stream",
     "text": [
      "    ✔ CSV creado: CSV_Mensuales\\sociodem\\2022_sociodem_febrero_CONSUMO_X_CAPITA.csv\n",
      "    ✔ CSV creado: CSV_Mensuales\\sociodem\\2022_sociodem_febrero_GASTO_X_CAPITA.csv\n",
      "    ✔ CSV creado: CSV_Mensuales\\sociodem\\2022_sociodem_febrero_PENETRACION.csv\n",
      "    ✔ CSV creado: CSV_Mensuales\\sociodem\\2022_sociodem_febrero_PRECIO_MEDIO_KG_Ó_LITROS.csv\n",
      "    ✔ CSV creado: CSV_Mensuales\\sociodem\\2022_sociodem_febrero_VALOR_MILES_EUROS.csv\n",
      "    ✔ CSV creado: CSV_Mensuales\\sociodem\\2022_sociodem_febrero_VOLUMEN_MILES_KG_Ó_LITROS.csv\n",
      "  📄 Procesando hoja: marzo\n"
     ]
    },
    {
     "name": "stderr",
     "output_type": "stream",
     "text": [
      "C:\\Users\\Jokin\\AppData\\Local\\Temp\\ipykernel_76216\\1162139421.py:92: FutureWarning: DataFrame.applymap has been deprecated. Use DataFrame.map instead.\n",
      "  df = df.applymap(lambda x: x.strip() if isinstance(x, str) else x)\n"
     ]
    },
    {
     "name": "stdout",
     "output_type": "stream",
     "text": [
      "    ✔ CSV creado: CSV_Mensuales\\sociodem\\2022_sociodem_marzo_CONSUMO_X_CAPITA.csv\n",
      "    ✔ CSV creado: CSV_Mensuales\\sociodem\\2022_sociodem_marzo_GASTO_X_CAPITA.csv\n",
      "    ✔ CSV creado: CSV_Mensuales\\sociodem\\2022_sociodem_marzo_PENETRACION.csv\n",
      "    ✔ CSV creado: CSV_Mensuales\\sociodem\\2022_sociodem_marzo_PRECIO_MEDIO_KG_Ó_LITROS.csv\n",
      "    ✔ CSV creado: CSV_Mensuales\\sociodem\\2022_sociodem_marzo_VALOR_MILES_EUROS.csv\n",
      "    ✔ CSV creado: CSV_Mensuales\\sociodem\\2022_sociodem_marzo_VOLUMEN_MILES_KG_Ó_LITROS.csv\n",
      "  📄 Procesando hoja: abril\n"
     ]
    },
    {
     "name": "stderr",
     "output_type": "stream",
     "text": [
      "C:\\Users\\Jokin\\AppData\\Local\\Temp\\ipykernel_76216\\1162139421.py:92: FutureWarning: DataFrame.applymap has been deprecated. Use DataFrame.map instead.\n",
      "  df = df.applymap(lambda x: x.strip() if isinstance(x, str) else x)\n"
     ]
    },
    {
     "name": "stdout",
     "output_type": "stream",
     "text": [
      "    ✔ CSV creado: CSV_Mensuales\\sociodem\\2022_sociodem_abril_CONSUMO_X_CAPITA.csv\n",
      "    ✔ CSV creado: CSV_Mensuales\\sociodem\\2022_sociodem_abril_GASTO_X_CAPITA.csv\n",
      "    ✔ CSV creado: CSV_Mensuales\\sociodem\\2022_sociodem_abril_PENETRACION.csv\n",
      "    ✔ CSV creado: CSV_Mensuales\\sociodem\\2022_sociodem_abril_PRECIO_MEDIO_KG_Ó_LITROS.csv\n",
      "    ✔ CSV creado: CSV_Mensuales\\sociodem\\2022_sociodem_abril_VALOR_MILES_EUROS.csv\n",
      "    ✔ CSV creado: CSV_Mensuales\\sociodem\\2022_sociodem_abril_VOLUMEN_MILES_KG_Ó_LITROS.csv\n",
      "  📄 Procesando hoja: mayo\n"
     ]
    },
    {
     "name": "stderr",
     "output_type": "stream",
     "text": [
      "C:\\Users\\Jokin\\AppData\\Local\\Temp\\ipykernel_76216\\1162139421.py:92: FutureWarning: DataFrame.applymap has been deprecated. Use DataFrame.map instead.\n",
      "  df = df.applymap(lambda x: x.strip() if isinstance(x, str) else x)\n"
     ]
    },
    {
     "name": "stdout",
     "output_type": "stream",
     "text": [
      "    ✔ CSV creado: CSV_Mensuales\\sociodem\\2022_sociodem_mayo_CONSUMO_X_CAPITA.csv\n",
      "    ✔ CSV creado: CSV_Mensuales\\sociodem\\2022_sociodem_mayo_GASTO_X_CAPITA.csv\n",
      "    ✔ CSV creado: CSV_Mensuales\\sociodem\\2022_sociodem_mayo_PENETRACION.csv\n",
      "    ✔ CSV creado: CSV_Mensuales\\sociodem\\2022_sociodem_mayo_PRECIO_MEDIO_KG_Ó_LITROS.csv\n",
      "    ✔ CSV creado: CSV_Mensuales\\sociodem\\2022_sociodem_mayo_VALOR_MILES_EUROS.csv\n",
      "    ✔ CSV creado: CSV_Mensuales\\sociodem\\2022_sociodem_mayo_VOLUMEN_MILES_KG_Ó_LITROS.csv\n",
      "  📄 Procesando hoja: junio\n"
     ]
    },
    {
     "name": "stderr",
     "output_type": "stream",
     "text": [
      "C:\\Users\\Jokin\\AppData\\Local\\Temp\\ipykernel_76216\\1162139421.py:92: FutureWarning: DataFrame.applymap has been deprecated. Use DataFrame.map instead.\n",
      "  df = df.applymap(lambda x: x.strip() if isinstance(x, str) else x)\n"
     ]
    },
    {
     "name": "stdout",
     "output_type": "stream",
     "text": [
      "    ✔ CSV creado: CSV_Mensuales\\sociodem\\2022_sociodem_junio_CONSUMO_X_CAPITA.csv\n",
      "    ✔ CSV creado: CSV_Mensuales\\sociodem\\2022_sociodem_junio_GASTO_X_CAPITA.csv\n",
      "    ✔ CSV creado: CSV_Mensuales\\sociodem\\2022_sociodem_junio_PENETRACION.csv\n",
      "    ✔ CSV creado: CSV_Mensuales\\sociodem\\2022_sociodem_junio_PRECIO_MEDIO_KG_Ó_LITROS.csv\n",
      "    ✔ CSV creado: CSV_Mensuales\\sociodem\\2022_sociodem_junio_VALOR_MILES_EUROS.csv\n",
      "    ✔ CSV creado: CSV_Mensuales\\sociodem\\2022_sociodem_junio_VOLUMEN_MILES_KG_Ó_LITROS.csv\n",
      "  📄 Procesando hoja: julio\n"
     ]
    },
    {
     "name": "stderr",
     "output_type": "stream",
     "text": [
      "C:\\Users\\Jokin\\AppData\\Local\\Temp\\ipykernel_76216\\1162139421.py:92: FutureWarning: DataFrame.applymap has been deprecated. Use DataFrame.map instead.\n",
      "  df = df.applymap(lambda x: x.strip() if isinstance(x, str) else x)\n"
     ]
    },
    {
     "name": "stdout",
     "output_type": "stream",
     "text": [
      "    ✔ CSV creado: CSV_Mensuales\\sociodem\\2022_sociodem_julio_CONSUMO_X_CAPITA.csv\n",
      "    ✔ CSV creado: CSV_Mensuales\\sociodem\\2022_sociodem_julio_GASTO_X_CAPITA.csv\n",
      "    ✔ CSV creado: CSV_Mensuales\\sociodem\\2022_sociodem_julio_PENETRACION.csv\n",
      "    ✔ CSV creado: CSV_Mensuales\\sociodem\\2022_sociodem_julio_PRECIO_MEDIO_KG_Ó_LITROS.csv\n",
      "    ✔ CSV creado: CSV_Mensuales\\sociodem\\2022_sociodem_julio_VALOR_MILES_EUROS.csv\n",
      "    ✔ CSV creado: CSV_Mensuales\\sociodem\\2022_sociodem_julio_VOLUMEN_MILES_KG_Ó_LITROS.csv\n",
      "  📄 Procesando hoja: agosto\n"
     ]
    },
    {
     "name": "stderr",
     "output_type": "stream",
     "text": [
      "C:\\Users\\Jokin\\AppData\\Local\\Temp\\ipykernel_76216\\1162139421.py:92: FutureWarning: DataFrame.applymap has been deprecated. Use DataFrame.map instead.\n",
      "  df = df.applymap(lambda x: x.strip() if isinstance(x, str) else x)\n"
     ]
    },
    {
     "name": "stdout",
     "output_type": "stream",
     "text": [
      "    ✔ CSV creado: CSV_Mensuales\\sociodem\\2022_sociodem_agosto_CONSUMO_X_CAPITA.csv\n",
      "    ✔ CSV creado: CSV_Mensuales\\sociodem\\2022_sociodem_agosto_GASTO_X_CAPITA.csv\n",
      "    ✔ CSV creado: CSV_Mensuales\\sociodem\\2022_sociodem_agosto_PENETRACION.csv\n",
      "    ✔ CSV creado: CSV_Mensuales\\sociodem\\2022_sociodem_agosto_PRECIO_MEDIO_KG_Ó_LITROS.csv\n",
      "    ✔ CSV creado: CSV_Mensuales\\sociodem\\2022_sociodem_agosto_VALOR_MILES_EUROS.csv\n",
      "    ✔ CSV creado: CSV_Mensuales\\sociodem\\2022_sociodem_agosto_VOLUMEN_MILES_KG_Ó_LITROS.csv\n",
      "  📄 Procesando hoja: septiembre\n"
     ]
    },
    {
     "name": "stderr",
     "output_type": "stream",
     "text": [
      "C:\\Users\\Jokin\\AppData\\Local\\Temp\\ipykernel_76216\\1162139421.py:92: FutureWarning: DataFrame.applymap has been deprecated. Use DataFrame.map instead.\n",
      "  df = df.applymap(lambda x: x.strip() if isinstance(x, str) else x)\n"
     ]
    },
    {
     "name": "stdout",
     "output_type": "stream",
     "text": [
      "    ✔ CSV creado: CSV_Mensuales\\sociodem\\2022_sociodem_septiembre_CONSUMO_X_CAPITA.csv\n",
      "    ✔ CSV creado: CSV_Mensuales\\sociodem\\2022_sociodem_septiembre_GASTO_X_CAPITA.csv\n",
      "    ✔ CSV creado: CSV_Mensuales\\sociodem\\2022_sociodem_septiembre_PENETRACION.csv\n",
      "    ✔ CSV creado: CSV_Mensuales\\sociodem\\2022_sociodem_septiembre_PRECIO_MEDIO_KG_Ó_LITROS.csv\n",
      "    ✔ CSV creado: CSV_Mensuales\\sociodem\\2022_sociodem_septiembre_VALOR_MILES_EUROS.csv\n",
      "    ✔ CSV creado: CSV_Mensuales\\sociodem\\2022_sociodem_septiembre_VOLUMEN_MILES_KG_Ó_LITROS.csv\n",
      "  📄 Procesando hoja: octubre\n"
     ]
    },
    {
     "name": "stderr",
     "output_type": "stream",
     "text": [
      "C:\\Users\\Jokin\\AppData\\Local\\Temp\\ipykernel_76216\\1162139421.py:92: FutureWarning: DataFrame.applymap has been deprecated. Use DataFrame.map instead.\n",
      "  df = df.applymap(lambda x: x.strip() if isinstance(x, str) else x)\n"
     ]
    },
    {
     "name": "stdout",
     "output_type": "stream",
     "text": [
      "    ✔ CSV creado: CSV_Mensuales\\sociodem\\2022_sociodem_octubre_CONSUMO_X_CAPITA.csv\n",
      "    ✔ CSV creado: CSV_Mensuales\\sociodem\\2022_sociodem_octubre_GASTO_X_CAPITA.csv\n",
      "    ✔ CSV creado: CSV_Mensuales\\sociodem\\2022_sociodem_octubre_PENETRACION.csv\n",
      "    ✔ CSV creado: CSV_Mensuales\\sociodem\\2022_sociodem_octubre_PRECIO_MEDIO_KG_Ó_LITROS.csv\n",
      "    ✔ CSV creado: CSV_Mensuales\\sociodem\\2022_sociodem_octubre_VALOR_MILES_EUROS.csv\n",
      "    ✔ CSV creado: CSV_Mensuales\\sociodem\\2022_sociodem_octubre_VOLUMEN_MILES_KG_Ó_LITROS.csv\n",
      "  📄 Procesando hoja: noviembre\n"
     ]
    },
    {
     "name": "stderr",
     "output_type": "stream",
     "text": [
      "C:\\Users\\Jokin\\AppData\\Local\\Temp\\ipykernel_76216\\1162139421.py:92: FutureWarning: DataFrame.applymap has been deprecated. Use DataFrame.map instead.\n",
      "  df = df.applymap(lambda x: x.strip() if isinstance(x, str) else x)\n"
     ]
    },
    {
     "name": "stdout",
     "output_type": "stream",
     "text": [
      "    ✔ CSV creado: CSV_Mensuales\\sociodem\\2022_sociodem_noviembre_CONSUMO_X_CAPITA.csv\n",
      "    ✔ CSV creado: CSV_Mensuales\\sociodem\\2022_sociodem_noviembre_NAN.csv\n",
      "    ✔ CSV creado: CSV_Mensuales\\sociodem\\2022_sociodem_noviembre_NAN.csv\n",
      "    ✔ CSV creado: CSV_Mensuales\\sociodem\\2022_sociodem_noviembre_NAN.csv\n",
      "    ✔ CSV creado: CSV_Mensuales\\sociodem\\2022_sociodem_noviembre_NAN.csv\n",
      "    ✔ CSV creado: CSV_Mensuales\\sociodem\\2022_sociodem_noviembre_NAN.csv\n",
      "  📄 Procesando hoja: diciembre\n"
     ]
    },
    {
     "name": "stderr",
     "output_type": "stream",
     "text": [
      "C:\\Users\\Jokin\\AppData\\Local\\Temp\\ipykernel_76216\\1162139421.py:92: FutureWarning: DataFrame.applymap has been deprecated. Use DataFrame.map instead.\n",
      "  df = df.applymap(lambda x: x.strip() if isinstance(x, str) else x)\n"
     ]
    },
    {
     "name": "stdout",
     "output_type": "stream",
     "text": [
      "    ✔ CSV creado: CSV_Mensuales\\sociodem\\2022_sociodem_diciembre_CONSUMO_X_CAPITA.csv\n",
      "    ✔ CSV creado: CSV_Mensuales\\sociodem\\2022_sociodem_diciembre_GASTO_X_CAPITA.csv\n",
      "    ✔ CSV creado: CSV_Mensuales\\sociodem\\2022_sociodem_diciembre_PENETRACION.csv\n",
      "    ✔ CSV creado: CSV_Mensuales\\sociodem\\2022_sociodem_diciembre_PRECIO_MEDIO_KG_Ó_LITROS.csv\n",
      "    ✔ CSV creado: CSV_Mensuales\\sociodem\\2022_sociodem_diciembre_VALOR_MILES_EUROS.csv\n",
      "    ✔ CSV creado: CSV_Mensuales\\sociodem\\2022_sociodem_diciembre_VOLUMEN_MILES_KG_Ó_LITROS.csv\n",
      "\n",
      "📂 Procesando archivo mensual: 2023_datos_mensuales_panel_consumo_hogares_canales_base2021_tcm30_686040_canales.xlsx\n",
      "  ⏩ Omitida hoja: PORTADA\n",
      "  ⏩ Omitida hoja: Lista canales\n",
      "  💡 Se encontraron 4 bloques en 2023_canal_enero\n",
      "  ✔ PENETRACION guardado: CSV_Mensuales\\canal\\2023_canal_enero_PENETRACION.csv\n",
      "  ✔ PRECIO_MEDIO guardado: CSV_Mensuales\\canal\\2023_canal_enero_PRECIO_MEDIO.csv\n",
      "  ✔ VALOR guardado: CSV_Mensuales\\canal\\2023_canal_enero_VALOR.csv\n",
      "  ✔ VOLUMEN guardado: CSV_Mensuales\\canal\\2023_canal_enero_VOLUMEN.csv\n"
     ]
    },
    {
     "name": "stderr",
     "output_type": "stream",
     "text": [
      "C:\\Users\\Jokin\\AppData\\Local\\Temp\\ipykernel_76216\\1162139421.py:293: SettingWithCopyWarning: \n",
      "A value is trying to be set on a copy of a slice from a DataFrame.\n",
      "Try using .loc[row_indexer,col_indexer] = value instead\n",
      "\n",
      "See the caveats in the documentation: https://pandas.pydata.org/pandas-docs/stable/user_guide/indexing.html#returning-a-view-versus-a-copy\n",
      "  niveles_df['Nombre'] = niveles_df['Nombre'].astype(str).str.strip().str.upper()\n"
     ]
    },
    {
     "name": "stdout",
     "output_type": "stream",
     "text": [
      "  💡 Se encontraron 4 bloques en 2023_canal_febrero\n",
      "  ✔ PENETRACION guardado: CSV_Mensuales\\canal\\2023_canal_febrero_PENETRACION.csv\n",
      "  ✔ PRECIO_MEDIO guardado: CSV_Mensuales\\canal\\2023_canal_febrero_PRECIO_MEDIO.csv\n",
      "  ✔ VALOR guardado: CSV_Mensuales\\canal\\2023_canal_febrero_VALOR.csv\n",
      "  ✔ VOLUMEN guardado: CSV_Mensuales\\canal\\2023_canal_febrero_VOLUMEN.csv\n"
     ]
    },
    {
     "name": "stderr",
     "output_type": "stream",
     "text": [
      "C:\\Users\\Jokin\\AppData\\Local\\Temp\\ipykernel_76216\\1162139421.py:293: SettingWithCopyWarning: \n",
      "A value is trying to be set on a copy of a slice from a DataFrame.\n",
      "Try using .loc[row_indexer,col_indexer] = value instead\n",
      "\n",
      "See the caveats in the documentation: https://pandas.pydata.org/pandas-docs/stable/user_guide/indexing.html#returning-a-view-versus-a-copy\n",
      "  niveles_df['Nombre'] = niveles_df['Nombre'].astype(str).str.strip().str.upper()\n"
     ]
    },
    {
     "name": "stdout",
     "output_type": "stream",
     "text": [
      "  💡 Se encontraron 4 bloques en 2023_canal_marzo\n",
      "  ✔ PENETRACION guardado: CSV_Mensuales\\canal\\2023_canal_marzo_PENETRACION.csv\n",
      "  ✔ PRECIO_MEDIO guardado: CSV_Mensuales\\canal\\2023_canal_marzo_PRECIO_MEDIO.csv\n",
      "  ✔ VALOR guardado: CSV_Mensuales\\canal\\2023_canal_marzo_VALOR.csv\n",
      "  ✔ VOLUMEN guardado: CSV_Mensuales\\canal\\2023_canal_marzo_VOLUMEN.csv\n"
     ]
    },
    {
     "name": "stderr",
     "output_type": "stream",
     "text": [
      "C:\\Users\\Jokin\\AppData\\Local\\Temp\\ipykernel_76216\\1162139421.py:293: SettingWithCopyWarning: \n",
      "A value is trying to be set on a copy of a slice from a DataFrame.\n",
      "Try using .loc[row_indexer,col_indexer] = value instead\n",
      "\n",
      "See the caveats in the documentation: https://pandas.pydata.org/pandas-docs/stable/user_guide/indexing.html#returning-a-view-versus-a-copy\n",
      "  niveles_df['Nombre'] = niveles_df['Nombre'].astype(str).str.strip().str.upper()\n"
     ]
    },
    {
     "name": "stdout",
     "output_type": "stream",
     "text": [
      "  💡 Se encontraron 4 bloques en 2023_canal_abril\n",
      "  ✔ PENETRACION guardado: CSV_Mensuales\\canal\\2023_canal_abril_PENETRACION.csv\n",
      "  ✔ PRECIO_MEDIO guardado: CSV_Mensuales\\canal\\2023_canal_abril_PRECIO_MEDIO.csv\n",
      "  ✔ VALOR guardado: CSV_Mensuales\\canal\\2023_canal_abril_VALOR.csv\n",
      "  ✔ VOLUMEN guardado: CSV_Mensuales\\canal\\2023_canal_abril_VOLUMEN.csv\n"
     ]
    },
    {
     "name": "stderr",
     "output_type": "stream",
     "text": [
      "C:\\Users\\Jokin\\AppData\\Local\\Temp\\ipykernel_76216\\1162139421.py:293: SettingWithCopyWarning: \n",
      "A value is trying to be set on a copy of a slice from a DataFrame.\n",
      "Try using .loc[row_indexer,col_indexer] = value instead\n",
      "\n",
      "See the caveats in the documentation: https://pandas.pydata.org/pandas-docs/stable/user_guide/indexing.html#returning-a-view-versus-a-copy\n",
      "  niveles_df['Nombre'] = niveles_df['Nombre'].astype(str).str.strip().str.upper()\n"
     ]
    },
    {
     "name": "stdout",
     "output_type": "stream",
     "text": [
      "  💡 Se encontraron 4 bloques en 2023_canal_mayo\n",
      "  ✔ PENETRACION guardado: CSV_Mensuales\\canal\\2023_canal_mayo_PENETRACION.csv\n",
      "  ✔ PRECIO_MEDIO guardado: CSV_Mensuales\\canal\\2023_canal_mayo_PRECIO_MEDIO.csv\n",
      "  ✔ VALOR guardado: CSV_Mensuales\\canal\\2023_canal_mayo_VALOR.csv\n",
      "  ✔ VOLUMEN guardado: CSV_Mensuales\\canal\\2023_canal_mayo_VOLUMEN.csv\n"
     ]
    },
    {
     "name": "stderr",
     "output_type": "stream",
     "text": [
      "C:\\Users\\Jokin\\AppData\\Local\\Temp\\ipykernel_76216\\1162139421.py:293: SettingWithCopyWarning: \n",
      "A value is trying to be set on a copy of a slice from a DataFrame.\n",
      "Try using .loc[row_indexer,col_indexer] = value instead\n",
      "\n",
      "See the caveats in the documentation: https://pandas.pydata.org/pandas-docs/stable/user_guide/indexing.html#returning-a-view-versus-a-copy\n",
      "  niveles_df['Nombre'] = niveles_df['Nombre'].astype(str).str.strip().str.upper()\n"
     ]
    },
    {
     "name": "stdout",
     "output_type": "stream",
     "text": [
      "  💡 Se encontraron 4 bloques en 2023_canal_junio\n",
      "  ✔ PENETRACION guardado: CSV_Mensuales\\canal\\2023_canal_junio_PENETRACION.csv\n",
      "  ✔ PRECIO_MEDIO guardado: CSV_Mensuales\\canal\\2023_canal_junio_PRECIO_MEDIO.csv\n",
      "  ✔ VALOR guardado: CSV_Mensuales\\canal\\2023_canal_junio_VALOR.csv\n",
      "  ✔ VOLUMEN guardado: CSV_Mensuales\\canal\\2023_canal_junio_VOLUMEN.csv\n"
     ]
    },
    {
     "name": "stderr",
     "output_type": "stream",
     "text": [
      "C:\\Users\\Jokin\\AppData\\Local\\Temp\\ipykernel_76216\\1162139421.py:293: SettingWithCopyWarning: \n",
      "A value is trying to be set on a copy of a slice from a DataFrame.\n",
      "Try using .loc[row_indexer,col_indexer] = value instead\n",
      "\n",
      "See the caveats in the documentation: https://pandas.pydata.org/pandas-docs/stable/user_guide/indexing.html#returning-a-view-versus-a-copy\n",
      "  niveles_df['Nombre'] = niveles_df['Nombre'].astype(str).str.strip().str.upper()\n"
     ]
    },
    {
     "name": "stdout",
     "output_type": "stream",
     "text": [
      "  💡 Se encontraron 4 bloques en 2023_canal_julio\n",
      "  ✔ PENETRACION guardado: CSV_Mensuales\\canal\\2023_canal_julio_PENETRACION.csv\n",
      "  ✔ PRECIO_MEDIO guardado: CSV_Mensuales\\canal\\2023_canal_julio_PRECIO_MEDIO.csv\n",
      "  ✔ VALOR guardado: CSV_Mensuales\\canal\\2023_canal_julio_VALOR.csv\n",
      "  ✔ VOLUMEN guardado: CSV_Mensuales\\canal\\2023_canal_julio_VOLUMEN.csv\n"
     ]
    },
    {
     "name": "stderr",
     "output_type": "stream",
     "text": [
      "C:\\Users\\Jokin\\AppData\\Local\\Temp\\ipykernel_76216\\1162139421.py:293: SettingWithCopyWarning: \n",
      "A value is trying to be set on a copy of a slice from a DataFrame.\n",
      "Try using .loc[row_indexer,col_indexer] = value instead\n",
      "\n",
      "See the caveats in the documentation: https://pandas.pydata.org/pandas-docs/stable/user_guide/indexing.html#returning-a-view-versus-a-copy\n",
      "  niveles_df['Nombre'] = niveles_df['Nombre'].astype(str).str.strip().str.upper()\n"
     ]
    },
    {
     "name": "stdout",
     "output_type": "stream",
     "text": [
      "  💡 Se encontraron 4 bloques en 2023_canal_agosto\n",
      "  ✔ PENETRACION guardado: CSV_Mensuales\\canal\\2023_canal_agosto_PENETRACION.csv\n",
      "  ✔ PRECIO_MEDIO guardado: CSV_Mensuales\\canal\\2023_canal_agosto_PRECIO_MEDIO.csv\n",
      "  ✔ VALOR guardado: CSV_Mensuales\\canal\\2023_canal_agosto_VALOR.csv\n",
      "  ✔ VOLUMEN guardado: CSV_Mensuales\\canal\\2023_canal_agosto_VOLUMEN.csv\n"
     ]
    },
    {
     "name": "stderr",
     "output_type": "stream",
     "text": [
      "C:\\Users\\Jokin\\AppData\\Local\\Temp\\ipykernel_76216\\1162139421.py:293: SettingWithCopyWarning: \n",
      "A value is trying to be set on a copy of a slice from a DataFrame.\n",
      "Try using .loc[row_indexer,col_indexer] = value instead\n",
      "\n",
      "See the caveats in the documentation: https://pandas.pydata.org/pandas-docs/stable/user_guide/indexing.html#returning-a-view-versus-a-copy\n",
      "  niveles_df['Nombre'] = niveles_df['Nombre'].astype(str).str.strip().str.upper()\n"
     ]
    },
    {
     "name": "stdout",
     "output_type": "stream",
     "text": [
      "  💡 Se encontraron 4 bloques en 2023_canal_septiembre\n",
      "  ✔ PENETRACION guardado: CSV_Mensuales\\canal\\2023_canal_septiembre_PENETRACION.csv\n",
      "  ✔ PRECIO_MEDIO guardado: CSV_Mensuales\\canal\\2023_canal_septiembre_PRECIO_MEDIO.csv\n",
      "  ✔ VALOR guardado: CSV_Mensuales\\canal\\2023_canal_septiembre_VALOR.csv\n",
      "  ✔ VOLUMEN guardado: CSV_Mensuales\\canal\\2023_canal_septiembre_VOLUMEN.csv\n"
     ]
    },
    {
     "name": "stderr",
     "output_type": "stream",
     "text": [
      "C:\\Users\\Jokin\\AppData\\Local\\Temp\\ipykernel_76216\\1162139421.py:293: SettingWithCopyWarning: \n",
      "A value is trying to be set on a copy of a slice from a DataFrame.\n",
      "Try using .loc[row_indexer,col_indexer] = value instead\n",
      "\n",
      "See the caveats in the documentation: https://pandas.pydata.org/pandas-docs/stable/user_guide/indexing.html#returning-a-view-versus-a-copy\n",
      "  niveles_df['Nombre'] = niveles_df['Nombre'].astype(str).str.strip().str.upper()\n"
     ]
    },
    {
     "name": "stdout",
     "output_type": "stream",
     "text": [
      "  💡 Se encontraron 4 bloques en 2023_canal_octubre\n",
      "  ✔ PENETRACION guardado: CSV_Mensuales\\canal\\2023_canal_octubre_PENETRACION.csv\n",
      "  ✔ PRECIO_MEDIO guardado: CSV_Mensuales\\canal\\2023_canal_octubre_PRECIO_MEDIO.csv\n",
      "  ✔ VALOR guardado: CSV_Mensuales\\canal\\2023_canal_octubre_VALOR.csv\n",
      "  ✔ VOLUMEN guardado: CSV_Mensuales\\canal\\2023_canal_octubre_VOLUMEN.csv\n"
     ]
    },
    {
     "name": "stderr",
     "output_type": "stream",
     "text": [
      "C:\\Users\\Jokin\\AppData\\Local\\Temp\\ipykernel_76216\\1162139421.py:293: SettingWithCopyWarning: \n",
      "A value is trying to be set on a copy of a slice from a DataFrame.\n",
      "Try using .loc[row_indexer,col_indexer] = value instead\n",
      "\n",
      "See the caveats in the documentation: https://pandas.pydata.org/pandas-docs/stable/user_guide/indexing.html#returning-a-view-versus-a-copy\n",
      "  niveles_df['Nombre'] = niveles_df['Nombre'].astype(str).str.strip().str.upper()\n"
     ]
    },
    {
     "name": "stdout",
     "output_type": "stream",
     "text": [
      "  💡 Se encontraron 4 bloques en 2023_canal_noviembre\n",
      "  ✔ PENETRACION guardado: CSV_Mensuales\\canal\\2023_canal_noviembre_PENETRACION.csv\n",
      "  ✔ PRECIO_MEDIO guardado: CSV_Mensuales\\canal\\2023_canal_noviembre_PRECIO_MEDIO.csv\n",
      "  ✔ VALOR guardado: CSV_Mensuales\\canal\\2023_canal_noviembre_VALOR.csv\n",
      "  ✔ VOLUMEN guardado: CSV_Mensuales\\canal\\2023_canal_noviembre_VOLUMEN.csv\n"
     ]
    },
    {
     "name": "stderr",
     "output_type": "stream",
     "text": [
      "C:\\Users\\Jokin\\AppData\\Local\\Temp\\ipykernel_76216\\1162139421.py:293: SettingWithCopyWarning: \n",
      "A value is trying to be set on a copy of a slice from a DataFrame.\n",
      "Try using .loc[row_indexer,col_indexer] = value instead\n",
      "\n",
      "See the caveats in the documentation: https://pandas.pydata.org/pandas-docs/stable/user_guide/indexing.html#returning-a-view-versus-a-copy\n",
      "  niveles_df['Nombre'] = niveles_df['Nombre'].astype(str).str.strip().str.upper()\n"
     ]
    },
    {
     "name": "stdout",
     "output_type": "stream",
     "text": [
      "  💡 Se encontraron 4 bloques en 2023_canal_diciembre\n",
      "  ✔ PENETRACION guardado: CSV_Mensuales\\canal\\2023_canal_diciembre_PENETRACION.csv\n",
      "  ✔ PRECIO_MEDIO guardado: CSV_Mensuales\\canal\\2023_canal_diciembre_PRECIO_MEDIO.csv\n",
      "  ✔ VALOR guardado: CSV_Mensuales\\canal\\2023_canal_diciembre_VALOR.csv\n",
      "  ✔ VOLUMEN guardado: CSV_Mensuales\\canal\\2023_canal_diciembre_VOLUMEN.csv\n",
      "\n",
      "📂 Procesando archivo mensual: 2023_datos_mensuales_panel_consumo_hogares_ccaa_base2021_ok_tcm30_686108_ccaa.xlsx\n"
     ]
    },
    {
     "name": "stderr",
     "output_type": "stream",
     "text": [
      "C:\\Users\\Jokin\\AppData\\Local\\Temp\\ipykernel_76216\\1162139421.py:293: SettingWithCopyWarning: \n",
      "A value is trying to be set on a copy of a slice from a DataFrame.\n",
      "Try using .loc[row_indexer,col_indexer] = value instead\n",
      "\n",
      "See the caveats in the documentation: https://pandas.pydata.org/pandas-docs/stable/user_guide/indexing.html#returning-a-view-versus-a-copy\n",
      "  niveles_df['Nombre'] = niveles_df['Nombre'].astype(str).str.strip().str.upper()\n"
     ]
    },
    {
     "name": "stdout",
     "output_type": "stream",
     "text": [
      "  ⏩ Omitida hoja: PORTADA\n",
      "  ✔ CCAA guardado: CSV_Mensuales\\ccaa\\2023_ccaa_enero_T.ESPAÑA.csv\n",
      "  ✔ CCAA guardado: CSV_Mensuales\\ccaa\\2023_ccaa_enero_CATALUÑA.csv\n",
      "  ✔ CCAA guardado: CSV_Mensuales\\ccaa\\2023_ccaa_enero_ARAGÓN.csv\n",
      "  ✔ CCAA guardado: CSV_Mensuales\\ccaa\\2023_ccaa_enero_ILLES BALEARS.csv\n",
      "  ✔ CCAA guardado: CSV_Mensuales\\ccaa\\2023_ccaa_enero_COMUNITAT VALENCIANA.csv\n",
      "  ✔ CCAA guardado: CSV_Mensuales\\ccaa\\2023_ccaa_enero_REGIÓN DE MURCIA.csv\n",
      "  ✔ CCAA guardado: CSV_Mensuales\\ccaa\\2023_ccaa_enero_ANDALUCÍA.csv\n",
      "  ✔ CCAA guardado: CSV_Mensuales\\ccaa\\2023_ccaa_enero_COMUNIDAD DE MADRID.csv\n",
      "  ✔ CCAA guardado: CSV_Mensuales\\ccaa\\2023_ccaa_enero_CASTILLA - LA MANCHA.csv\n",
      "  ✔ CCAA guardado: CSV_Mensuales\\ccaa\\2023_ccaa_enero_EXTREMADURA.csv\n",
      "  ✔ CCAA guardado: CSV_Mensuales\\ccaa\\2023_ccaa_enero_CASTILLA Y LEÓN.csv\n",
      "  ✔ CCAA guardado: CSV_Mensuales\\ccaa\\2023_ccaa_enero_GALICIA.csv\n",
      "  ✔ CCAA guardado: CSV_Mensuales\\ccaa\\2023_ccaa_enero_PRINCIPADO DE ASTURIAS.csv\n",
      "  ✔ CCAA guardado: CSV_Mensuales\\ccaa\\2023_ccaa_enero_CANTABRIA.csv\n",
      "  ✔ CCAA guardado: CSV_Mensuales\\ccaa\\2023_ccaa_enero_PAIS VASCO.csv\n",
      "  ✔ CCAA guardado: CSV_Mensuales\\ccaa\\2023_ccaa_enero_LA RIOJA.csv\n",
      "  ✔ CCAA guardado: CSV_Mensuales\\ccaa\\2023_ccaa_enero_C. FORAL DE NAVARRA.csv\n",
      "  ✔ CCAA guardado: CSV_Mensuales\\ccaa\\2023_ccaa_enero_CANARIAS.csv\n"
     ]
    },
    {
     "name": "stderr",
     "output_type": "stream",
     "text": [
      "C:\\Users\\Jokin\\AppData\\Local\\Temp\\ipykernel_76216\\1162139421.py:189: SettingWithCopyWarning: \n",
      "A value is trying to be set on a copy of a slice from a DataFrame.\n",
      "Try using .loc[row_indexer,col_indexer] = value instead\n",
      "\n",
      "See the caveats in the documentation: https://pandas.pydata.org/pandas-docs/stable/user_guide/indexing.html#returning-a-view-versus-a-copy\n",
      "  niveles_df['Nombre'] = niveles_df['Nombre'].astype(str).str.strip().str.upper()\n"
     ]
    },
    {
     "name": "stdout",
     "output_type": "stream",
     "text": [
      "  ✔ CCAA guardado: CSV_Mensuales\\ccaa\\2023_ccaa_febrero_T.ESPAÑA.csv\n",
      "  ✔ CCAA guardado: CSV_Mensuales\\ccaa\\2023_ccaa_febrero_CATALUÑA.csv\n",
      "  ✔ CCAA guardado: CSV_Mensuales\\ccaa\\2023_ccaa_febrero_ARAGÓN.csv\n",
      "  ✔ CCAA guardado: CSV_Mensuales\\ccaa\\2023_ccaa_febrero_ILLES BALEARS.csv\n",
      "  ✔ CCAA guardado: CSV_Mensuales\\ccaa\\2023_ccaa_febrero_COMUNITAT VALENCIANA.csv\n",
      "  ✔ CCAA guardado: CSV_Mensuales\\ccaa\\2023_ccaa_febrero_REGIÓN DE MURCIA.csv\n",
      "  ✔ CCAA guardado: CSV_Mensuales\\ccaa\\2023_ccaa_febrero_ANDALUCÍA.csv\n",
      "  ✔ CCAA guardado: CSV_Mensuales\\ccaa\\2023_ccaa_febrero_COMUNIDAD DE MADRID.csv\n",
      "  ✔ CCAA guardado: CSV_Mensuales\\ccaa\\2023_ccaa_febrero_CASTILLA - LA MANCHA.csv\n",
      "  ✔ CCAA guardado: CSV_Mensuales\\ccaa\\2023_ccaa_febrero_EXTREMADURA.csv\n",
      "  ✔ CCAA guardado: CSV_Mensuales\\ccaa\\2023_ccaa_febrero_CASTILLA Y LEÓN.csv\n",
      "  ✔ CCAA guardado: CSV_Mensuales\\ccaa\\2023_ccaa_febrero_GALICIA.csv\n",
      "  ✔ CCAA guardado: CSV_Mensuales\\ccaa\\2023_ccaa_febrero_PRINCIPADO DE ASTURIAS.csv\n",
      "  ✔ CCAA guardado: CSV_Mensuales\\ccaa\\2023_ccaa_febrero_CANTABRIA.csv\n",
      "  ✔ CCAA guardado: CSV_Mensuales\\ccaa\\2023_ccaa_febrero_PAIS VASCO.csv\n",
      "  ✔ CCAA guardado: CSV_Mensuales\\ccaa\\2023_ccaa_febrero_LA RIOJA.csv\n",
      "  ✔ CCAA guardado: CSV_Mensuales\\ccaa\\2023_ccaa_febrero_C. FORAL DE NAVARRA.csv\n",
      "  ✔ CCAA guardado: CSV_Mensuales\\ccaa\\2023_ccaa_febrero_CANARIAS.csv\n"
     ]
    },
    {
     "name": "stderr",
     "output_type": "stream",
     "text": [
      "C:\\Users\\Jokin\\AppData\\Local\\Temp\\ipykernel_76216\\1162139421.py:189: SettingWithCopyWarning: \n",
      "A value is trying to be set on a copy of a slice from a DataFrame.\n",
      "Try using .loc[row_indexer,col_indexer] = value instead\n",
      "\n",
      "See the caveats in the documentation: https://pandas.pydata.org/pandas-docs/stable/user_guide/indexing.html#returning-a-view-versus-a-copy\n",
      "  niveles_df['Nombre'] = niveles_df['Nombre'].astype(str).str.strip().str.upper()\n"
     ]
    },
    {
     "name": "stdout",
     "output_type": "stream",
     "text": [
      "  ✔ CCAA guardado: CSV_Mensuales\\ccaa\\2023_ccaa_marzo_T.ESPAÑA.csv\n",
      "  ✔ CCAA guardado: CSV_Mensuales\\ccaa\\2023_ccaa_marzo_CATALUÑA.csv\n",
      "  ✔ CCAA guardado: CSV_Mensuales\\ccaa\\2023_ccaa_marzo_ARAGÓN.csv\n",
      "  ✔ CCAA guardado: CSV_Mensuales\\ccaa\\2023_ccaa_marzo_ILLES BALEARS.csv\n",
      "  ✔ CCAA guardado: CSV_Mensuales\\ccaa\\2023_ccaa_marzo_COMUNITAT VALENCIANA.csv\n",
      "  ✔ CCAA guardado: CSV_Mensuales\\ccaa\\2023_ccaa_marzo_REGIÓN DE MURCIA.csv\n",
      "  ✔ CCAA guardado: CSV_Mensuales\\ccaa\\2023_ccaa_marzo_ANDALUCÍA.csv\n",
      "  ✔ CCAA guardado: CSV_Mensuales\\ccaa\\2023_ccaa_marzo_COMUNIDAD DE MADRID.csv\n",
      "  ✔ CCAA guardado: CSV_Mensuales\\ccaa\\2023_ccaa_marzo_CASTILLA - LA MANCHA.csv\n",
      "  ✔ CCAA guardado: CSV_Mensuales\\ccaa\\2023_ccaa_marzo_EXTREMADURA.csv\n",
      "  ✔ CCAA guardado: CSV_Mensuales\\ccaa\\2023_ccaa_marzo_CASTILLA Y LEÓN.csv\n",
      "  ✔ CCAA guardado: CSV_Mensuales\\ccaa\\2023_ccaa_marzo_GALICIA.csv\n",
      "  ✔ CCAA guardado: CSV_Mensuales\\ccaa\\2023_ccaa_marzo_PRINCIPADO DE ASTURIAS.csv\n",
      "  ✔ CCAA guardado: CSV_Mensuales\\ccaa\\2023_ccaa_marzo_CANTABRIA.csv\n",
      "  ✔ CCAA guardado: CSV_Mensuales\\ccaa\\2023_ccaa_marzo_PAIS VASCO.csv\n",
      "  ✔ CCAA guardado: CSV_Mensuales\\ccaa\\2023_ccaa_marzo_LA RIOJA.csv\n",
      "  ✔ CCAA guardado: CSV_Mensuales\\ccaa\\2023_ccaa_marzo_C. FORAL DE NAVARRA.csv\n",
      "  ✔ CCAA guardado: CSV_Mensuales\\ccaa\\2023_ccaa_marzo_CANARIAS.csv\n"
     ]
    },
    {
     "name": "stderr",
     "output_type": "stream",
     "text": [
      "C:\\Users\\Jokin\\AppData\\Local\\Temp\\ipykernel_76216\\1162139421.py:189: SettingWithCopyWarning: \n",
      "A value is trying to be set on a copy of a slice from a DataFrame.\n",
      "Try using .loc[row_indexer,col_indexer] = value instead\n",
      "\n",
      "See the caveats in the documentation: https://pandas.pydata.org/pandas-docs/stable/user_guide/indexing.html#returning-a-view-versus-a-copy\n",
      "  niveles_df['Nombre'] = niveles_df['Nombre'].astype(str).str.strip().str.upper()\n"
     ]
    },
    {
     "name": "stdout",
     "output_type": "stream",
     "text": [
      "  ✔ CCAA guardado: CSV_Mensuales\\ccaa\\2023_ccaa_abril_T.ESPAÑA.csv\n",
      "  ✔ CCAA guardado: CSV_Mensuales\\ccaa\\2023_ccaa_abril_CATALUÑA.csv\n",
      "  ✔ CCAA guardado: CSV_Mensuales\\ccaa\\2023_ccaa_abril_ARAGÓN.csv\n",
      "  ✔ CCAA guardado: CSV_Mensuales\\ccaa\\2023_ccaa_abril_ILLES BALEARS.csv\n",
      "  ✔ CCAA guardado: CSV_Mensuales\\ccaa\\2023_ccaa_abril_COMUNITAT VALENCIANA.csv\n",
      "  ✔ CCAA guardado: CSV_Mensuales\\ccaa\\2023_ccaa_abril_REGIÓN DE MURCIA.csv\n",
      "  ✔ CCAA guardado: CSV_Mensuales\\ccaa\\2023_ccaa_abril_ANDALUCÍA.csv\n",
      "  ✔ CCAA guardado: CSV_Mensuales\\ccaa\\2023_ccaa_abril_COMUNIDAD DE MADRID.csv\n",
      "  ✔ CCAA guardado: CSV_Mensuales\\ccaa\\2023_ccaa_abril_CASTILLA - LA MANCHA.csv\n",
      "  ✔ CCAA guardado: CSV_Mensuales\\ccaa\\2023_ccaa_abril_EXTREMADURA.csv\n",
      "  ✔ CCAA guardado: CSV_Mensuales\\ccaa\\2023_ccaa_abril_CASTILLA Y LEÓN.csv\n",
      "  ✔ CCAA guardado: CSV_Mensuales\\ccaa\\2023_ccaa_abril_GALICIA.csv\n",
      "  ✔ CCAA guardado: CSV_Mensuales\\ccaa\\2023_ccaa_abril_PRINCIPADO DE ASTURIAS.csv\n",
      "  ✔ CCAA guardado: CSV_Mensuales\\ccaa\\2023_ccaa_abril_CANTABRIA.csv\n",
      "  ✔ CCAA guardado: CSV_Mensuales\\ccaa\\2023_ccaa_abril_PAIS VASCO.csv\n",
      "  ✔ CCAA guardado: CSV_Mensuales\\ccaa\\2023_ccaa_abril_LA RIOJA.csv\n",
      "  ✔ CCAA guardado: CSV_Mensuales\\ccaa\\2023_ccaa_abril_C. FORAL DE NAVARRA.csv\n",
      "  ✔ CCAA guardado: CSV_Mensuales\\ccaa\\2023_ccaa_abril_CANARIAS.csv\n"
     ]
    },
    {
     "name": "stderr",
     "output_type": "stream",
     "text": [
      "C:\\Users\\Jokin\\AppData\\Local\\Temp\\ipykernel_76216\\1162139421.py:189: SettingWithCopyWarning: \n",
      "A value is trying to be set on a copy of a slice from a DataFrame.\n",
      "Try using .loc[row_indexer,col_indexer] = value instead\n",
      "\n",
      "See the caveats in the documentation: https://pandas.pydata.org/pandas-docs/stable/user_guide/indexing.html#returning-a-view-versus-a-copy\n",
      "  niveles_df['Nombre'] = niveles_df['Nombre'].astype(str).str.strip().str.upper()\n"
     ]
    },
    {
     "name": "stdout",
     "output_type": "stream",
     "text": [
      "  ✔ CCAA guardado: CSV_Mensuales\\ccaa\\2023_ccaa_mayo_T.ESPAÑA.csv\n",
      "  ✔ CCAA guardado: CSV_Mensuales\\ccaa\\2023_ccaa_mayo_CATALUÑA.csv\n",
      "  ✔ CCAA guardado: CSV_Mensuales\\ccaa\\2023_ccaa_mayo_ARAGÓN.csv\n",
      "  ✔ CCAA guardado: CSV_Mensuales\\ccaa\\2023_ccaa_mayo_ILLES BALEARS.csv\n",
      "  ✔ CCAA guardado: CSV_Mensuales\\ccaa\\2023_ccaa_mayo_COMUNITAT VALENCIANA.csv\n",
      "  ✔ CCAA guardado: CSV_Mensuales\\ccaa\\2023_ccaa_mayo_REGIÓN DE MURCIA.csv\n",
      "  ✔ CCAA guardado: CSV_Mensuales\\ccaa\\2023_ccaa_mayo_ANDALUCÍA.csv\n",
      "  ✔ CCAA guardado: CSV_Mensuales\\ccaa\\2023_ccaa_mayo_COMUNIDAD DE MADRID.csv\n",
      "  ✔ CCAA guardado: CSV_Mensuales\\ccaa\\2023_ccaa_mayo_CASTILLA - LA MANCHA.csv\n",
      "  ✔ CCAA guardado: CSV_Mensuales\\ccaa\\2023_ccaa_mayo_EXTREMADURA.csv\n",
      "  ✔ CCAA guardado: CSV_Mensuales\\ccaa\\2023_ccaa_mayo_CASTILLA Y LEÓN.csv\n",
      "  ✔ CCAA guardado: CSV_Mensuales\\ccaa\\2023_ccaa_mayo_GALICIA.csv\n",
      "  ✔ CCAA guardado: CSV_Mensuales\\ccaa\\2023_ccaa_mayo_PRINCIPADO DE ASTURIAS.csv\n",
      "  ✔ CCAA guardado: CSV_Mensuales\\ccaa\\2023_ccaa_mayo_CANTABRIA.csv\n",
      "  ✔ CCAA guardado: CSV_Mensuales\\ccaa\\2023_ccaa_mayo_PAIS VASCO.csv\n",
      "  ✔ CCAA guardado: CSV_Mensuales\\ccaa\\2023_ccaa_mayo_LA RIOJA.csv\n",
      "  ✔ CCAA guardado: CSV_Mensuales\\ccaa\\2023_ccaa_mayo_C. FORAL DE NAVARRA.csv\n",
      "  ✔ CCAA guardado: CSV_Mensuales\\ccaa\\2023_ccaa_mayo_CANARIAS.csv\n"
     ]
    },
    {
     "name": "stderr",
     "output_type": "stream",
     "text": [
      "C:\\Users\\Jokin\\AppData\\Local\\Temp\\ipykernel_76216\\1162139421.py:189: SettingWithCopyWarning: \n",
      "A value is trying to be set on a copy of a slice from a DataFrame.\n",
      "Try using .loc[row_indexer,col_indexer] = value instead\n",
      "\n",
      "See the caveats in the documentation: https://pandas.pydata.org/pandas-docs/stable/user_guide/indexing.html#returning-a-view-versus-a-copy\n",
      "  niveles_df['Nombre'] = niveles_df['Nombre'].astype(str).str.strip().str.upper()\n"
     ]
    },
    {
     "name": "stdout",
     "output_type": "stream",
     "text": [
      "  ✔ CCAA guardado: CSV_Mensuales\\ccaa\\2023_ccaa_junio_T.ESPAÑA.csv\n",
      "  ✔ CCAA guardado: CSV_Mensuales\\ccaa\\2023_ccaa_junio_CATALUÑA.csv\n",
      "  ✔ CCAA guardado: CSV_Mensuales\\ccaa\\2023_ccaa_junio_ARAGÓN.csv\n",
      "  ✔ CCAA guardado: CSV_Mensuales\\ccaa\\2023_ccaa_junio_ILLES BALEARS.csv\n",
      "  ✔ CCAA guardado: CSV_Mensuales\\ccaa\\2023_ccaa_junio_COMUNITAT VALENCIANA.csv\n",
      "  ✔ CCAA guardado: CSV_Mensuales\\ccaa\\2023_ccaa_junio_REGIÓN DE MURCIA.csv\n",
      "  ✔ CCAA guardado: CSV_Mensuales\\ccaa\\2023_ccaa_junio_ANDALUCÍA.csv\n",
      "  ✔ CCAA guardado: CSV_Mensuales\\ccaa\\2023_ccaa_junio_COMUNIDAD DE MADRID.csv\n",
      "  ✔ CCAA guardado: CSV_Mensuales\\ccaa\\2023_ccaa_junio_CASTILLA - LA MANCHA.csv\n",
      "  ✔ CCAA guardado: CSV_Mensuales\\ccaa\\2023_ccaa_junio_EXTREMADURA.csv\n",
      "  ✔ CCAA guardado: CSV_Mensuales\\ccaa\\2023_ccaa_junio_CASTILLA Y LEÓN.csv\n",
      "  ✔ CCAA guardado: CSV_Mensuales\\ccaa\\2023_ccaa_junio_GALICIA.csv\n",
      "  ✔ CCAA guardado: CSV_Mensuales\\ccaa\\2023_ccaa_junio_PRINCIPADO DE ASTURIAS.csv\n",
      "  ✔ CCAA guardado: CSV_Mensuales\\ccaa\\2023_ccaa_junio_CANTABRIA.csv\n",
      "  ✔ CCAA guardado: CSV_Mensuales\\ccaa\\2023_ccaa_junio_PAIS VASCO.csv\n",
      "  ✔ CCAA guardado: CSV_Mensuales\\ccaa\\2023_ccaa_junio_LA RIOJA.csv\n",
      "  ✔ CCAA guardado: CSV_Mensuales\\ccaa\\2023_ccaa_junio_C. FORAL DE NAVARRA.csv\n",
      "  ✔ CCAA guardado: CSV_Mensuales\\ccaa\\2023_ccaa_junio_CANARIAS.csv\n"
     ]
    },
    {
     "name": "stderr",
     "output_type": "stream",
     "text": [
      "C:\\Users\\Jokin\\AppData\\Local\\Temp\\ipykernel_76216\\1162139421.py:189: SettingWithCopyWarning: \n",
      "A value is trying to be set on a copy of a slice from a DataFrame.\n",
      "Try using .loc[row_indexer,col_indexer] = value instead\n",
      "\n",
      "See the caveats in the documentation: https://pandas.pydata.org/pandas-docs/stable/user_guide/indexing.html#returning-a-view-versus-a-copy\n",
      "  niveles_df['Nombre'] = niveles_df['Nombre'].astype(str).str.strip().str.upper()\n"
     ]
    },
    {
     "name": "stdout",
     "output_type": "stream",
     "text": [
      "  ✔ CCAA guardado: CSV_Mensuales\\ccaa\\2023_ccaa_julio_T.ESPAÑA.csv\n",
      "  ✔ CCAA guardado: CSV_Mensuales\\ccaa\\2023_ccaa_julio_CATALUÑA.csv\n",
      "  ✔ CCAA guardado: CSV_Mensuales\\ccaa\\2023_ccaa_julio_ARAGÓN.csv\n",
      "  ✔ CCAA guardado: CSV_Mensuales\\ccaa\\2023_ccaa_julio_ILLES BALEARS.csv\n",
      "  ✔ CCAA guardado: CSV_Mensuales\\ccaa\\2023_ccaa_julio_COMUNITAT VALENCIANA.csv\n",
      "  ✔ CCAA guardado: CSV_Mensuales\\ccaa\\2023_ccaa_julio_REGIÓN DE MURCIA.csv\n",
      "  ✔ CCAA guardado: CSV_Mensuales\\ccaa\\2023_ccaa_julio_ANDALUCÍA.csv\n",
      "  ✔ CCAA guardado: CSV_Mensuales\\ccaa\\2023_ccaa_julio_COMUNIDAD DE MADRID.csv\n",
      "  ✔ CCAA guardado: CSV_Mensuales\\ccaa\\2023_ccaa_julio_CASTILLA - LA MANCHA.csv\n",
      "  ✔ CCAA guardado: CSV_Mensuales\\ccaa\\2023_ccaa_julio_EXTREMADURA.csv\n",
      "  ✔ CCAA guardado: CSV_Mensuales\\ccaa\\2023_ccaa_julio_CASTILLA Y LEÓN.csv\n",
      "  ✔ CCAA guardado: CSV_Mensuales\\ccaa\\2023_ccaa_julio_GALICIA.csv\n",
      "  ✔ CCAA guardado: CSV_Mensuales\\ccaa\\2023_ccaa_julio_PRINCIPADO DE ASTURIAS.csv\n",
      "  ✔ CCAA guardado: CSV_Mensuales\\ccaa\\2023_ccaa_julio_CANTABRIA.csv\n",
      "  ✔ CCAA guardado: CSV_Mensuales\\ccaa\\2023_ccaa_julio_PAIS VASCO.csv\n",
      "  ✔ CCAA guardado: CSV_Mensuales\\ccaa\\2023_ccaa_julio_LA RIOJA.csv\n",
      "  ✔ CCAA guardado: CSV_Mensuales\\ccaa\\2023_ccaa_julio_C. FORAL DE NAVARRA.csv\n",
      "  ✔ CCAA guardado: CSV_Mensuales\\ccaa\\2023_ccaa_julio_CANARIAS.csv\n"
     ]
    },
    {
     "name": "stderr",
     "output_type": "stream",
     "text": [
      "C:\\Users\\Jokin\\AppData\\Local\\Temp\\ipykernel_76216\\1162139421.py:189: SettingWithCopyWarning: \n",
      "A value is trying to be set on a copy of a slice from a DataFrame.\n",
      "Try using .loc[row_indexer,col_indexer] = value instead\n",
      "\n",
      "See the caveats in the documentation: https://pandas.pydata.org/pandas-docs/stable/user_guide/indexing.html#returning-a-view-versus-a-copy\n",
      "  niveles_df['Nombre'] = niveles_df['Nombre'].astype(str).str.strip().str.upper()\n"
     ]
    },
    {
     "name": "stdout",
     "output_type": "stream",
     "text": [
      "  ✔ CCAA guardado: CSV_Mensuales\\ccaa\\2023_ccaa_agosto_T.ESPAÑA.csv\n",
      "  ✔ CCAA guardado: CSV_Mensuales\\ccaa\\2023_ccaa_agosto_CATALUÑA.csv\n",
      "  ✔ CCAA guardado: CSV_Mensuales\\ccaa\\2023_ccaa_agosto_ARAGÓN.csv\n",
      "  ✔ CCAA guardado: CSV_Mensuales\\ccaa\\2023_ccaa_agosto_ILLES BALEARS.csv\n",
      "  ✔ CCAA guardado: CSV_Mensuales\\ccaa\\2023_ccaa_agosto_COMUNITAT VALENCIANA.csv\n",
      "  ✔ CCAA guardado: CSV_Mensuales\\ccaa\\2023_ccaa_agosto_REGIÓN DE MURCIA.csv\n",
      "  ✔ CCAA guardado: CSV_Mensuales\\ccaa\\2023_ccaa_agosto_ANDALUCÍA.csv\n",
      "  ✔ CCAA guardado: CSV_Mensuales\\ccaa\\2023_ccaa_agosto_COMUNIDAD DE MADRID.csv\n",
      "  ✔ CCAA guardado: CSV_Mensuales\\ccaa\\2023_ccaa_agosto_CASTILLA - LA MANCHA.csv\n",
      "  ✔ CCAA guardado: CSV_Mensuales\\ccaa\\2023_ccaa_agosto_EXTREMADURA.csv\n",
      "  ✔ CCAA guardado: CSV_Mensuales\\ccaa\\2023_ccaa_agosto_CASTILLA Y LEÓN.csv\n",
      "  ✔ CCAA guardado: CSV_Mensuales\\ccaa\\2023_ccaa_agosto_GALICIA.csv\n",
      "  ✔ CCAA guardado: CSV_Mensuales\\ccaa\\2023_ccaa_agosto_PRINCIPADO DE ASTURIAS.csv\n",
      "  ✔ CCAA guardado: CSV_Mensuales\\ccaa\\2023_ccaa_agosto_CANTABRIA.csv\n",
      "  ✔ CCAA guardado: CSV_Mensuales\\ccaa\\2023_ccaa_agosto_PAIS VASCO.csv\n",
      "  ✔ CCAA guardado: CSV_Mensuales\\ccaa\\2023_ccaa_agosto_LA RIOJA.csv\n",
      "  ✔ CCAA guardado: CSV_Mensuales\\ccaa\\2023_ccaa_agosto_C. FORAL DE NAVARRA.csv\n",
      "  ✔ CCAA guardado: CSV_Mensuales\\ccaa\\2023_ccaa_agosto_CANARIAS.csv\n"
     ]
    },
    {
     "name": "stderr",
     "output_type": "stream",
     "text": [
      "C:\\Users\\Jokin\\AppData\\Local\\Temp\\ipykernel_76216\\1162139421.py:189: SettingWithCopyWarning: \n",
      "A value is trying to be set on a copy of a slice from a DataFrame.\n",
      "Try using .loc[row_indexer,col_indexer] = value instead\n",
      "\n",
      "See the caveats in the documentation: https://pandas.pydata.org/pandas-docs/stable/user_guide/indexing.html#returning-a-view-versus-a-copy\n",
      "  niveles_df['Nombre'] = niveles_df['Nombre'].astype(str).str.strip().str.upper()\n"
     ]
    },
    {
     "name": "stdout",
     "output_type": "stream",
     "text": [
      "  ✔ CCAA guardado: CSV_Mensuales\\ccaa\\2023_ccaa_septiembre_T.ESPAÑA.csv\n",
      "  ✔ CCAA guardado: CSV_Mensuales\\ccaa\\2023_ccaa_septiembre_CATALUÑA.csv\n",
      "  ✔ CCAA guardado: CSV_Mensuales\\ccaa\\2023_ccaa_septiembre_ARAGÓN.csv\n",
      "  ✔ CCAA guardado: CSV_Mensuales\\ccaa\\2023_ccaa_septiembre_ILLES BALEARS.csv\n",
      "  ✔ CCAA guardado: CSV_Mensuales\\ccaa\\2023_ccaa_septiembre_COMUNITAT VALENCIANA.csv\n",
      "  ✔ CCAA guardado: CSV_Mensuales\\ccaa\\2023_ccaa_septiembre_REGIÓN DE MURCIA.csv\n",
      "  ✔ CCAA guardado: CSV_Mensuales\\ccaa\\2023_ccaa_septiembre_ANDALUCÍA.csv\n",
      "  ✔ CCAA guardado: CSV_Mensuales\\ccaa\\2023_ccaa_septiembre_COMUNIDAD DE MADRID.csv\n",
      "  ✔ CCAA guardado: CSV_Mensuales\\ccaa\\2023_ccaa_septiembre_CASTILLA - LA MANCHA.csv\n",
      "  ✔ CCAA guardado: CSV_Mensuales\\ccaa\\2023_ccaa_septiembre_EXTREMADURA.csv\n",
      "  ✔ CCAA guardado: CSV_Mensuales\\ccaa\\2023_ccaa_septiembre_CASTILLA Y LEÓN.csv\n",
      "  ✔ CCAA guardado: CSV_Mensuales\\ccaa\\2023_ccaa_septiembre_GALICIA.csv\n",
      "  ✔ CCAA guardado: CSV_Mensuales\\ccaa\\2023_ccaa_septiembre_PRINCIPADO DE ASTURIAS.csv\n",
      "  ✔ CCAA guardado: CSV_Mensuales\\ccaa\\2023_ccaa_septiembre_CANTABRIA.csv\n",
      "  ✔ CCAA guardado: CSV_Mensuales\\ccaa\\2023_ccaa_septiembre_PAIS VASCO.csv\n",
      "  ✔ CCAA guardado: CSV_Mensuales\\ccaa\\2023_ccaa_septiembre_LA RIOJA.csv\n",
      "  ✔ CCAA guardado: CSV_Mensuales\\ccaa\\2023_ccaa_septiembre_C. FORAL DE NAVARRA.csv\n",
      "  ✔ CCAA guardado: CSV_Mensuales\\ccaa\\2023_ccaa_septiembre_CANARIAS.csv\n"
     ]
    },
    {
     "name": "stderr",
     "output_type": "stream",
     "text": [
      "C:\\Users\\Jokin\\AppData\\Local\\Temp\\ipykernel_76216\\1162139421.py:189: SettingWithCopyWarning: \n",
      "A value is trying to be set on a copy of a slice from a DataFrame.\n",
      "Try using .loc[row_indexer,col_indexer] = value instead\n",
      "\n",
      "See the caveats in the documentation: https://pandas.pydata.org/pandas-docs/stable/user_guide/indexing.html#returning-a-view-versus-a-copy\n",
      "  niveles_df['Nombre'] = niveles_df['Nombre'].astype(str).str.strip().str.upper()\n"
     ]
    },
    {
     "name": "stdout",
     "output_type": "stream",
     "text": [
      "  ✔ CCAA guardado: CSV_Mensuales\\ccaa\\2023_ccaa_octubre_T.ESPAÑA.csv\n",
      "  ✔ CCAA guardado: CSV_Mensuales\\ccaa\\2023_ccaa_octubre_CATALUÑA.csv\n",
      "  ✔ CCAA guardado: CSV_Mensuales\\ccaa\\2023_ccaa_octubre_ARAGÓN.csv\n",
      "  ✔ CCAA guardado: CSV_Mensuales\\ccaa\\2023_ccaa_octubre_ILLES BALEARS.csv\n",
      "  ✔ CCAA guardado: CSV_Mensuales\\ccaa\\2023_ccaa_octubre_COMUNITAT VALENCIANA.csv\n",
      "  ✔ CCAA guardado: CSV_Mensuales\\ccaa\\2023_ccaa_octubre_REGIÓN DE MURCIA.csv\n",
      "  ✔ CCAA guardado: CSV_Mensuales\\ccaa\\2023_ccaa_octubre_ANDALUCÍA.csv\n",
      "  ✔ CCAA guardado: CSV_Mensuales\\ccaa\\2023_ccaa_octubre_COMUNIDAD DE MADRID.csv\n",
      "  ✔ CCAA guardado: CSV_Mensuales\\ccaa\\2023_ccaa_octubre_CASTILLA - LA MANCHA.csv\n",
      "  ✔ CCAA guardado: CSV_Mensuales\\ccaa\\2023_ccaa_octubre_EXTREMADURA.csv\n",
      "  ✔ CCAA guardado: CSV_Mensuales\\ccaa\\2023_ccaa_octubre_CASTILLA Y LEÓN.csv\n",
      "  ✔ CCAA guardado: CSV_Mensuales\\ccaa\\2023_ccaa_octubre_GALICIA.csv\n",
      "  ✔ CCAA guardado: CSV_Mensuales\\ccaa\\2023_ccaa_octubre_PRINCIPADO DE ASTURIAS.csv\n",
      "  ✔ CCAA guardado: CSV_Mensuales\\ccaa\\2023_ccaa_octubre_CANTABRIA.csv\n",
      "  ✔ CCAA guardado: CSV_Mensuales\\ccaa\\2023_ccaa_octubre_PAIS VASCO.csv\n",
      "  ✔ CCAA guardado: CSV_Mensuales\\ccaa\\2023_ccaa_octubre_LA RIOJA.csv\n",
      "  ✔ CCAA guardado: CSV_Mensuales\\ccaa\\2023_ccaa_octubre_C. FORAL DE NAVARRA.csv\n",
      "  ✔ CCAA guardado: CSV_Mensuales\\ccaa\\2023_ccaa_octubre_CANARIAS.csv\n"
     ]
    },
    {
     "name": "stderr",
     "output_type": "stream",
     "text": [
      "C:\\Users\\Jokin\\AppData\\Local\\Temp\\ipykernel_76216\\1162139421.py:189: SettingWithCopyWarning: \n",
      "A value is trying to be set on a copy of a slice from a DataFrame.\n",
      "Try using .loc[row_indexer,col_indexer] = value instead\n",
      "\n",
      "See the caveats in the documentation: https://pandas.pydata.org/pandas-docs/stable/user_guide/indexing.html#returning-a-view-versus-a-copy\n",
      "  niveles_df['Nombre'] = niveles_df['Nombre'].astype(str).str.strip().str.upper()\n"
     ]
    },
    {
     "name": "stdout",
     "output_type": "stream",
     "text": [
      "  ✔ CCAA guardado: CSV_Mensuales\\ccaa\\2023_ccaa_noviembre_T.ESPAÑA.csv\n",
      "  ✔ CCAA guardado: CSV_Mensuales\\ccaa\\2023_ccaa_noviembre_CATALUÑA.csv\n",
      "  ✔ CCAA guardado: CSV_Mensuales\\ccaa\\2023_ccaa_noviembre_ARAGÓN.csv\n",
      "  ✔ CCAA guardado: CSV_Mensuales\\ccaa\\2023_ccaa_noviembre_ILLES BALEARS.csv\n",
      "  ✔ CCAA guardado: CSV_Mensuales\\ccaa\\2023_ccaa_noviembre_COMUNITAT VALENCIANA.csv\n",
      "  ✔ CCAA guardado: CSV_Mensuales\\ccaa\\2023_ccaa_noviembre_REGIÓN DE MURCIA.csv\n",
      "  ✔ CCAA guardado: CSV_Mensuales\\ccaa\\2023_ccaa_noviembre_ANDALUCÍA.csv\n",
      "  ✔ CCAA guardado: CSV_Mensuales\\ccaa\\2023_ccaa_noviembre_COMUNIDAD DE MADRID.csv\n",
      "  ✔ CCAA guardado: CSV_Mensuales\\ccaa\\2023_ccaa_noviembre_CASTILLA - LA MANCHA.csv\n",
      "  ✔ CCAA guardado: CSV_Mensuales\\ccaa\\2023_ccaa_noviembre_EXTREMADURA.csv\n",
      "  ✔ CCAA guardado: CSV_Mensuales\\ccaa\\2023_ccaa_noviembre_CASTILLA Y LEÓN.csv\n",
      "  ✔ CCAA guardado: CSV_Mensuales\\ccaa\\2023_ccaa_noviembre_GALICIA.csv\n",
      "  ✔ CCAA guardado: CSV_Mensuales\\ccaa\\2023_ccaa_noviembre_PRINCIPADO DE ASTURIAS.csv\n",
      "  ✔ CCAA guardado: CSV_Mensuales\\ccaa\\2023_ccaa_noviembre_CANTABRIA.csv\n",
      "  ✔ CCAA guardado: CSV_Mensuales\\ccaa\\2023_ccaa_noviembre_PAIS VASCO.csv\n",
      "  ✔ CCAA guardado: CSV_Mensuales\\ccaa\\2023_ccaa_noviembre_LA RIOJA.csv\n",
      "  ✔ CCAA guardado: CSV_Mensuales\\ccaa\\2023_ccaa_noviembre_C. FORAL DE NAVARRA.csv\n",
      "  ✔ CCAA guardado: CSV_Mensuales\\ccaa\\2023_ccaa_noviembre_CANARIAS.csv\n"
     ]
    },
    {
     "name": "stderr",
     "output_type": "stream",
     "text": [
      "C:\\Users\\Jokin\\AppData\\Local\\Temp\\ipykernel_76216\\1162139421.py:189: SettingWithCopyWarning: \n",
      "A value is trying to be set on a copy of a slice from a DataFrame.\n",
      "Try using .loc[row_indexer,col_indexer] = value instead\n",
      "\n",
      "See the caveats in the documentation: https://pandas.pydata.org/pandas-docs/stable/user_guide/indexing.html#returning-a-view-versus-a-copy\n",
      "  niveles_df['Nombre'] = niveles_df['Nombre'].astype(str).str.strip().str.upper()\n"
     ]
    },
    {
     "name": "stdout",
     "output_type": "stream",
     "text": [
      "  ✔ CCAA guardado: CSV_Mensuales\\ccaa\\2023_ccaa_diciembre_T.ESPAÑA.csv\n",
      "  ✔ CCAA guardado: CSV_Mensuales\\ccaa\\2023_ccaa_diciembre_CATALUÑA.csv\n",
      "  ✔ CCAA guardado: CSV_Mensuales\\ccaa\\2023_ccaa_diciembre_ARAGÓN.csv\n",
      "  ✔ CCAA guardado: CSV_Mensuales\\ccaa\\2023_ccaa_diciembre_ILLES BALEARS.csv\n",
      "  ✔ CCAA guardado: CSV_Mensuales\\ccaa\\2023_ccaa_diciembre_COMUNITAT VALENCIANA.csv\n",
      "  ✔ CCAA guardado: CSV_Mensuales\\ccaa\\2023_ccaa_diciembre_REGIÓN DE MURCIA.csv\n",
      "  ✔ CCAA guardado: CSV_Mensuales\\ccaa\\2023_ccaa_diciembre_ANDALUCÍA.csv\n",
      "  ✔ CCAA guardado: CSV_Mensuales\\ccaa\\2023_ccaa_diciembre_COMUNIDAD DE MADRID.csv\n",
      "  ✔ CCAA guardado: CSV_Mensuales\\ccaa\\2023_ccaa_diciembre_CASTILLA - LA MANCHA.csv\n",
      "  ✔ CCAA guardado: CSV_Mensuales\\ccaa\\2023_ccaa_diciembre_EXTREMADURA.csv\n",
      "  ✔ CCAA guardado: CSV_Mensuales\\ccaa\\2023_ccaa_diciembre_CASTILLA Y LEÓN.csv\n",
      "  ✔ CCAA guardado: CSV_Mensuales\\ccaa\\2023_ccaa_diciembre_GALICIA.csv\n",
      "  ✔ CCAA guardado: CSV_Mensuales\\ccaa\\2023_ccaa_diciembre_PRINCIPADO DE ASTURIAS.csv\n",
      "  ✔ CCAA guardado: CSV_Mensuales\\ccaa\\2023_ccaa_diciembre_CANTABRIA.csv\n",
      "  ✔ CCAA guardado: CSV_Mensuales\\ccaa\\2023_ccaa_diciembre_PAIS VASCO.csv\n",
      "  ✔ CCAA guardado: CSV_Mensuales\\ccaa\\2023_ccaa_diciembre_LA RIOJA.csv\n",
      "  ✔ CCAA guardado: CSV_Mensuales\\ccaa\\2023_ccaa_diciembre_C. FORAL DE NAVARRA.csv\n",
      "  ✔ CCAA guardado: CSV_Mensuales\\ccaa\\2023_ccaa_diciembre_CANARIAS.csv\n",
      "\n",
      "📂 Procesando archivo mensual: 2023_sd_datos_mensuales_panel_consumo_hogares_base2021_tcm30_686111_sociodem.xlsx\n"
     ]
    },
    {
     "name": "stderr",
     "output_type": "stream",
     "text": [
      "C:\\Users\\Jokin\\AppData\\Local\\Temp\\ipykernel_76216\\1162139421.py:189: SettingWithCopyWarning: \n",
      "A value is trying to be set on a copy of a slice from a DataFrame.\n",
      "Try using .loc[row_indexer,col_indexer] = value instead\n",
      "\n",
      "See the caveats in the documentation: https://pandas.pydata.org/pandas-docs/stable/user_guide/indexing.html#returning-a-view-versus-a-copy\n",
      "  niveles_df['Nombre'] = niveles_df['Nombre'].astype(str).str.strip().str.upper()\n"
     ]
    },
    {
     "name": "stdout",
     "output_type": "stream",
     "text": [
      "  📄 Procesando hoja: enero\n"
     ]
    },
    {
     "name": "stderr",
     "output_type": "stream",
     "text": [
      "C:\\Users\\Jokin\\AppData\\Local\\Temp\\ipykernel_76216\\1162139421.py:92: FutureWarning: DataFrame.applymap has been deprecated. Use DataFrame.map instead.\n",
      "  df = df.applymap(lambda x: x.strip() if isinstance(x, str) else x)\n",
      "C:\\Users\\Jokin\\AppData\\Local\\Temp\\ipykernel_76216\\1162139421.py:164: SettingWithCopyWarning: \n",
      "A value is trying to be set on a copy of a slice from a DataFrame.\n",
      "Try using .loc[row_indexer,col_indexer] = value instead\n",
      "\n",
      "See the caveats in the documentation: https://pandas.pydata.org/pandas-docs/stable/user_guide/indexing.html#returning-a-view-versus-a-copy\n",
      "  niveles_df['Nombre'] = niveles_df['Nombre'].astype(str).str.strip().str.upper()\n"
     ]
    },
    {
     "name": "stdout",
     "output_type": "stream",
     "text": [
      "    ✔ CSV creado: CSV_Mensuales\\sociodem\\2023_sociodem_enero_CONSUMO_X_CAPITA.csv\n",
      "    ✔ CSV creado: CSV_Mensuales\\sociodem\\2023_sociodem_enero_GASTO_X_CAPITA.csv\n",
      "    ✔ CSV creado: CSV_Mensuales\\sociodem\\2023_sociodem_enero_PENETRACION.csv\n",
      "    ✔ CSV creado: CSV_Mensuales\\sociodem\\2023_sociodem_enero_PRECIO_MEDIO_KG_Ó_LITROS.csv\n",
      "    ✔ CSV creado: CSV_Mensuales\\sociodem\\2023_sociodem_enero_VALOR_MILES_EUROS.csv\n",
      "    ✔ CSV creado: CSV_Mensuales\\sociodem\\2023_sociodem_enero_VOLUMEN_MILES_KG_Ó_LITROS.csv\n",
      "  📄 Procesando hoja: febrero\n"
     ]
    },
    {
     "name": "stderr",
     "output_type": "stream",
     "text": [
      "C:\\Users\\Jokin\\AppData\\Local\\Temp\\ipykernel_76216\\1162139421.py:92: FutureWarning: DataFrame.applymap has been deprecated. Use DataFrame.map instead.\n",
      "  df = df.applymap(lambda x: x.strip() if isinstance(x, str) else x)\n"
     ]
    },
    {
     "name": "stdout",
     "output_type": "stream",
     "text": [
      "    ✔ CSV creado: CSV_Mensuales\\sociodem\\2023_sociodem_febrero_CONSUMO_X_CAPITA.csv\n",
      "    ✔ CSV creado: CSV_Mensuales\\sociodem\\2023_sociodem_febrero_GASTO_X_CAPITA.csv\n",
      "    ✔ CSV creado: CSV_Mensuales\\sociodem\\2023_sociodem_febrero_PENETRACION.csv\n",
      "    ✔ CSV creado: CSV_Mensuales\\sociodem\\2023_sociodem_febrero_PRECIO_MEDIO_KG_Ó_LITROS.csv\n",
      "    ✔ CSV creado: CSV_Mensuales\\sociodem\\2023_sociodem_febrero_VALOR_MILES_EUROS.csv\n",
      "    ✔ CSV creado: CSV_Mensuales\\sociodem\\2023_sociodem_febrero_VOLUMEN_MILES_KG_Ó_LITROS.csv\n",
      "  📄 Procesando hoja: marzo\n"
     ]
    },
    {
     "name": "stderr",
     "output_type": "stream",
     "text": [
      "C:\\Users\\Jokin\\AppData\\Local\\Temp\\ipykernel_76216\\1162139421.py:92: FutureWarning: DataFrame.applymap has been deprecated. Use DataFrame.map instead.\n",
      "  df = df.applymap(lambda x: x.strip() if isinstance(x, str) else x)\n"
     ]
    },
    {
     "name": "stdout",
     "output_type": "stream",
     "text": [
      "    ✔ CSV creado: CSV_Mensuales\\sociodem\\2023_sociodem_marzo_CONSUMO_X_CAPITA.csv\n",
      "    ✔ CSV creado: CSV_Mensuales\\sociodem\\2023_sociodem_marzo_GASTO_X_CAPITA.csv\n",
      "    ✔ CSV creado: CSV_Mensuales\\sociodem\\2023_sociodem_marzo_PENETRACION.csv\n",
      "    ✔ CSV creado: CSV_Mensuales\\sociodem\\2023_sociodem_marzo_PRECIO_MEDIO_KG_Ó_LITROS.csv\n",
      "    ✔ CSV creado: CSV_Mensuales\\sociodem\\2023_sociodem_marzo_VALOR_MILES_EUROS.csv\n",
      "    ✔ CSV creado: CSV_Mensuales\\sociodem\\2023_sociodem_marzo_VOLUMEN_MILES_KG_Ó_LITROS.csv\n",
      "  📄 Procesando hoja: abril\n"
     ]
    },
    {
     "name": "stderr",
     "output_type": "stream",
     "text": [
      "C:\\Users\\Jokin\\AppData\\Local\\Temp\\ipykernel_76216\\1162139421.py:92: FutureWarning: DataFrame.applymap has been deprecated. Use DataFrame.map instead.\n",
      "  df = df.applymap(lambda x: x.strip() if isinstance(x, str) else x)\n"
     ]
    },
    {
     "name": "stdout",
     "output_type": "stream",
     "text": [
      "    ✔ CSV creado: CSV_Mensuales\\sociodem\\2023_sociodem_abril_CONSUMO_X_CAPITA.csv\n",
      "    ✔ CSV creado: CSV_Mensuales\\sociodem\\2023_sociodem_abril_GASTO_X_CAPITA.csv\n",
      "    ✔ CSV creado: CSV_Mensuales\\sociodem\\2023_sociodem_abril_PENETRACION.csv\n",
      "    ✔ CSV creado: CSV_Mensuales\\sociodem\\2023_sociodem_abril_PRECIO_MEDIO_KG_Ó_LITROS.csv\n",
      "    ✔ CSV creado: CSV_Mensuales\\sociodem\\2023_sociodem_abril_VALOR_MILES_EUROS.csv\n",
      "    ✔ CSV creado: CSV_Mensuales\\sociodem\\2023_sociodem_abril_VOLUMEN_MILES_KG_Ó_LITROS.csv\n",
      "  📄 Procesando hoja: mayo\n"
     ]
    },
    {
     "name": "stderr",
     "output_type": "stream",
     "text": [
      "C:\\Users\\Jokin\\AppData\\Local\\Temp\\ipykernel_76216\\1162139421.py:92: FutureWarning: DataFrame.applymap has been deprecated. Use DataFrame.map instead.\n",
      "  df = df.applymap(lambda x: x.strip() if isinstance(x, str) else x)\n"
     ]
    },
    {
     "name": "stdout",
     "output_type": "stream",
     "text": [
      "    ✔ CSV creado: CSV_Mensuales\\sociodem\\2023_sociodem_mayo_CONSUMO_X_CAPITA.csv\n",
      "    ✔ CSV creado: CSV_Mensuales\\sociodem\\2023_sociodem_mayo_GASTO_X_CAPITA.csv\n",
      "    ✔ CSV creado: CSV_Mensuales\\sociodem\\2023_sociodem_mayo_PENETRACION.csv\n",
      "    ✔ CSV creado: CSV_Mensuales\\sociodem\\2023_sociodem_mayo_PRECIO_MEDIO_KG_Ó_LITROS.csv\n",
      "    ✔ CSV creado: CSV_Mensuales\\sociodem\\2023_sociodem_mayo_VALOR_MILES_EUROS.csv\n",
      "    ✔ CSV creado: CSV_Mensuales\\sociodem\\2023_sociodem_mayo_VOLUMEN_MILES_KG_Ó_LITROS.csv\n",
      "  📄 Procesando hoja: junio\n"
     ]
    },
    {
     "name": "stderr",
     "output_type": "stream",
     "text": [
      "C:\\Users\\Jokin\\AppData\\Local\\Temp\\ipykernel_76216\\1162139421.py:92: FutureWarning: DataFrame.applymap has been deprecated. Use DataFrame.map instead.\n",
      "  df = df.applymap(lambda x: x.strip() if isinstance(x, str) else x)\n"
     ]
    },
    {
     "name": "stdout",
     "output_type": "stream",
     "text": [
      "    ✔ CSV creado: CSV_Mensuales\\sociodem\\2023_sociodem_junio_CONSUMO_X_CAPITA.csv\n",
      "    ✔ CSV creado: CSV_Mensuales\\sociodem\\2023_sociodem_junio_GASTO_X_CAPITA.csv\n",
      "    ✔ CSV creado: CSV_Mensuales\\sociodem\\2023_sociodem_junio_PENETRACION.csv\n",
      "    ✔ CSV creado: CSV_Mensuales\\sociodem\\2023_sociodem_junio_PRECIO_MEDIO_KG_Ó_LITROS.csv\n",
      "    ✔ CSV creado: CSV_Mensuales\\sociodem\\2023_sociodem_junio_VALOR_MILES_EUROS.csv\n",
      "    ✔ CSV creado: CSV_Mensuales\\sociodem\\2023_sociodem_junio_VOLUMEN_MILES_KG_Ó_LITROS.csv\n",
      "  📄 Procesando hoja: julio\n"
     ]
    },
    {
     "name": "stderr",
     "output_type": "stream",
     "text": [
      "C:\\Users\\Jokin\\AppData\\Local\\Temp\\ipykernel_76216\\1162139421.py:92: FutureWarning: DataFrame.applymap has been deprecated. Use DataFrame.map instead.\n",
      "  df = df.applymap(lambda x: x.strip() if isinstance(x, str) else x)\n"
     ]
    },
    {
     "name": "stdout",
     "output_type": "stream",
     "text": [
      "    ✔ CSV creado: CSV_Mensuales\\sociodem\\2023_sociodem_julio_CONSUMO_X_CAPITA.csv\n",
      "    ✔ CSV creado: CSV_Mensuales\\sociodem\\2023_sociodem_julio_GASTO_X_CAPITA.csv\n",
      "    ✔ CSV creado: CSV_Mensuales\\sociodem\\2023_sociodem_julio_PENETRACION.csv\n",
      "    ✔ CSV creado: CSV_Mensuales\\sociodem\\2023_sociodem_julio_PRECIO_MEDIO_KG_Ó_LITROS.csv\n",
      "    ✔ CSV creado: CSV_Mensuales\\sociodem\\2023_sociodem_julio_VALOR_MILES_EUROS.csv\n",
      "    ✔ CSV creado: CSV_Mensuales\\sociodem\\2023_sociodem_julio_VOLUMEN_MILES_KG_Ó_LITROS.csv\n",
      "  📄 Procesando hoja: agosto\n"
     ]
    },
    {
     "name": "stderr",
     "output_type": "stream",
     "text": [
      "C:\\Users\\Jokin\\AppData\\Local\\Temp\\ipykernel_76216\\1162139421.py:92: FutureWarning: DataFrame.applymap has been deprecated. Use DataFrame.map instead.\n",
      "  df = df.applymap(lambda x: x.strip() if isinstance(x, str) else x)\n"
     ]
    },
    {
     "name": "stdout",
     "output_type": "stream",
     "text": [
      "    ✔ CSV creado: CSV_Mensuales\\sociodem\\2023_sociodem_agosto_CONSUMO_X_CAPITA.csv\n",
      "    ✔ CSV creado: CSV_Mensuales\\sociodem\\2023_sociodem_agosto_GASTO_X_CAPITA.csv\n",
      "    ✔ CSV creado: CSV_Mensuales\\sociodem\\2023_sociodem_agosto_PENETRACION.csv\n",
      "    ✔ CSV creado: CSV_Mensuales\\sociodem\\2023_sociodem_agosto_PRECIO_MEDIO_KG_Ó_LITROS.csv\n",
      "    ✔ CSV creado: CSV_Mensuales\\sociodem\\2023_sociodem_agosto_VALOR_MILES_EUROS.csv\n",
      "    ✔ CSV creado: CSV_Mensuales\\sociodem\\2023_sociodem_agosto_VOLUMEN_MILES_KG_Ó_LITROS.csv\n",
      "  📄 Procesando hoja: septiembre\n"
     ]
    },
    {
     "name": "stderr",
     "output_type": "stream",
     "text": [
      "C:\\Users\\Jokin\\AppData\\Local\\Temp\\ipykernel_76216\\1162139421.py:92: FutureWarning: DataFrame.applymap has been deprecated. Use DataFrame.map instead.\n",
      "  df = df.applymap(lambda x: x.strip() if isinstance(x, str) else x)\n"
     ]
    },
    {
     "name": "stdout",
     "output_type": "stream",
     "text": [
      "    ✔ CSV creado: CSV_Mensuales\\sociodem\\2023_sociodem_septiembre_CONSUMO_X_CAPITA.csv\n",
      "    ✔ CSV creado: CSV_Mensuales\\sociodem\\2023_sociodem_septiembre_GASTO_X_CAPITA.csv\n",
      "    ✔ CSV creado: CSV_Mensuales\\sociodem\\2023_sociodem_septiembre_PENETRACION.csv\n",
      "    ✔ CSV creado: CSV_Mensuales\\sociodem\\2023_sociodem_septiembre_PRECIO_MEDIO_KG_Ó_LITROS.csv\n",
      "    ✔ CSV creado: CSV_Mensuales\\sociodem\\2023_sociodem_septiembre_VALOR_MILES_EUROS.csv\n",
      "    ✔ CSV creado: CSV_Mensuales\\sociodem\\2023_sociodem_septiembre_VOLUMEN_MILES_KG_Ó_LITROS.csv\n",
      "  📄 Procesando hoja: octubre\n"
     ]
    },
    {
     "name": "stderr",
     "output_type": "stream",
     "text": [
      "C:\\Users\\Jokin\\AppData\\Local\\Temp\\ipykernel_76216\\1162139421.py:92: FutureWarning: DataFrame.applymap has been deprecated. Use DataFrame.map instead.\n",
      "  df = df.applymap(lambda x: x.strip() if isinstance(x, str) else x)\n"
     ]
    },
    {
     "name": "stdout",
     "output_type": "stream",
     "text": [
      "    ✔ CSV creado: CSV_Mensuales\\sociodem\\2023_sociodem_octubre_CONSUMO_X_CAPITA.csv\n",
      "    ✔ CSV creado: CSV_Mensuales\\sociodem\\2023_sociodem_octubre_GASTO_X_CAPITA.csv\n",
      "    ✔ CSV creado: CSV_Mensuales\\sociodem\\2023_sociodem_octubre_PENETRACION.csv\n",
      "    ✔ CSV creado: CSV_Mensuales\\sociodem\\2023_sociodem_octubre_PRECIO_MEDIO_KG_Ó_LITROS.csv\n",
      "    ✔ CSV creado: CSV_Mensuales\\sociodem\\2023_sociodem_octubre_VALOR_MILES_EUROS.csv\n",
      "    ✔ CSV creado: CSV_Mensuales\\sociodem\\2023_sociodem_octubre_VOLUMEN_MILES_KG_Ó_LITROS.csv\n",
      "  📄 Procesando hoja: noviembre\n"
     ]
    },
    {
     "name": "stderr",
     "output_type": "stream",
     "text": [
      "C:\\Users\\Jokin\\AppData\\Local\\Temp\\ipykernel_76216\\1162139421.py:92: FutureWarning: DataFrame.applymap has been deprecated. Use DataFrame.map instead.\n",
      "  df = df.applymap(lambda x: x.strip() if isinstance(x, str) else x)\n"
     ]
    },
    {
     "name": "stdout",
     "output_type": "stream",
     "text": [
      "    ✔ CSV creado: CSV_Mensuales\\sociodem\\2023_sociodem_noviembre_CONSUMO_X_CAPITA.csv\n",
      "    ✔ CSV creado: CSV_Mensuales\\sociodem\\2023_sociodem_noviembre_NAN.csv\n",
      "    ✔ CSV creado: CSV_Mensuales\\sociodem\\2023_sociodem_noviembre_NAN.csv\n",
      "    ✔ CSV creado: CSV_Mensuales\\sociodem\\2023_sociodem_noviembre_NAN.csv\n",
      "    ✔ CSV creado: CSV_Mensuales\\sociodem\\2023_sociodem_noviembre_NAN.csv\n",
      "    ✔ CSV creado: CSV_Mensuales\\sociodem\\2023_sociodem_noviembre_NAN.csv\n",
      "  📄 Procesando hoja: diciembre\n"
     ]
    },
    {
     "name": "stderr",
     "output_type": "stream",
     "text": [
      "C:\\Users\\Jokin\\AppData\\Local\\Temp\\ipykernel_76216\\1162139421.py:92: FutureWarning: DataFrame.applymap has been deprecated. Use DataFrame.map instead.\n",
      "  df = df.applymap(lambda x: x.strip() if isinstance(x, str) else x)\n"
     ]
    },
    {
     "name": "stdout",
     "output_type": "stream",
     "text": [
      "    ✔ CSV creado: CSV_Mensuales\\sociodem\\2023_sociodem_diciembre_CONSUMO_X_CAPITA.csv\n",
      "    ✔ CSV creado: CSV_Mensuales\\sociodem\\2023_sociodem_diciembre_GASTO_X_CAPITA.csv\n",
      "    ✔ CSV creado: CSV_Mensuales\\sociodem\\2023_sociodem_diciembre_PENETRACION.csv\n",
      "    ✔ CSV creado: CSV_Mensuales\\sociodem\\2023_sociodem_diciembre_PRECIO_MEDIO_KG_Ó_LITROS.csv\n",
      "    ✔ CSV creado: CSV_Mensuales\\sociodem\\2023_sociodem_diciembre_VALOR_MILES_EUROS.csv\n",
      "    ✔ CSV creado: CSV_Mensuales\\sociodem\\2023_sociodem_diciembre_VOLUMEN_MILES_KG_Ó_LITROS.csv\n",
      "\n",
      "📂 Procesando archivo mensual: 2024_datos_mensuales_panel_consumo_hogares_canales_base2021_ok_tcm30_686042_canales.xlsx\n",
      "  ⏩ Omitida hoja: PORTADA\n",
      "  ⏩ Omitida hoja: Lista canales\n",
      "  💡 Se encontraron 4 bloques en 2024_canal_enero\n",
      "  ✔ PENETRACION guardado: CSV_Mensuales\\canal\\2024_canal_enero_PENETRACION.csv\n",
      "  ✔ PRECIO_MEDIO guardado: CSV_Mensuales\\canal\\2024_canal_enero_PRECIO_MEDIO.csv\n",
      "  ✔ VALOR guardado: CSV_Mensuales\\canal\\2024_canal_enero_VALOR.csv\n",
      "  ✔ VOLUMEN guardado: CSV_Mensuales\\canal\\2024_canal_enero_VOLUMEN.csv\n"
     ]
    },
    {
     "name": "stderr",
     "output_type": "stream",
     "text": [
      "C:\\Users\\Jokin\\AppData\\Local\\Temp\\ipykernel_76216\\1162139421.py:293: SettingWithCopyWarning: \n",
      "A value is trying to be set on a copy of a slice from a DataFrame.\n",
      "Try using .loc[row_indexer,col_indexer] = value instead\n",
      "\n",
      "See the caveats in the documentation: https://pandas.pydata.org/pandas-docs/stable/user_guide/indexing.html#returning-a-view-versus-a-copy\n",
      "  niveles_df['Nombre'] = niveles_df['Nombre'].astype(str).str.strip().str.upper()\n"
     ]
    },
    {
     "name": "stdout",
     "output_type": "stream",
     "text": [
      "  💡 Se encontraron 4 bloques en 2024_canal_febrero\n",
      "  ✔ PENETRACION guardado: CSV_Mensuales\\canal\\2024_canal_febrero_PENETRACION.csv\n",
      "  ✔ PRECIO_MEDIO guardado: CSV_Mensuales\\canal\\2024_canal_febrero_PRECIO_MEDIO.csv\n",
      "  ✔ VALOR guardado: CSV_Mensuales\\canal\\2024_canal_febrero_VALOR.csv\n",
      "  ✔ VOLUMEN guardado: CSV_Mensuales\\canal\\2024_canal_febrero_VOLUMEN.csv\n"
     ]
    },
    {
     "name": "stderr",
     "output_type": "stream",
     "text": [
      "C:\\Users\\Jokin\\AppData\\Local\\Temp\\ipykernel_76216\\1162139421.py:293: SettingWithCopyWarning: \n",
      "A value is trying to be set on a copy of a slice from a DataFrame.\n",
      "Try using .loc[row_indexer,col_indexer] = value instead\n",
      "\n",
      "See the caveats in the documentation: https://pandas.pydata.org/pandas-docs/stable/user_guide/indexing.html#returning-a-view-versus-a-copy\n",
      "  niveles_df['Nombre'] = niveles_df['Nombre'].astype(str).str.strip().str.upper()\n"
     ]
    },
    {
     "name": "stdout",
     "output_type": "stream",
     "text": [
      "  💡 Se encontraron 4 bloques en 2024_canal_marzo\n",
      "  ✔ PENETRACION guardado: CSV_Mensuales\\canal\\2024_canal_marzo_PENETRACION.csv\n",
      "  ✔ PRECIO_MEDIO guardado: CSV_Mensuales\\canal\\2024_canal_marzo_PRECIO_MEDIO.csv\n",
      "  ✔ VALOR guardado: CSV_Mensuales\\canal\\2024_canal_marzo_VALOR.csv\n",
      "  ✔ VOLUMEN guardado: CSV_Mensuales\\canal\\2024_canal_marzo_VOLUMEN.csv\n"
     ]
    },
    {
     "name": "stderr",
     "output_type": "stream",
     "text": [
      "C:\\Users\\Jokin\\AppData\\Local\\Temp\\ipykernel_76216\\1162139421.py:293: SettingWithCopyWarning: \n",
      "A value is trying to be set on a copy of a slice from a DataFrame.\n",
      "Try using .loc[row_indexer,col_indexer] = value instead\n",
      "\n",
      "See the caveats in the documentation: https://pandas.pydata.org/pandas-docs/stable/user_guide/indexing.html#returning-a-view-versus-a-copy\n",
      "  niveles_df['Nombre'] = niveles_df['Nombre'].astype(str).str.strip().str.upper()\n"
     ]
    },
    {
     "name": "stdout",
     "output_type": "stream",
     "text": [
      "  💡 Se encontraron 4 bloques en 2024_canal_abril\n",
      "  ✔ PENETRACION guardado: CSV_Mensuales\\canal\\2024_canal_abril_PENETRACION.csv\n",
      "  ✔ PRECIO_MEDIO guardado: CSV_Mensuales\\canal\\2024_canal_abril_PRECIO_MEDIO.csv\n",
      "  ✔ VALOR guardado: CSV_Mensuales\\canal\\2024_canal_abril_VALOR.csv\n",
      "  ✔ VOLUMEN guardado: CSV_Mensuales\\canal\\2024_canal_abril_VOLUMEN.csv\n"
     ]
    },
    {
     "name": "stderr",
     "output_type": "stream",
     "text": [
      "C:\\Users\\Jokin\\AppData\\Local\\Temp\\ipykernel_76216\\1162139421.py:293: SettingWithCopyWarning: \n",
      "A value is trying to be set on a copy of a slice from a DataFrame.\n",
      "Try using .loc[row_indexer,col_indexer] = value instead\n",
      "\n",
      "See the caveats in the documentation: https://pandas.pydata.org/pandas-docs/stable/user_guide/indexing.html#returning-a-view-versus-a-copy\n",
      "  niveles_df['Nombre'] = niveles_df['Nombre'].astype(str).str.strip().str.upper()\n"
     ]
    },
    {
     "name": "stdout",
     "output_type": "stream",
     "text": [
      "  💡 Se encontraron 4 bloques en 2024_canal_mayo\n",
      "  ✔ PENETRACION guardado: CSV_Mensuales\\canal\\2024_canal_mayo_PENETRACION.csv\n",
      "  ✔ PRECIO_MEDIO guardado: CSV_Mensuales\\canal\\2024_canal_mayo_PRECIO_MEDIO.csv\n",
      "  ✔ VALOR guardado: CSV_Mensuales\\canal\\2024_canal_mayo_VALOR.csv\n",
      "  ✔ VOLUMEN guardado: CSV_Mensuales\\canal\\2024_canal_mayo_VOLUMEN.csv\n"
     ]
    },
    {
     "name": "stderr",
     "output_type": "stream",
     "text": [
      "C:\\Users\\Jokin\\AppData\\Local\\Temp\\ipykernel_76216\\1162139421.py:293: SettingWithCopyWarning: \n",
      "A value is trying to be set on a copy of a slice from a DataFrame.\n",
      "Try using .loc[row_indexer,col_indexer] = value instead\n",
      "\n",
      "See the caveats in the documentation: https://pandas.pydata.org/pandas-docs/stable/user_guide/indexing.html#returning-a-view-versus-a-copy\n",
      "  niveles_df['Nombre'] = niveles_df['Nombre'].astype(str).str.strip().str.upper()\n"
     ]
    },
    {
     "name": "stdout",
     "output_type": "stream",
     "text": [
      "  💡 Se encontraron 4 bloques en 2024_canal_junio\n",
      "  ✔ PENETRACION guardado: CSV_Mensuales\\canal\\2024_canal_junio_PENETRACION.csv\n",
      "  ✔ PRECIO_MEDIO guardado: CSV_Mensuales\\canal\\2024_canal_junio_PRECIO_MEDIO.csv\n",
      "  ✔ VALOR guardado: CSV_Mensuales\\canal\\2024_canal_junio_VALOR.csv\n",
      "  ✔ VOLUMEN guardado: CSV_Mensuales\\canal\\2024_canal_junio_VOLUMEN.csv\n"
     ]
    },
    {
     "name": "stderr",
     "output_type": "stream",
     "text": [
      "C:\\Users\\Jokin\\AppData\\Local\\Temp\\ipykernel_76216\\1162139421.py:293: SettingWithCopyWarning: \n",
      "A value is trying to be set on a copy of a slice from a DataFrame.\n",
      "Try using .loc[row_indexer,col_indexer] = value instead\n",
      "\n",
      "See the caveats in the documentation: https://pandas.pydata.org/pandas-docs/stable/user_guide/indexing.html#returning-a-view-versus-a-copy\n",
      "  niveles_df['Nombre'] = niveles_df['Nombre'].astype(str).str.strip().str.upper()\n"
     ]
    },
    {
     "name": "stdout",
     "output_type": "stream",
     "text": [
      "  💡 Se encontraron 4 bloques en 2024_canal_julio\n",
      "  ✔ PENETRACION guardado: CSV_Mensuales\\canal\\2024_canal_julio_PENETRACION.csv\n",
      "  ✔ PRECIO_MEDIO guardado: CSV_Mensuales\\canal\\2024_canal_julio_PRECIO_MEDIO.csv\n",
      "  ✔ VALOR guardado: CSV_Mensuales\\canal\\2024_canal_julio_VALOR.csv\n",
      "  ✔ VOLUMEN guardado: CSV_Mensuales\\canal\\2024_canal_julio_VOLUMEN.csv\n"
     ]
    },
    {
     "name": "stderr",
     "output_type": "stream",
     "text": [
      "C:\\Users\\Jokin\\AppData\\Local\\Temp\\ipykernel_76216\\1162139421.py:293: SettingWithCopyWarning: \n",
      "A value is trying to be set on a copy of a slice from a DataFrame.\n",
      "Try using .loc[row_indexer,col_indexer] = value instead\n",
      "\n",
      "See the caveats in the documentation: https://pandas.pydata.org/pandas-docs/stable/user_guide/indexing.html#returning-a-view-versus-a-copy\n",
      "  niveles_df['Nombre'] = niveles_df['Nombre'].astype(str).str.strip().str.upper()\n"
     ]
    },
    {
     "name": "stdout",
     "output_type": "stream",
     "text": [
      "  💡 Se encontraron 4 bloques en 2024_canal_agosto\n",
      "  ✔ PENETRACION guardado: CSV_Mensuales\\canal\\2024_canal_agosto_PENETRACION.csv\n",
      "  ✔ PRECIO_MEDIO guardado: CSV_Mensuales\\canal\\2024_canal_agosto_PRECIO_MEDIO.csv\n",
      "  ✔ VALOR guardado: CSV_Mensuales\\canal\\2024_canal_agosto_VALOR.csv\n",
      "  ✔ VOLUMEN guardado: CSV_Mensuales\\canal\\2024_canal_agosto_VOLUMEN.csv\n"
     ]
    },
    {
     "name": "stderr",
     "output_type": "stream",
     "text": [
      "C:\\Users\\Jokin\\AppData\\Local\\Temp\\ipykernel_76216\\1162139421.py:293: SettingWithCopyWarning: \n",
      "A value is trying to be set on a copy of a slice from a DataFrame.\n",
      "Try using .loc[row_indexer,col_indexer] = value instead\n",
      "\n",
      "See the caveats in the documentation: https://pandas.pydata.org/pandas-docs/stable/user_guide/indexing.html#returning-a-view-versus-a-copy\n",
      "  niveles_df['Nombre'] = niveles_df['Nombre'].astype(str).str.strip().str.upper()\n"
     ]
    },
    {
     "name": "stdout",
     "output_type": "stream",
     "text": [
      "  💡 Se encontraron 4 bloques en 2024_canal_septiembre\n",
      "  ✔ PENETRACION guardado: CSV_Mensuales\\canal\\2024_canal_septiembre_PENETRACION.csv\n",
      "  ✔ PRECIO_MEDIO guardado: CSV_Mensuales\\canal\\2024_canal_septiembre_PRECIO_MEDIO.csv\n",
      "  ✔ VALOR guardado: CSV_Mensuales\\canal\\2024_canal_septiembre_VALOR.csv\n",
      "  ✔ VOLUMEN guardado: CSV_Mensuales\\canal\\2024_canal_septiembre_VOLUMEN.csv\n"
     ]
    },
    {
     "name": "stderr",
     "output_type": "stream",
     "text": [
      "C:\\Users\\Jokin\\AppData\\Local\\Temp\\ipykernel_76216\\1162139421.py:293: SettingWithCopyWarning: \n",
      "A value is trying to be set on a copy of a slice from a DataFrame.\n",
      "Try using .loc[row_indexer,col_indexer] = value instead\n",
      "\n",
      "See the caveats in the documentation: https://pandas.pydata.org/pandas-docs/stable/user_guide/indexing.html#returning-a-view-versus-a-copy\n",
      "  niveles_df['Nombre'] = niveles_df['Nombre'].astype(str).str.strip().str.upper()\n"
     ]
    },
    {
     "name": "stdout",
     "output_type": "stream",
     "text": [
      "  💡 Se encontraron 4 bloques en 2024_canal_octubre\n",
      "  ✔ PENETRACION guardado: CSV_Mensuales\\canal\\2024_canal_octubre_PENETRACION.csv\n",
      "  ✔ PRECIO_MEDIO guardado: CSV_Mensuales\\canal\\2024_canal_octubre_PRECIO_MEDIO.csv\n",
      "  ✔ VALOR guardado: CSV_Mensuales\\canal\\2024_canal_octubre_VALOR.csv\n",
      "  ✔ VOLUMEN guardado: CSV_Mensuales\\canal\\2024_canal_octubre_VOLUMEN.csv\n"
     ]
    },
    {
     "name": "stderr",
     "output_type": "stream",
     "text": [
      "C:\\Users\\Jokin\\AppData\\Local\\Temp\\ipykernel_76216\\1162139421.py:293: SettingWithCopyWarning: \n",
      "A value is trying to be set on a copy of a slice from a DataFrame.\n",
      "Try using .loc[row_indexer,col_indexer] = value instead\n",
      "\n",
      "See the caveats in the documentation: https://pandas.pydata.org/pandas-docs/stable/user_guide/indexing.html#returning-a-view-versus-a-copy\n",
      "  niveles_df['Nombre'] = niveles_df['Nombre'].astype(str).str.strip().str.upper()\n"
     ]
    },
    {
     "name": "stdout",
     "output_type": "stream",
     "text": [
      "  💡 Se encontraron 4 bloques en 2024_canal_noviembre\n",
      "  ✔ PENETRACION guardado: CSV_Mensuales\\canal\\2024_canal_noviembre_PENETRACION.csv\n",
      "  ✔ PRECIO_MEDIO guardado: CSV_Mensuales\\canal\\2024_canal_noviembre_PRECIO_MEDIO.csv\n",
      "  ✔ VALOR guardado: CSV_Mensuales\\canal\\2024_canal_noviembre_VALOR.csv\n",
      "  ✔ VOLUMEN guardado: CSV_Mensuales\\canal\\2024_canal_noviembre_VOLUMEN.csv\n",
      "\n",
      "📂 Procesando archivo mensual: 2024_datos_mensuales_panel_consumo_hogares_ccaa_base2021_ok2_tcm30_686110_ccaa.xlsx\n"
     ]
    },
    {
     "name": "stderr",
     "output_type": "stream",
     "text": [
      "C:\\Users\\Jokin\\AppData\\Local\\Temp\\ipykernel_76216\\1162139421.py:293: SettingWithCopyWarning: \n",
      "A value is trying to be set on a copy of a slice from a DataFrame.\n",
      "Try using .loc[row_indexer,col_indexer] = value instead\n",
      "\n",
      "See the caveats in the documentation: https://pandas.pydata.org/pandas-docs/stable/user_guide/indexing.html#returning-a-view-versus-a-copy\n",
      "  niveles_df['Nombre'] = niveles_df['Nombre'].astype(str).str.strip().str.upper()\n"
     ]
    },
    {
     "name": "stdout",
     "output_type": "stream",
     "text": [
      "  ⏩ Omitida hoja: PORTADA\n",
      "  ✔ CCAA guardado: CSV_Mensuales\\ccaa\\2024_ccaa_enero_T.ESPAÑA.csv\n",
      "  ✔ CCAA guardado: CSV_Mensuales\\ccaa\\2024_ccaa_enero_CATALUÑA.csv\n",
      "  ✔ CCAA guardado: CSV_Mensuales\\ccaa\\2024_ccaa_enero_ARAGÓN.csv\n",
      "  ✔ CCAA guardado: CSV_Mensuales\\ccaa\\2024_ccaa_enero_ILLES BALEARS.csv\n",
      "  ✔ CCAA guardado: CSV_Mensuales\\ccaa\\2024_ccaa_enero_COMUNITAT VALENCIANA.csv\n",
      "  ✔ CCAA guardado: CSV_Mensuales\\ccaa\\2024_ccaa_enero_REGIÓN DE MURCIA.csv\n",
      "  ✔ CCAA guardado: CSV_Mensuales\\ccaa\\2024_ccaa_enero_ANDALUCÍA.csv\n",
      "  ✔ CCAA guardado: CSV_Mensuales\\ccaa\\2024_ccaa_enero_COMUNIDAD DE MADRID.csv\n",
      "  ✔ CCAA guardado: CSV_Mensuales\\ccaa\\2024_ccaa_enero_CASTILLA - LA MANCHA.csv\n",
      "  ✔ CCAA guardado: CSV_Mensuales\\ccaa\\2024_ccaa_enero_EXTREMADURA.csv\n",
      "  ✔ CCAA guardado: CSV_Mensuales\\ccaa\\2024_ccaa_enero_CASTILLA Y LEÓN.csv\n",
      "  ✔ CCAA guardado: CSV_Mensuales\\ccaa\\2024_ccaa_enero_GALICIA.csv\n",
      "  ✔ CCAA guardado: CSV_Mensuales\\ccaa\\2024_ccaa_enero_PRINCIPADO DE ASTURIAS.csv\n",
      "  ✔ CCAA guardado: CSV_Mensuales\\ccaa\\2024_ccaa_enero_CANTABRIA.csv\n",
      "  ✔ CCAA guardado: CSV_Mensuales\\ccaa\\2024_ccaa_enero_PAIS VASCO.csv\n",
      "  ✔ CCAA guardado: CSV_Mensuales\\ccaa\\2024_ccaa_enero_LA RIOJA.csv\n",
      "  ✔ CCAA guardado: CSV_Mensuales\\ccaa\\2024_ccaa_enero_C. FORAL DE NAVARRA.csv\n",
      "  ✔ CCAA guardado: CSV_Mensuales\\ccaa\\2024_ccaa_enero_CANARIAS.csv\n"
     ]
    },
    {
     "name": "stderr",
     "output_type": "stream",
     "text": [
      "C:\\Users\\Jokin\\AppData\\Local\\Temp\\ipykernel_76216\\1162139421.py:189: SettingWithCopyWarning: \n",
      "A value is trying to be set on a copy of a slice from a DataFrame.\n",
      "Try using .loc[row_indexer,col_indexer] = value instead\n",
      "\n",
      "See the caveats in the documentation: https://pandas.pydata.org/pandas-docs/stable/user_guide/indexing.html#returning-a-view-versus-a-copy\n",
      "  niveles_df['Nombre'] = niveles_df['Nombre'].astype(str).str.strip().str.upper()\n"
     ]
    },
    {
     "name": "stdout",
     "output_type": "stream",
     "text": [
      "  ✔ CCAA guardado: CSV_Mensuales\\ccaa\\2024_ccaa_febrero_T.ESPAÑA.csv\n",
      "  ✔ CCAA guardado: CSV_Mensuales\\ccaa\\2024_ccaa_febrero_CATALUÑA.csv\n",
      "  ✔ CCAA guardado: CSV_Mensuales\\ccaa\\2024_ccaa_febrero_ARAGÓN.csv\n",
      "  ✔ CCAA guardado: CSV_Mensuales\\ccaa\\2024_ccaa_febrero_ILLES BALEARS.csv\n",
      "  ✔ CCAA guardado: CSV_Mensuales\\ccaa\\2024_ccaa_febrero_COMUNITAT VALENCIANA.csv\n",
      "  ✔ CCAA guardado: CSV_Mensuales\\ccaa\\2024_ccaa_febrero_REGIÓN DE MURCIA.csv\n",
      "  ✔ CCAA guardado: CSV_Mensuales\\ccaa\\2024_ccaa_febrero_ANDALUCÍA.csv\n",
      "  ✔ CCAA guardado: CSV_Mensuales\\ccaa\\2024_ccaa_febrero_COMUNIDAD DE MADRID.csv\n",
      "  ✔ CCAA guardado: CSV_Mensuales\\ccaa\\2024_ccaa_febrero_CASTILLA - LA MANCHA.csv\n",
      "  ✔ CCAA guardado: CSV_Mensuales\\ccaa\\2024_ccaa_febrero_EXTREMADURA.csv\n",
      "  ✔ CCAA guardado: CSV_Mensuales\\ccaa\\2024_ccaa_febrero_CASTILLA Y LEÓN.csv\n",
      "  ✔ CCAA guardado: CSV_Mensuales\\ccaa\\2024_ccaa_febrero_GALICIA.csv\n",
      "  ✔ CCAA guardado: CSV_Mensuales\\ccaa\\2024_ccaa_febrero_PRINCIPADO DE ASTURIAS.csv\n",
      "  ✔ CCAA guardado: CSV_Mensuales\\ccaa\\2024_ccaa_febrero_CANTABRIA.csv\n",
      "  ✔ CCAA guardado: CSV_Mensuales\\ccaa\\2024_ccaa_febrero_PAIS VASCO.csv\n",
      "  ✔ CCAA guardado: CSV_Mensuales\\ccaa\\2024_ccaa_febrero_LA RIOJA.csv\n",
      "  ✔ CCAA guardado: CSV_Mensuales\\ccaa\\2024_ccaa_febrero_C. FORAL DE NAVARRA.csv\n",
      "  ✔ CCAA guardado: CSV_Mensuales\\ccaa\\2024_ccaa_febrero_CANARIAS.csv\n"
     ]
    },
    {
     "name": "stderr",
     "output_type": "stream",
     "text": [
      "C:\\Users\\Jokin\\AppData\\Local\\Temp\\ipykernel_76216\\1162139421.py:189: SettingWithCopyWarning: \n",
      "A value is trying to be set on a copy of a slice from a DataFrame.\n",
      "Try using .loc[row_indexer,col_indexer] = value instead\n",
      "\n",
      "See the caveats in the documentation: https://pandas.pydata.org/pandas-docs/stable/user_guide/indexing.html#returning-a-view-versus-a-copy\n",
      "  niveles_df['Nombre'] = niveles_df['Nombre'].astype(str).str.strip().str.upper()\n"
     ]
    },
    {
     "name": "stdout",
     "output_type": "stream",
     "text": [
      "  ✔ CCAA guardado: CSV_Mensuales\\ccaa\\2024_ccaa_marzo_T.ESPAÑA.csv\n",
      "  ✔ CCAA guardado: CSV_Mensuales\\ccaa\\2024_ccaa_marzo_CATALUÑA.csv\n",
      "  ✔ CCAA guardado: CSV_Mensuales\\ccaa\\2024_ccaa_marzo_ARAGÓN.csv\n",
      "  ✔ CCAA guardado: CSV_Mensuales\\ccaa\\2024_ccaa_marzo_ILLES BALEARS.csv\n",
      "  ✔ CCAA guardado: CSV_Mensuales\\ccaa\\2024_ccaa_marzo_COMUNITAT VALENCIANA.csv\n",
      "  ✔ CCAA guardado: CSV_Mensuales\\ccaa\\2024_ccaa_marzo_REGIÓN DE MURCIA.csv\n",
      "  ✔ CCAA guardado: CSV_Mensuales\\ccaa\\2024_ccaa_marzo_ANDALUCÍA.csv\n",
      "  ✔ CCAA guardado: CSV_Mensuales\\ccaa\\2024_ccaa_marzo_COMUNIDAD DE MADRID.csv\n",
      "  ✔ CCAA guardado: CSV_Mensuales\\ccaa\\2024_ccaa_marzo_CASTILLA - LA MANCHA.csv\n",
      "  ✔ CCAA guardado: CSV_Mensuales\\ccaa\\2024_ccaa_marzo_EXTREMADURA.csv\n",
      "  ✔ CCAA guardado: CSV_Mensuales\\ccaa\\2024_ccaa_marzo_CASTILLA Y LEÓN.csv\n",
      "  ✔ CCAA guardado: CSV_Mensuales\\ccaa\\2024_ccaa_marzo_GALICIA.csv\n",
      "  ✔ CCAA guardado: CSV_Mensuales\\ccaa\\2024_ccaa_marzo_PRINCIPADO DE ASTURIAS.csv\n",
      "  ✔ CCAA guardado: CSV_Mensuales\\ccaa\\2024_ccaa_marzo_CANTABRIA.csv\n",
      "  ✔ CCAA guardado: CSV_Mensuales\\ccaa\\2024_ccaa_marzo_PAIS VASCO.csv\n",
      "  ✔ CCAA guardado: CSV_Mensuales\\ccaa\\2024_ccaa_marzo_LA RIOJA.csv\n",
      "  ✔ CCAA guardado: CSV_Mensuales\\ccaa\\2024_ccaa_marzo_C. FORAL DE NAVARRA.csv\n",
      "  ✔ CCAA guardado: CSV_Mensuales\\ccaa\\2024_ccaa_marzo_CANARIAS.csv\n"
     ]
    },
    {
     "name": "stderr",
     "output_type": "stream",
     "text": [
      "C:\\Users\\Jokin\\AppData\\Local\\Temp\\ipykernel_76216\\1162139421.py:189: SettingWithCopyWarning: \n",
      "A value is trying to be set on a copy of a slice from a DataFrame.\n",
      "Try using .loc[row_indexer,col_indexer] = value instead\n",
      "\n",
      "See the caveats in the documentation: https://pandas.pydata.org/pandas-docs/stable/user_guide/indexing.html#returning-a-view-versus-a-copy\n",
      "  niveles_df['Nombre'] = niveles_df['Nombre'].astype(str).str.strip().str.upper()\n"
     ]
    },
    {
     "name": "stdout",
     "output_type": "stream",
     "text": [
      "  ✔ CCAA guardado: CSV_Mensuales\\ccaa\\2024_ccaa_abril_T.ESPAÑA.csv\n",
      "  ✔ CCAA guardado: CSV_Mensuales\\ccaa\\2024_ccaa_abril_CATALUÑA.csv\n",
      "  ✔ CCAA guardado: CSV_Mensuales\\ccaa\\2024_ccaa_abril_ARAGÓN.csv\n",
      "  ✔ CCAA guardado: CSV_Mensuales\\ccaa\\2024_ccaa_abril_ILLES BALEARS.csv\n",
      "  ✔ CCAA guardado: CSV_Mensuales\\ccaa\\2024_ccaa_abril_COMUNITAT VALENCIANA.csv\n",
      "  ✔ CCAA guardado: CSV_Mensuales\\ccaa\\2024_ccaa_abril_REGIÓN DE MURCIA.csv\n",
      "  ✔ CCAA guardado: CSV_Mensuales\\ccaa\\2024_ccaa_abril_ANDALUCÍA.csv\n",
      "  ✔ CCAA guardado: CSV_Mensuales\\ccaa\\2024_ccaa_abril_COMUNIDAD DE MADRID.csv\n",
      "  ✔ CCAA guardado: CSV_Mensuales\\ccaa\\2024_ccaa_abril_CASTILLA - LA MANCHA.csv\n",
      "  ✔ CCAA guardado: CSV_Mensuales\\ccaa\\2024_ccaa_abril_EXTREMADURA.csv\n",
      "  ✔ CCAA guardado: CSV_Mensuales\\ccaa\\2024_ccaa_abril_CASTILLA Y LEÓN.csv\n",
      "  ✔ CCAA guardado: CSV_Mensuales\\ccaa\\2024_ccaa_abril_GALICIA.csv\n",
      "  ✔ CCAA guardado: CSV_Mensuales\\ccaa\\2024_ccaa_abril_PRINCIPADO DE ASTURIAS.csv\n",
      "  ✔ CCAA guardado: CSV_Mensuales\\ccaa\\2024_ccaa_abril_CANTABRIA.csv\n",
      "  ✔ CCAA guardado: CSV_Mensuales\\ccaa\\2024_ccaa_abril_PAIS VASCO.csv\n",
      "  ✔ CCAA guardado: CSV_Mensuales\\ccaa\\2024_ccaa_abril_LA RIOJA.csv\n",
      "  ✔ CCAA guardado: CSV_Mensuales\\ccaa\\2024_ccaa_abril_C. FORAL DE NAVARRA.csv\n",
      "  ✔ CCAA guardado: CSV_Mensuales\\ccaa\\2024_ccaa_abril_CANARIAS.csv\n"
     ]
    },
    {
     "name": "stderr",
     "output_type": "stream",
     "text": [
      "C:\\Users\\Jokin\\AppData\\Local\\Temp\\ipykernel_76216\\1162139421.py:189: SettingWithCopyWarning: \n",
      "A value is trying to be set on a copy of a slice from a DataFrame.\n",
      "Try using .loc[row_indexer,col_indexer] = value instead\n",
      "\n",
      "See the caveats in the documentation: https://pandas.pydata.org/pandas-docs/stable/user_guide/indexing.html#returning-a-view-versus-a-copy\n",
      "  niveles_df['Nombre'] = niveles_df['Nombre'].astype(str).str.strip().str.upper()\n"
     ]
    },
    {
     "name": "stdout",
     "output_type": "stream",
     "text": [
      "  ✔ CCAA guardado: CSV_Mensuales\\ccaa\\2024_ccaa_mayo_T.ESPAÑA.csv\n",
      "  ✔ CCAA guardado: CSV_Mensuales\\ccaa\\2024_ccaa_mayo_CATALUÑA.csv\n",
      "  ✔ CCAA guardado: CSV_Mensuales\\ccaa\\2024_ccaa_mayo_ARAGÓN.csv\n",
      "  ✔ CCAA guardado: CSV_Mensuales\\ccaa\\2024_ccaa_mayo_ILLES BALEARS.csv\n",
      "  ✔ CCAA guardado: CSV_Mensuales\\ccaa\\2024_ccaa_mayo_COMUNITAT VALENCIANA.csv\n",
      "  ✔ CCAA guardado: CSV_Mensuales\\ccaa\\2024_ccaa_mayo_REGIÓN DE MURCIA.csv\n",
      "  ✔ CCAA guardado: CSV_Mensuales\\ccaa\\2024_ccaa_mayo_ANDALUCÍA.csv\n",
      "  ✔ CCAA guardado: CSV_Mensuales\\ccaa\\2024_ccaa_mayo_COMUNIDAD DE MADRID.csv\n",
      "  ✔ CCAA guardado: CSV_Mensuales\\ccaa\\2024_ccaa_mayo_CASTILLA - LA MANCHA.csv\n",
      "  ✔ CCAA guardado: CSV_Mensuales\\ccaa\\2024_ccaa_mayo_EXTREMADURA.csv\n",
      "  ✔ CCAA guardado: CSV_Mensuales\\ccaa\\2024_ccaa_mayo_CASTILLA Y LEÓN.csv\n",
      "  ✔ CCAA guardado: CSV_Mensuales\\ccaa\\2024_ccaa_mayo_GALICIA.csv\n",
      "  ✔ CCAA guardado: CSV_Mensuales\\ccaa\\2024_ccaa_mayo_PRINCIPADO DE ASTURIAS.csv\n",
      "  ✔ CCAA guardado: CSV_Mensuales\\ccaa\\2024_ccaa_mayo_CANTABRIA.csv\n",
      "  ✔ CCAA guardado: CSV_Mensuales\\ccaa\\2024_ccaa_mayo_PAIS VASCO.csv\n",
      "  ✔ CCAA guardado: CSV_Mensuales\\ccaa\\2024_ccaa_mayo_LA RIOJA.csv\n"
     ]
    },
    {
     "name": "stderr",
     "output_type": "stream",
     "text": [
      "C:\\Users\\Jokin\\AppData\\Local\\Temp\\ipykernel_76216\\1162139421.py:189: SettingWithCopyWarning: \n",
      "A value is trying to be set on a copy of a slice from a DataFrame.\n",
      "Try using .loc[row_indexer,col_indexer] = value instead\n",
      "\n",
      "See the caveats in the documentation: https://pandas.pydata.org/pandas-docs/stable/user_guide/indexing.html#returning-a-view-versus-a-copy\n",
      "  niveles_df['Nombre'] = niveles_df['Nombre'].astype(str).str.strip().str.upper()\n"
     ]
    },
    {
     "name": "stdout",
     "output_type": "stream",
     "text": [
      "  ✔ CCAA guardado: CSV_Mensuales\\ccaa\\2024_ccaa_mayo_C. FORAL DE NAVARRA.csv\n",
      "  ✔ CCAA guardado: CSV_Mensuales\\ccaa\\2024_ccaa_mayo_CANARIAS.csv\n",
      "  ✔ CCAA guardado: CSV_Mensuales\\ccaa\\2024_ccaa_junio_T.ESPAÑA.csv\n",
      "  ✔ CCAA guardado: CSV_Mensuales\\ccaa\\2024_ccaa_junio_CATALUÑA.csv\n",
      "  ✔ CCAA guardado: CSV_Mensuales\\ccaa\\2024_ccaa_junio_ARAGÓN.csv\n",
      "  ✔ CCAA guardado: CSV_Mensuales\\ccaa\\2024_ccaa_junio_ILLES BALEARS.csv\n",
      "  ✔ CCAA guardado: CSV_Mensuales\\ccaa\\2024_ccaa_junio_COMUNITAT VALENCIANA.csv\n",
      "  ✔ CCAA guardado: CSV_Mensuales\\ccaa\\2024_ccaa_junio_REGIÓN DE MURCIA.csv\n",
      "  ✔ CCAA guardado: CSV_Mensuales\\ccaa\\2024_ccaa_junio_ANDALUCÍA.csv\n",
      "  ✔ CCAA guardado: CSV_Mensuales\\ccaa\\2024_ccaa_junio_COMUNIDAD DE MADRID.csv\n",
      "  ✔ CCAA guardado: CSV_Mensuales\\ccaa\\2024_ccaa_junio_CASTILLA - LA MANCHA.csv\n",
      "  ✔ CCAA guardado: CSV_Mensuales\\ccaa\\2024_ccaa_junio_EXTREMADURA.csv\n",
      "  ✔ CCAA guardado: CSV_Mensuales\\ccaa\\2024_ccaa_junio_CASTILLA Y LEÓN.csv\n",
      "  ✔ CCAA guardado: CSV_Mensuales\\ccaa\\2024_ccaa_junio_GALICIA.csv\n",
      "  ✔ CCAA guardado: CSV_Mensuales\\ccaa\\2024_ccaa_junio_PRINCIPADO DE ASTURIAS.csv\n",
      "  ✔ CCAA guardado: CSV_Mensuales\\ccaa\\2024_ccaa_junio_CANTABRIA.csv\n",
      "  ✔ CCAA guardado: CSV_Mensuales\\ccaa\\2024_ccaa_junio_PAIS VASCO.csv\n",
      "  ✔ CCAA guardado: CSV_Mensuales\\ccaa\\2024_ccaa_junio_LA RIOJA.csv\n",
      "  ✔ CCAA guardado: CSV_Mensuales\\ccaa\\2024_ccaa_junio_C. FORAL DE NAVARRA.csv\n",
      "  ✔ CCAA guardado: CSV_Mensuales\\ccaa\\2024_ccaa_junio_CANARIAS.csv\n"
     ]
    },
    {
     "name": "stderr",
     "output_type": "stream",
     "text": [
      "C:\\Users\\Jokin\\AppData\\Local\\Temp\\ipykernel_76216\\1162139421.py:189: SettingWithCopyWarning: \n",
      "A value is trying to be set on a copy of a slice from a DataFrame.\n",
      "Try using .loc[row_indexer,col_indexer] = value instead\n",
      "\n",
      "See the caveats in the documentation: https://pandas.pydata.org/pandas-docs/stable/user_guide/indexing.html#returning-a-view-versus-a-copy\n",
      "  niveles_df['Nombre'] = niveles_df['Nombre'].astype(str).str.strip().str.upper()\n"
     ]
    },
    {
     "name": "stdout",
     "output_type": "stream",
     "text": [
      "  ✔ CCAA guardado: CSV_Mensuales\\ccaa\\2024_ccaa_julio_T.ESPAÑA.csv\n",
      "  ✔ CCAA guardado: CSV_Mensuales\\ccaa\\2024_ccaa_julio_CATALUÑA.csv\n",
      "  ✔ CCAA guardado: CSV_Mensuales\\ccaa\\2024_ccaa_julio_ARAGÓN.csv\n",
      "  ✔ CCAA guardado: CSV_Mensuales\\ccaa\\2024_ccaa_julio_ILLES BALEARS.csv\n",
      "  ✔ CCAA guardado: CSV_Mensuales\\ccaa\\2024_ccaa_julio_COMUNITAT VALENCIANA.csv\n",
      "  ✔ CCAA guardado: CSV_Mensuales\\ccaa\\2024_ccaa_julio_REGIÓN DE MURCIA.csv\n",
      "  ✔ CCAA guardado: CSV_Mensuales\\ccaa\\2024_ccaa_julio_ANDALUCÍA.csv\n",
      "  ✔ CCAA guardado: CSV_Mensuales\\ccaa\\2024_ccaa_julio_COMUNIDAD DE MADRID.csv\n",
      "  ✔ CCAA guardado: CSV_Mensuales\\ccaa\\2024_ccaa_julio_CASTILLA - LA MANCHA.csv\n",
      "  ✔ CCAA guardado: CSV_Mensuales\\ccaa\\2024_ccaa_julio_EXTREMADURA.csv\n",
      "  ✔ CCAA guardado: CSV_Mensuales\\ccaa\\2024_ccaa_julio_CASTILLA Y LEÓN.csv\n",
      "  ✔ CCAA guardado: CSV_Mensuales\\ccaa\\2024_ccaa_julio_GALICIA.csv\n",
      "  ✔ CCAA guardado: CSV_Mensuales\\ccaa\\2024_ccaa_julio_PRINCIPADO DE ASTURIAS.csv\n",
      "  ✔ CCAA guardado: CSV_Mensuales\\ccaa\\2024_ccaa_julio_CANTABRIA.csv\n",
      "  ✔ CCAA guardado: CSV_Mensuales\\ccaa\\2024_ccaa_julio_PAIS VASCO.csv\n",
      "  ✔ CCAA guardado: CSV_Mensuales\\ccaa\\2024_ccaa_julio_LA RIOJA.csv\n",
      "  ✔ CCAA guardado: CSV_Mensuales\\ccaa\\2024_ccaa_julio_C. FORAL DE NAVARRA.csv\n",
      "  ✔ CCAA guardado: CSV_Mensuales\\ccaa\\2024_ccaa_julio_CANARIAS.csv\n"
     ]
    },
    {
     "name": "stderr",
     "output_type": "stream",
     "text": [
      "C:\\Users\\Jokin\\AppData\\Local\\Temp\\ipykernel_76216\\1162139421.py:189: SettingWithCopyWarning: \n",
      "A value is trying to be set on a copy of a slice from a DataFrame.\n",
      "Try using .loc[row_indexer,col_indexer] = value instead\n",
      "\n",
      "See the caveats in the documentation: https://pandas.pydata.org/pandas-docs/stable/user_guide/indexing.html#returning-a-view-versus-a-copy\n",
      "  niveles_df['Nombre'] = niveles_df['Nombre'].astype(str).str.strip().str.upper()\n"
     ]
    },
    {
     "name": "stdout",
     "output_type": "stream",
     "text": [
      "  ✔ CCAA guardado: CSV_Mensuales\\ccaa\\2024_ccaa_agosto_T.ESPAÑA.csv\n",
      "  ✔ CCAA guardado: CSV_Mensuales\\ccaa\\2024_ccaa_agosto_CATALUÑA.csv\n",
      "  ✔ CCAA guardado: CSV_Mensuales\\ccaa\\2024_ccaa_agosto_ARAGÓN.csv\n",
      "  ✔ CCAA guardado: CSV_Mensuales\\ccaa\\2024_ccaa_agosto_ILLES BALEARS.csv\n",
      "  ✔ CCAA guardado: CSV_Mensuales\\ccaa\\2024_ccaa_agosto_COMUNITAT VALENCIANA.csv\n",
      "  ✔ CCAA guardado: CSV_Mensuales\\ccaa\\2024_ccaa_agosto_REGIÓN DE MURCIA.csv\n",
      "  ✔ CCAA guardado: CSV_Mensuales\\ccaa\\2024_ccaa_agosto_ANDALUCÍA.csv\n",
      "  ✔ CCAA guardado: CSV_Mensuales\\ccaa\\2024_ccaa_agosto_COMUNIDAD DE MADRID.csv\n",
      "  ✔ CCAA guardado: CSV_Mensuales\\ccaa\\2024_ccaa_agosto_CASTILLA - LA MANCHA.csv\n",
      "  ✔ CCAA guardado: CSV_Mensuales\\ccaa\\2024_ccaa_agosto_EXTREMADURA.csv\n",
      "  ✔ CCAA guardado: CSV_Mensuales\\ccaa\\2024_ccaa_agosto_CASTILLA Y LEÓN.csv\n",
      "  ✔ CCAA guardado: CSV_Mensuales\\ccaa\\2024_ccaa_agosto_GALICIA.csv\n",
      "  ✔ CCAA guardado: CSV_Mensuales\\ccaa\\2024_ccaa_agosto_PRINCIPADO DE ASTURIAS.csv\n",
      "  ✔ CCAA guardado: CSV_Mensuales\\ccaa\\2024_ccaa_agosto_CANTABRIA.csv\n",
      "  ✔ CCAA guardado: CSV_Mensuales\\ccaa\\2024_ccaa_agosto_PAIS VASCO.csv\n",
      "  ✔ CCAA guardado: CSV_Mensuales\\ccaa\\2024_ccaa_agosto_LA RIOJA.csv\n",
      "  ✔ CCAA guardado: CSV_Mensuales\\ccaa\\2024_ccaa_agosto_C. FORAL DE NAVARRA.csv\n"
     ]
    },
    {
     "name": "stderr",
     "output_type": "stream",
     "text": [
      "C:\\Users\\Jokin\\AppData\\Local\\Temp\\ipykernel_76216\\1162139421.py:189: SettingWithCopyWarning: \n",
      "A value is trying to be set on a copy of a slice from a DataFrame.\n",
      "Try using .loc[row_indexer,col_indexer] = value instead\n",
      "\n",
      "See the caveats in the documentation: https://pandas.pydata.org/pandas-docs/stable/user_guide/indexing.html#returning-a-view-versus-a-copy\n",
      "  niveles_df['Nombre'] = niveles_df['Nombre'].astype(str).str.strip().str.upper()\n"
     ]
    },
    {
     "name": "stdout",
     "output_type": "stream",
     "text": [
      "  ✔ CCAA guardado: CSV_Mensuales\\ccaa\\2024_ccaa_agosto_CANARIAS.csv\n",
      "  ✔ CCAA guardado: CSV_Mensuales\\ccaa\\2024_ccaa_septiembre_T.ESPAÑA.csv\n",
      "  ✔ CCAA guardado: CSV_Mensuales\\ccaa\\2024_ccaa_septiembre_CATALUÑA.csv\n",
      "  ✔ CCAA guardado: CSV_Mensuales\\ccaa\\2024_ccaa_septiembre_ARAGÓN.csv\n",
      "  ✔ CCAA guardado: CSV_Mensuales\\ccaa\\2024_ccaa_septiembre_ILLES BALEARS.csv\n",
      "  ✔ CCAA guardado: CSV_Mensuales\\ccaa\\2024_ccaa_septiembre_COMUNITAT VALENCIANA.csv\n",
      "  ✔ CCAA guardado: CSV_Mensuales\\ccaa\\2024_ccaa_septiembre_REGIÓN DE MURCIA.csv\n",
      "  ✔ CCAA guardado: CSV_Mensuales\\ccaa\\2024_ccaa_septiembre_ANDALUCÍA.csv\n",
      "  ✔ CCAA guardado: CSV_Mensuales\\ccaa\\2024_ccaa_septiembre_COMUNIDAD DE MADRID.csv\n",
      "  ✔ CCAA guardado: CSV_Mensuales\\ccaa\\2024_ccaa_septiembre_CASTILLA - LA MANCHA.csv\n",
      "  ✔ CCAA guardado: CSV_Mensuales\\ccaa\\2024_ccaa_septiembre_EXTREMADURA.csv\n",
      "  ✔ CCAA guardado: CSV_Mensuales\\ccaa\\2024_ccaa_septiembre_CASTILLA Y LEÓN.csv\n",
      "  ✔ CCAA guardado: CSV_Mensuales\\ccaa\\2024_ccaa_septiembre_GALICIA.csv\n",
      "  ✔ CCAA guardado: CSV_Mensuales\\ccaa\\2024_ccaa_septiembre_PRINCIPADO DE ASTURIAS.csv\n"
     ]
    },
    {
     "name": "stderr",
     "output_type": "stream",
     "text": [
      "C:\\Users\\Jokin\\AppData\\Local\\Temp\\ipykernel_76216\\1162139421.py:189: SettingWithCopyWarning: \n",
      "A value is trying to be set on a copy of a slice from a DataFrame.\n",
      "Try using .loc[row_indexer,col_indexer] = value instead\n",
      "\n",
      "See the caveats in the documentation: https://pandas.pydata.org/pandas-docs/stable/user_guide/indexing.html#returning-a-view-versus-a-copy\n",
      "  niveles_df['Nombre'] = niveles_df['Nombre'].astype(str).str.strip().str.upper()\n"
     ]
    },
    {
     "name": "stdout",
     "output_type": "stream",
     "text": [
      "  ✔ CCAA guardado: CSV_Mensuales\\ccaa\\2024_ccaa_septiembre_CANTABRIA.csv\n",
      "  ✔ CCAA guardado: CSV_Mensuales\\ccaa\\2024_ccaa_septiembre_PAIS VASCO.csv\n",
      "  ✔ CCAA guardado: CSV_Mensuales\\ccaa\\2024_ccaa_septiembre_LA RIOJA.csv\n",
      "  ✔ CCAA guardado: CSV_Mensuales\\ccaa\\2024_ccaa_septiembre_C. FORAL DE NAVARRA.csv\n",
      "  ✔ CCAA guardado: CSV_Mensuales\\ccaa\\2024_ccaa_septiembre_CANARIAS.csv\n",
      "  ✔ CCAA guardado: CSV_Mensuales\\ccaa\\2024_ccaa_octubre_T.ESPAÑA.csv\n",
      "  ✔ CCAA guardado: CSV_Mensuales\\ccaa\\2024_ccaa_octubre_CATALUÑA.csv\n",
      "  ✔ CCAA guardado: CSV_Mensuales\\ccaa\\2024_ccaa_octubre_ARAGÓN.csv\n",
      "  ✔ CCAA guardado: CSV_Mensuales\\ccaa\\2024_ccaa_octubre_ILLES BALEARS.csv\n",
      "  ✔ CCAA guardado: CSV_Mensuales\\ccaa\\2024_ccaa_octubre_COMUNITAT VALENCIANA.csv\n",
      "  ✔ CCAA guardado: CSV_Mensuales\\ccaa\\2024_ccaa_octubre_REGIÓN DE MURCIA.csv\n",
      "  ✔ CCAA guardado: CSV_Mensuales\\ccaa\\2024_ccaa_octubre_ANDALUCÍA.csv\n",
      "  ✔ CCAA guardado: CSV_Mensuales\\ccaa\\2024_ccaa_octubre_COMUNIDAD DE MADRID.csv\n",
      "  ✔ CCAA guardado: CSV_Mensuales\\ccaa\\2024_ccaa_octubre_CASTILLA - LA MANCHA.csv\n",
      "  ✔ CCAA guardado: CSV_Mensuales\\ccaa\\2024_ccaa_octubre_EXTREMADURA.csv\n",
      "  ✔ CCAA guardado: CSV_Mensuales\\ccaa\\2024_ccaa_octubre_CASTILLA Y LEÓN.csv\n",
      "  ✔ CCAA guardado: CSV_Mensuales\\ccaa\\2024_ccaa_octubre_GALICIA.csv\n",
      "  ✔ CCAA guardado: CSV_Mensuales\\ccaa\\2024_ccaa_octubre_PRINCIPADO DE ASTURIAS.csv\n",
      "  ✔ CCAA guardado: CSV_Mensuales\\ccaa\\2024_ccaa_octubre_CANTABRIA.csv\n",
      "  ✔ CCAA guardado: CSV_Mensuales\\ccaa\\2024_ccaa_octubre_PAIS VASCO.csv\n",
      "  ✔ CCAA guardado: CSV_Mensuales\\ccaa\\2024_ccaa_octubre_LA RIOJA.csv\n"
     ]
    },
    {
     "name": "stderr",
     "output_type": "stream",
     "text": [
      "C:\\Users\\Jokin\\AppData\\Local\\Temp\\ipykernel_76216\\1162139421.py:189: SettingWithCopyWarning: \n",
      "A value is trying to be set on a copy of a slice from a DataFrame.\n",
      "Try using .loc[row_indexer,col_indexer] = value instead\n",
      "\n",
      "See the caveats in the documentation: https://pandas.pydata.org/pandas-docs/stable/user_guide/indexing.html#returning-a-view-versus-a-copy\n",
      "  niveles_df['Nombre'] = niveles_df['Nombre'].astype(str).str.strip().str.upper()\n"
     ]
    },
    {
     "name": "stdout",
     "output_type": "stream",
     "text": [
      "  ✔ CCAA guardado: CSV_Mensuales\\ccaa\\2024_ccaa_octubre_C. FORAL DE NAVARRA.csv\n",
      "  ✔ CCAA guardado: CSV_Mensuales\\ccaa\\2024_ccaa_octubre_CANARIAS.csv\n",
      "  ✔ CCAA guardado: CSV_Mensuales\\ccaa\\2024_ccaa_noviembre_T.ESPAÑA.csv\n",
      "  ✔ CCAA guardado: CSV_Mensuales\\ccaa\\2024_ccaa_noviembre_CATALUÑA.csv\n",
      "  ✔ CCAA guardado: CSV_Mensuales\\ccaa\\2024_ccaa_noviembre_ARAGÓN.csv\n",
      "  ✔ CCAA guardado: CSV_Mensuales\\ccaa\\2024_ccaa_noviembre_ILLES BALEARS.csv\n",
      "  ✔ CCAA guardado: CSV_Mensuales\\ccaa\\2024_ccaa_noviembre_COMUNITAT VALENCIANA.csv\n",
      "  ✔ CCAA guardado: CSV_Mensuales\\ccaa\\2024_ccaa_noviembre_REGIÓN DE MURCIA.csv\n",
      "  ✔ CCAA guardado: CSV_Mensuales\\ccaa\\2024_ccaa_noviembre_ANDALUCÍA.csv\n",
      "  ✔ CCAA guardado: CSV_Mensuales\\ccaa\\2024_ccaa_noviembre_COMUNIDAD DE MADRID.csv\n",
      "  ✔ CCAA guardado: CSV_Mensuales\\ccaa\\2024_ccaa_noviembre_CASTILLA - LA MANCHA.csv\n",
      "  ✔ CCAA guardado: CSV_Mensuales\\ccaa\\2024_ccaa_noviembre_EXTREMADURA.csv\n",
      "  ✔ CCAA guardado: CSV_Mensuales\\ccaa\\2024_ccaa_noviembre_CASTILLA Y LEÓN.csv\n",
      "  ✔ CCAA guardado: CSV_Mensuales\\ccaa\\2024_ccaa_noviembre_GALICIA.csv\n",
      "  ✔ CCAA guardado: CSV_Mensuales\\ccaa\\2024_ccaa_noviembre_PRINCIPADO DE ASTURIAS.csv\n",
      "  ✔ CCAA guardado: CSV_Mensuales\\ccaa\\2024_ccaa_noviembre_CANTABRIA.csv\n",
      "  ✔ CCAA guardado: CSV_Mensuales\\ccaa\\2024_ccaa_noviembre_PAIS VASCO.csv\n",
      "  ✔ CCAA guardado: CSV_Mensuales\\ccaa\\2024_ccaa_noviembre_LA RIOJA.csv\n",
      "  ✔ CCAA guardado: CSV_Mensuales\\ccaa\\2024_ccaa_noviembre_C. FORAL DE NAVARRA.csv\n",
      "  ✔ CCAA guardado: CSV_Mensuales\\ccaa\\2024_ccaa_noviembre_CANARIAS.csv\n",
      "\n",
      "📂 Procesando archivo mensual: 2024_sd_datos_mensuales_panel_consumo_hogares_base2021_ok_tcm30_686113_sociodem.xlsx\n"
     ]
    },
    {
     "name": "stderr",
     "output_type": "stream",
     "text": [
      "C:\\Users\\Jokin\\AppData\\Local\\Temp\\ipykernel_76216\\1162139421.py:189: SettingWithCopyWarning: \n",
      "A value is trying to be set on a copy of a slice from a DataFrame.\n",
      "Try using .loc[row_indexer,col_indexer] = value instead\n",
      "\n",
      "See the caveats in the documentation: https://pandas.pydata.org/pandas-docs/stable/user_guide/indexing.html#returning-a-view-versus-a-copy\n",
      "  niveles_df['Nombre'] = niveles_df['Nombre'].astype(str).str.strip().str.upper()\n"
     ]
    },
    {
     "name": "stdout",
     "output_type": "stream",
     "text": [
      "  📄 Procesando hoja: enero\n"
     ]
    },
    {
     "name": "stderr",
     "output_type": "stream",
     "text": [
      "C:\\Users\\Jokin\\AppData\\Local\\Temp\\ipykernel_76216\\1162139421.py:92: FutureWarning: DataFrame.applymap has been deprecated. Use DataFrame.map instead.\n",
      "  df = df.applymap(lambda x: x.strip() if isinstance(x, str) else x)\n",
      "C:\\Users\\Jokin\\AppData\\Local\\Temp\\ipykernel_76216\\1162139421.py:164: SettingWithCopyWarning: \n",
      "A value is trying to be set on a copy of a slice from a DataFrame.\n",
      "Try using .loc[row_indexer,col_indexer] = value instead\n",
      "\n",
      "See the caveats in the documentation: https://pandas.pydata.org/pandas-docs/stable/user_guide/indexing.html#returning-a-view-versus-a-copy\n",
      "  niveles_df['Nombre'] = niveles_df['Nombre'].astype(str).str.strip().str.upper()\n"
     ]
    },
    {
     "name": "stdout",
     "output_type": "stream",
     "text": [
      "    ✔ CSV creado: CSV_Mensuales\\sociodem\\2024_sociodem_enero_CONSUMO_X_CAPITA.csv\n",
      "    ✔ CSV creado: CSV_Mensuales\\sociodem\\2024_sociodem_enero_GASTO_X_CAPITA.csv\n",
      "    ✔ CSV creado: CSV_Mensuales\\sociodem\\2024_sociodem_enero_PENETRACION.csv\n",
      "    ✔ CSV creado: CSV_Mensuales\\sociodem\\2024_sociodem_enero_PRECIO_MEDIO_KG_Ó_LITROS.csv\n",
      "    ✔ CSV creado: CSV_Mensuales\\sociodem\\2024_sociodem_enero_VALOR_MILES_EUROS.csv\n",
      "    ✔ CSV creado: CSV_Mensuales\\sociodem\\2024_sociodem_enero_VOLUMEN_MILES_KG_Ó_LITROS.csv\n",
      "  📄 Procesando hoja: febrero\n"
     ]
    },
    {
     "name": "stderr",
     "output_type": "stream",
     "text": [
      "C:\\Users\\Jokin\\AppData\\Local\\Temp\\ipykernel_76216\\1162139421.py:92: FutureWarning: DataFrame.applymap has been deprecated. Use DataFrame.map instead.\n",
      "  df = df.applymap(lambda x: x.strip() if isinstance(x, str) else x)\n"
     ]
    },
    {
     "name": "stdout",
     "output_type": "stream",
     "text": [
      "    ✔ CSV creado: CSV_Mensuales\\sociodem\\2024_sociodem_febrero_CONSUMO_X_CAPITA.csv\n",
      "    ✔ CSV creado: CSV_Mensuales\\sociodem\\2024_sociodem_febrero_GASTO_X_CAPITA.csv\n",
      "    ✔ CSV creado: CSV_Mensuales\\sociodem\\2024_sociodem_febrero_PENETRACION.csv\n",
      "    ✔ CSV creado: CSV_Mensuales\\sociodem\\2024_sociodem_febrero_PRECIO_MEDIO_KG_Ó_LITROS.csv\n",
      "    ✔ CSV creado: CSV_Mensuales\\sociodem\\2024_sociodem_febrero_VALOR_MILES_EUROS.csv\n",
      "    ✔ CSV creado: CSV_Mensuales\\sociodem\\2024_sociodem_febrero_VOLUMEN_MILES_KG_Ó_LITROS.csv\n",
      "  📄 Procesando hoja: marzo\n"
     ]
    },
    {
     "name": "stderr",
     "output_type": "stream",
     "text": [
      "C:\\Users\\Jokin\\AppData\\Local\\Temp\\ipykernel_76216\\1162139421.py:92: FutureWarning: DataFrame.applymap has been deprecated. Use DataFrame.map instead.\n",
      "  df = df.applymap(lambda x: x.strip() if isinstance(x, str) else x)\n"
     ]
    },
    {
     "name": "stdout",
     "output_type": "stream",
     "text": [
      "    ✔ CSV creado: CSV_Mensuales\\sociodem\\2024_sociodem_marzo_CONSUMO_X_CAPITA.csv\n",
      "    ✔ CSV creado: CSV_Mensuales\\sociodem\\2024_sociodem_marzo_GASTO_X_CAPITA.csv\n",
      "    ✔ CSV creado: CSV_Mensuales\\sociodem\\2024_sociodem_marzo_PENETRACION.csv\n",
      "    ✔ CSV creado: CSV_Mensuales\\sociodem\\2024_sociodem_marzo_PRECIO_MEDIO_KG_Ó_LITROS.csv\n",
      "    ✔ CSV creado: CSV_Mensuales\\sociodem\\2024_sociodem_marzo_VALOR_MILES_EUROS.csv\n",
      "    ✔ CSV creado: CSV_Mensuales\\sociodem\\2024_sociodem_marzo_VOLUMEN_MILES_KG_Ó_LITROS.csv\n",
      "  📄 Procesando hoja: abril\n"
     ]
    },
    {
     "name": "stderr",
     "output_type": "stream",
     "text": [
      "C:\\Users\\Jokin\\AppData\\Local\\Temp\\ipykernel_76216\\1162139421.py:92: FutureWarning: DataFrame.applymap has been deprecated. Use DataFrame.map instead.\n",
      "  df = df.applymap(lambda x: x.strip() if isinstance(x, str) else x)\n"
     ]
    },
    {
     "name": "stdout",
     "output_type": "stream",
     "text": [
      "    ✔ CSV creado: CSV_Mensuales\\sociodem\\2024_sociodem_abril_CONSUMO_X_CAPITA.csv\n",
      "    ✔ CSV creado: CSV_Mensuales\\sociodem\\2024_sociodem_abril_GASTO_X_CAPITA.csv\n",
      "    ✔ CSV creado: CSV_Mensuales\\sociodem\\2024_sociodem_abril_PENETRACION.csv\n",
      "    ✔ CSV creado: CSV_Mensuales\\sociodem\\2024_sociodem_abril_PRECIO_MEDIO_KG_Ó_LITROS.csv\n",
      "    ✔ CSV creado: CSV_Mensuales\\sociodem\\2024_sociodem_abril_VALOR_MILES_EUROS.csv\n",
      "    ✔ CSV creado: CSV_Mensuales\\sociodem\\2024_sociodem_abril_VOLUMEN_MILES_KG_Ó_LITROS.csv\n",
      "  📄 Procesando hoja: mayo\n"
     ]
    },
    {
     "name": "stderr",
     "output_type": "stream",
     "text": [
      "C:\\Users\\Jokin\\AppData\\Local\\Temp\\ipykernel_76216\\1162139421.py:92: FutureWarning: DataFrame.applymap has been deprecated. Use DataFrame.map instead.\n",
      "  df = df.applymap(lambda x: x.strip() if isinstance(x, str) else x)\n"
     ]
    },
    {
     "name": "stdout",
     "output_type": "stream",
     "text": [
      "    ✔ CSV creado: CSV_Mensuales\\sociodem\\2024_sociodem_mayo_CONSUMO_X_CAPITA.csv\n",
      "    ✔ CSV creado: CSV_Mensuales\\sociodem\\2024_sociodem_mayo_GASTO_X_CAPITA.csv\n",
      "    ✔ CSV creado: CSV_Mensuales\\sociodem\\2024_sociodem_mayo_PENETRACION.csv\n",
      "    ✔ CSV creado: CSV_Mensuales\\sociodem\\2024_sociodem_mayo_PRECIO_MEDIO_KG_Ó_LITROS.csv\n",
      "    ✔ CSV creado: CSV_Mensuales\\sociodem\\2024_sociodem_mayo_VALOR_MILES_EUROS.csv\n",
      "    ✔ CSV creado: CSV_Mensuales\\sociodem\\2024_sociodem_mayo_VOLUMEN_MILES_KG_Ó_LITROS.csv\n",
      "  📄 Procesando hoja: junio\n"
     ]
    },
    {
     "name": "stderr",
     "output_type": "stream",
     "text": [
      "C:\\Users\\Jokin\\AppData\\Local\\Temp\\ipykernel_76216\\1162139421.py:92: FutureWarning: DataFrame.applymap has been deprecated. Use DataFrame.map instead.\n",
      "  df = df.applymap(lambda x: x.strip() if isinstance(x, str) else x)\n"
     ]
    },
    {
     "name": "stdout",
     "output_type": "stream",
     "text": [
      "    ✔ CSV creado: CSV_Mensuales\\sociodem\\2024_sociodem_junio_CONSUMO_X_CAPITA.csv\n",
      "    ✔ CSV creado: CSV_Mensuales\\sociodem\\2024_sociodem_junio_GASTO_X_CAPITA.csv\n",
      "    ✔ CSV creado: CSV_Mensuales\\sociodem\\2024_sociodem_junio_PENETRACION.csv\n",
      "    ✔ CSV creado: CSV_Mensuales\\sociodem\\2024_sociodem_junio_PRECIO_MEDIO_KG_Ó_LITROS.csv\n",
      "    ✔ CSV creado: CSV_Mensuales\\sociodem\\2024_sociodem_junio_VALOR_MILES_EUROS.csv\n",
      "    ✔ CSV creado: CSV_Mensuales\\sociodem\\2024_sociodem_junio_VOLUMEN_MILES_KG_Ó_LITROS.csv\n",
      "  📄 Procesando hoja: julio\n"
     ]
    },
    {
     "name": "stderr",
     "output_type": "stream",
     "text": [
      "C:\\Users\\Jokin\\AppData\\Local\\Temp\\ipykernel_76216\\1162139421.py:92: FutureWarning: DataFrame.applymap has been deprecated. Use DataFrame.map instead.\n",
      "  df = df.applymap(lambda x: x.strip() if isinstance(x, str) else x)\n"
     ]
    },
    {
     "name": "stdout",
     "output_type": "stream",
     "text": [
      "    ✔ CSV creado: CSV_Mensuales\\sociodem\\2024_sociodem_julio_CONSUMO_X_CAPITA.csv\n",
      "    ✔ CSV creado: CSV_Mensuales\\sociodem\\2024_sociodem_julio_GASTO_X_CAPITA.csv\n",
      "    ✔ CSV creado: CSV_Mensuales\\sociodem\\2024_sociodem_julio_PENETRACION.csv\n",
      "    ✔ CSV creado: CSV_Mensuales\\sociodem\\2024_sociodem_julio_PRECIO_MEDIO_KG_Ó_LITROS.csv\n",
      "    ✔ CSV creado: CSV_Mensuales\\sociodem\\2024_sociodem_julio_VALOR_MILES_EUROS.csv\n",
      "    ✔ CSV creado: CSV_Mensuales\\sociodem\\2024_sociodem_julio_VOLUMEN_MILES_KG_Ó_LITROS.csv\n",
      "  📄 Procesando hoja: agosto\n"
     ]
    },
    {
     "name": "stderr",
     "output_type": "stream",
     "text": [
      "C:\\Users\\Jokin\\AppData\\Local\\Temp\\ipykernel_76216\\1162139421.py:92: FutureWarning: DataFrame.applymap has been deprecated. Use DataFrame.map instead.\n",
      "  df = df.applymap(lambda x: x.strip() if isinstance(x, str) else x)\n"
     ]
    },
    {
     "name": "stdout",
     "output_type": "stream",
     "text": [
      "    ✔ CSV creado: CSV_Mensuales\\sociodem\\2024_sociodem_agosto_CONSUMO_X_CAPITA.csv\n",
      "    ✔ CSV creado: CSV_Mensuales\\sociodem\\2024_sociodem_agosto_GASTO_X_CAPITA.csv\n",
      "    ✔ CSV creado: CSV_Mensuales\\sociodem\\2024_sociodem_agosto_PENETRACION.csv\n",
      "    ✔ CSV creado: CSV_Mensuales\\sociodem\\2024_sociodem_agosto_PRECIO_MEDIO_KG_Ó_LITROS.csv\n",
      "    ✔ CSV creado: CSV_Mensuales\\sociodem\\2024_sociodem_agosto_VALOR_MILES_EUROS.csv\n",
      "    ✔ CSV creado: CSV_Mensuales\\sociodem\\2024_sociodem_agosto_VOLUMEN_MILES_KG_Ó_LITROS.csv\n",
      "  📄 Procesando hoja: septiembre\n"
     ]
    },
    {
     "name": "stderr",
     "output_type": "stream",
     "text": [
      "C:\\Users\\Jokin\\AppData\\Local\\Temp\\ipykernel_76216\\1162139421.py:92: FutureWarning: DataFrame.applymap has been deprecated. Use DataFrame.map instead.\n",
      "  df = df.applymap(lambda x: x.strip() if isinstance(x, str) else x)\n"
     ]
    },
    {
     "name": "stdout",
     "output_type": "stream",
     "text": [
      "    ✔ CSV creado: CSV_Mensuales\\sociodem\\2024_sociodem_septiembre_CONSUMO_X_CAPITA.csv\n",
      "    ✔ CSV creado: CSV_Mensuales\\sociodem\\2024_sociodem_septiembre_GASTO_X_CAPITA.csv\n",
      "    ✔ CSV creado: CSV_Mensuales\\sociodem\\2024_sociodem_septiembre_PENETRACION.csv\n",
      "    ✔ CSV creado: CSV_Mensuales\\sociodem\\2024_sociodem_septiembre_PRECIO_MEDIO_KG_Ó_LITROS.csv\n",
      "    ✔ CSV creado: CSV_Mensuales\\sociodem\\2024_sociodem_septiembre_VALOR_MILES_EUROS.csv\n",
      "    ✔ CSV creado: CSV_Mensuales\\sociodem\\2024_sociodem_septiembre_VOLUMEN_MILES_KG_Ó_LITROS.csv\n",
      "  📄 Procesando hoja: octubre\n"
     ]
    },
    {
     "name": "stderr",
     "output_type": "stream",
     "text": [
      "C:\\Users\\Jokin\\AppData\\Local\\Temp\\ipykernel_76216\\1162139421.py:92: FutureWarning: DataFrame.applymap has been deprecated. Use DataFrame.map instead.\n",
      "  df = df.applymap(lambda x: x.strip() if isinstance(x, str) else x)\n"
     ]
    },
    {
     "name": "stdout",
     "output_type": "stream",
     "text": [
      "    ✔ CSV creado: CSV_Mensuales\\sociodem\\2024_sociodem_octubre_CONSUMO_X_CAPITA.csv\n",
      "    ✔ CSV creado: CSV_Mensuales\\sociodem\\2024_sociodem_octubre_GASTO_X_CAPITA.csv\n",
      "    ✔ CSV creado: CSV_Mensuales\\sociodem\\2024_sociodem_octubre_PENETRACION.csv\n",
      "    ✔ CSV creado: CSV_Mensuales\\sociodem\\2024_sociodem_octubre_PRECIO_MEDIO_KG_Ó_LITROS.csv\n",
      "    ✔ CSV creado: CSV_Mensuales\\sociodem\\2024_sociodem_octubre_VALOR_MILES_EUROS.csv\n",
      "    ✔ CSV creado: CSV_Mensuales\\sociodem\\2024_sociodem_octubre_VOLUMEN_MILES_KG_Ó_LITROS.csv\n",
      "  📄 Procesando hoja: noviembre\n"
     ]
    },
    {
     "name": "stderr",
     "output_type": "stream",
     "text": [
      "C:\\Users\\Jokin\\AppData\\Local\\Temp\\ipykernel_76216\\1162139421.py:92: FutureWarning: DataFrame.applymap has been deprecated. Use DataFrame.map instead.\n",
      "  df = df.applymap(lambda x: x.strip() if isinstance(x, str) else x)\n"
     ]
    },
    {
     "name": "stdout",
     "output_type": "stream",
     "text": [
      "    ✔ CSV creado: CSV_Mensuales\\sociodem\\2024_sociodem_noviembre_CONSUMO_X_CAPITA.csv\n",
      "    ✔ CSV creado: CSV_Mensuales\\sociodem\\2024_sociodem_noviembre_GASTO_X_CAPITA.csv\n",
      "    ✔ CSV creado: CSV_Mensuales\\sociodem\\2024_sociodem_noviembre_PENETRACION.csv\n",
      "    ✔ CSV creado: CSV_Mensuales\\sociodem\\2024_sociodem_noviembre_PRECIO_MEDIO_KG_Ó_LITROS.csv\n",
      "    ✔ CSV creado: CSV_Mensuales\\sociodem\\2024_sociodem_noviembre_VALOR_MILES_EUROS.csv\n",
      "    ✔ CSV creado: CSV_Mensuales\\sociodem\\2024_sociodem_noviembre_VOLUMEN_MILES_KG_Ó_LITROS.csv\n",
      "\n",
      "✅ Procesamiento de archivos mensuales finalizado.\n",
      "\n",
      "=== INICIANDO PROCESAMIENTO DE ANUALES ===\n",
      "\n",
      "📂 Procesando archivo anual: 2022-datos-anuales-panel-consumo-hogares-base2021_tcm30-686039.xlsx\n",
      "  ⏩ Omitida hoja: PORTADA\n",
      "  💡 Se encontraron 1 bloques en 2022_anual_valor\n",
      "  ✔ VALOR guardado: CSV_Anuales\\2022_anual_valor_VALOR.csv\n",
      "  💡 Se encontraron 1 bloques en 2022_anual_volumen\n",
      "  ✔ VOLUMEN guardado: CSV_Anuales\\2022_anual_volumen_VOLUMEN.csv\n",
      "  💡 Se encontraron 1 bloques en 2022_anual_penetración\n",
      "  ✔ PENETRACION guardado: CSV_Anuales\\2022_anual_penetración_PENETRACION.csv\n",
      "  💡 Se encontraron 1 bloques en 2022_anual_precio\n",
      "  ✔ PRECIO_MEDIO guardado: CSV_Anuales\\2022_anual_precio_PRECIO_MEDIO.csv\n",
      "  ✔ CONSUMOXCÁPITA guardado: CSV_Anuales\\2022_anual_consumoxcápita.csv\n",
      "  ✔ GASTOXCÁPITA guardado: CSV_Anuales\\2022_anual_gastoxcápita.csv\n",
      "  💡 Se encontraron 1 bloques en 2022_anual_canales_valor\n",
      "  ✔ VALOR guardado: CSV_Anuales\\2022_anual_canales_valor_VALOR.csv\n",
      "  💡 Se encontraron 1 bloques en 2022_anual_canales_volumen\n",
      "  ✔ VOLUMEN guardado: CSV_Anuales\\2022_anual_canales_volumen_VOLUMEN.csv\n",
      "  💡 Se encontraron 1 bloques en 2022_anual_canales_penetración\n",
      "  ✔ PENETRACION guardado: CSV_Anuales\\2022_anual_canales_penetración_PENETRACION.csv\n",
      "  💡 Se encontraron 1 bloques en 2022_anual_socioeconómico_valor\n",
      "  ✔ VALOR guardado: CSV_Anuales\\2022_anual_socioeconómico_valor_VALOR.csv\n",
      "  💡 Se encontraron 1 bloques en 2022_anual_socioeconómico_volumen\n",
      "  ✔ VOLUMEN guardado: CSV_Anuales\\2022_anual_socioeconómico_volumen_VOLUMEN.csv\n",
      "  💡 Se encontraron 1 bloques en 2022_anual_socioeconómico_penetración\n",
      "  ✔ PENETRACION guardado: CSV_Anuales\\2022_anual_socioeconómico_penetración_PENETRACION.csv\n",
      "  ✔ SOCIOECONÓMICO CONSUMOXCÁPITA guardado: CSV_Anuales\\2022_anual_socioeconómico_consumoxcápita.csv\n",
      "\n",
      "📂 Procesando archivo anual: 2023-datos-anuales-panel-consumo-hogares-base2021_tcm30-686038.xlsx\n",
      "  ⏩ Omitida hoja: PORTADA\n",
      "  💡 Se encontraron 1 bloques en 2023_anual_valor\n",
      "  ✔ VALOR guardado: CSV_Anuales\\2023_anual_valor_VALOR.csv\n",
      "  💡 Se encontraron 1 bloques en 2023_anual_volumen\n",
      "  ✔ VOLUMEN guardado: CSV_Anuales\\2023_anual_volumen_VOLUMEN.csv\n",
      "  💡 Se encontraron 1 bloques en 2023_anual_penetración\n",
      "  ✔ PENETRACION guardado: CSV_Anuales\\2023_anual_penetración_PENETRACION.csv\n",
      "  💡 Se encontraron 1 bloques en 2023_anual_precio\n",
      "  ✔ PRECIO_MEDIO guardado: CSV_Anuales\\2023_anual_precio_PRECIO_MEDIO.csv\n",
      "  ✔ CONSUMOXCÁPITA guardado: CSV_Anuales\\2023_anual_consumoxcápita.csv\n",
      "  ✔ GASTOXCÁPITA guardado: CSV_Anuales\\2023_anual_gastoxcápita.csv\n",
      "  💡 Se encontraron 1 bloques en 2023_anual_canales_valor\n",
      "  ✔ VALOR guardado: CSV_Anuales\\2023_anual_canales_valor_VALOR.csv\n",
      "  💡 Se encontraron 1 bloques en 2023_anual_canales_volumen\n",
      "  ✔ VOLUMEN guardado: CSV_Anuales\\2023_anual_canales_volumen_VOLUMEN.csv\n",
      "  💡 Se encontraron 1 bloques en 2023_anual_canales_penetración\n",
      "  ✔ PENETRACION guardado: CSV_Anuales\\2023_anual_canales_penetración_PENETRACION.csv\n",
      "  ⚠ No se encontró fila con tipos de dato en 2023_anual_socioeconómico_valor\n",
      "  💡 Se encontraron 1 bloques en 2023_anual_socioeconómico_volumen\n",
      "  ✔ VOLUMEN guardado: CSV_Anuales\\2023_anual_socioeconómico_volumen_VOLUMEN.csv\n",
      "  💡 Se encontraron 1 bloques en 2023_anual_socioeconómico_penetración\n",
      "  ✔ PENETRACION guardado: CSV_Anuales\\2023_anual_socioeconómico_penetración_PENETRACION.csv\n",
      "  ✔ SOCIOECONÓMICO CONSUMOXCÁPITA guardado: CSV_Anuales\\2023_anual_socioeconómico_consumoxcápita.csv\n",
      "\n",
      "✅ Procesamiento de archivos anuales finalizado.\n"
     ]
    }
   ],
   "source": [
    "import os\n",
    "import re\n",
    "import numpy as np\n",
    "import pandas as pd\n",
    "from pathlib import Path\n",
    "from openpyxl import load_workbook\n",
    "\n",
    "# ------------------- FUNCIONES GENERALES -------------------\n",
    "\n",
    "def limpiar_nombre(nombre):\n",
    "    return re.sub(r'[^\\w\\s-]', '', str(nombre)).strip().replace(' ', '_').upper()\n",
    "\n",
    "def detectar_fuente_datos(nombre_archivo):\n",
    "    nombre = nombre_archivo.lower()\n",
    "    if \"ccaa\" in nombre:\n",
    "        return \"CCAA\"\n",
    "    elif \"canales\" in nombre:\n",
    "        return \"CANAL\"\n",
    "    elif \"sociodem\" in nombre:\n",
    "        return \"SOCIODEM\"\n",
    "    else:\n",
    "        return \"GENERAL\"\n",
    "\n",
    "def contiene_cabecera_reconocida(df_sample):\n",
    "    # Convertir el sample a texto para búsqueda\n",
    "    texto = ' '.join(df_sample.apply(lambda row: ' '.join(row.dropna().astype(str)), axis=1)).lower()\n",
    "    \n",
    "    patrones = [\n",
    "        r't\\.?\\s*españa',\n",
    "        r'penetraci[oó]n\\s*\\(%\\)',\n",
    "        r'precio\\s*medio',\n",
    "        r'valor\\s*\\(.*euros\\)',\n",
    "        r'volumen\\s*\\(.*kg.*litros\\)',\n",
    "        r'consumo\\s*per\\s*c[aá]pita',\n",
    "        r'gasto\\s*per\\s*c[aá]pita',\n",
    "        r'canales?\\s*de\\s*distribuci[oó]n',\n",
    "        r'socio.*econ[oó]mico'\n",
    "    ]\n",
    "    return any(re.search(pat, texto) for pat in patrones)\n",
    "\n",
    "def extraer_niveles_desde_excel(path_excel):\n",
    "    wb = load_workbook(path_excel, data_only=True)\n",
    "    resultados = []\n",
    "\n",
    "    for nombre_hoja in wb.sheetnames:\n",
    "        ws = wb[nombre_hoja]\n",
    "        niveles = []\n",
    "        nombres = []\n",
    "\n",
    "        for row in ws.iter_rows(min_row=2, max_col=1):\n",
    "            cell = row[0]\n",
    "            nombre = cell.value\n",
    "            indent = cell.alignment.indent if cell.alignment and cell.alignment.indent else 0\n",
    "\n",
    "            if nombre is not None:\n",
    "                nombre_str = str(nombre).strip()\n",
    "                nombre_upper = nombre_str.upper()\n",
    "\n",
    "                # ✂️ FILTRAR si el texto tiene muchas repeticiones tipo \"NIVEL ALTO NIVEL ALTO\"\n",
    "                palabras = nombre_upper.split()\n",
    "                if len(palabras) >= 4:\n",
    "                    palabras_unicas = set(palabras)\n",
    "                    if len(palabras_unicas) <= 2 and any(\"NIVEL\" in p for p in palabras_unicas):\n",
    "                        continue  # Se descarta la fila\n",
    "\n",
    "                nombres.append(nombre_str)\n",
    "                niveles.append(indent)\n",
    "\n",
    "        df_hoja = pd.DataFrame({\"Nombre\": nombres, \"Nivel\": niveles})\n",
    "        df_hoja[\"Hoja\"] = nombre_hoja\n",
    "        resultados.append(df_hoja)\n",
    "\n",
    "    if resultados:\n",
    "        return pd.concat(resultados, ignore_index=True)\n",
    "    else:\n",
    "        return pd.DataFrame(columns=[\"Nombre\", \"Nivel\", \"Hoja\"])\n",
    "\n",
    "# ------------------- FUNCIONES PARA MENSUALES -------------------\n",
    "\n",
    "def procesar_sociodem_por_hoja(file_path, output_folder, year, niveles_df=None):\n",
    "    xls = pd.ExcelFile(file_path)\n",
    "    hojas = [h for h in xls.sheet_names if h.lower() in\n",
    "             ['enero', 'febrero', 'marzo', 'abril', 'mayo', 'junio',\n",
    "              'julio', 'agosto', 'septiembre', 'octubre', 'noviembre', 'diciembre']]\n",
    "    if not hojas:\n",
    "        print(f\"  ⚠ No se encontraron hojas de meses válidas en {file_path}\")\n",
    "        return\n",
    "\n",
    "    for hoja in hojas:\n",
    "        print(f\"  📄 Procesando hoja: {hoja}\")\n",
    "        df = pd.read_excel(file_path, sheet_name=hoja, header=None)\n",
    "        df = df.applymap(lambda x: x.strip() if isinstance(x, str) else x)\n",
    "\n",
    "        fila_header = 3\n",
    "        cols_tespana = df.iloc[fila_header - 1].astype(str).str.upper().str.strip()\n",
    "        cols_tespana_idx = cols_tespana[cols_tespana == 'T.ESPAÑA'].index.tolist()\n",
    "\n",
    "        if len(cols_tespana_idx) < 2:\n",
    "            print(f\"    ⚠ No se encontraron al menos dos columnas con 'T.ESPAÑA' en hoja {hoja}\")\n",
    "            continue\n",
    "\n",
    "        cols_tespana_idx.append(df.shape[1])\n",
    "        primera_columna = df.iloc[fila_header - 1:, 0].reset_index(drop=True)\n",
    "        nombre_primera_col = df.iloc[fila_header - 1, 0]\n",
    "\n",
    "        column_ranges = {\n",
    "            (3, 6): \"CLASE SOCIAL\",\n",
    "            (8, 9): \"NIÑOS EN EL HOGAR\",\n",
    "            (11, 11): \"ACTIVIDAD RESPONSABLE DE COMPRA\",\n",
    "            (13, 15): \"EDAD RESPONSABLE DE COMPRA\",\n",
    "            (17, 19): \"TAMAÑO DE HOGAR\",\n",
    "            (21, 24): \"TAMAÑO DEL HÁBITAT\",\n",
    "            (25, 25): \"ÁREAS METROPOLITANAS\",\n",
    "            (28, 35): \"TIPO DE HOGAR\"\n",
    "        }\n",
    "\n",
    "        for i in range(len(cols_tespana_idx) - 1):\n",
    "            start_col = cols_tespana_idx[i]\n",
    "            end_col = cols_tespana_idx[i + 1]\n",
    "            bloque = df.iloc[fila_header - 1:, start_col:end_col].reset_index(drop=True)\n",
    "            bloque.insert(0, nombre_primera_col, primera_columna)\n",
    "\n",
    "            fila_categoria = df.iloc[2, start_col:end_col].fillna('').astype(str).str.strip()\n",
    "            fila_dato = df.iloc[3, start_col:end_col].fillna('').astype(str).str.strip()\n",
    "\n",
    "            # 🔧 Rellenar categorías explícitamente\n",
    "            for (abs_start, abs_end), base_name in column_ranges.items():\n",
    "                for abs_col in range(abs_start, abs_end + 1):\n",
    "                    if start_col <= abs_col < end_col:\n",
    "                        rel_col = abs_col - start_col\n",
    "                        fila_categoria.iloc[rel_col] = base_name\n",
    "\n",
    "            # 🔁 Fallback automático: rellenar categorías faltantes con la última conocida\n",
    "            ultima_categoria = \"\"\n",
    "            for idx in range(len(fila_categoria)):\n",
    "                if fila_categoria.iloc[idx]:\n",
    "                    ultima_categoria = fila_categoria.iloc[idx]\n",
    "                else:\n",
    "                    fila_categoria.iloc[idx] = ultima_categoria\n",
    "\n",
    "            # 🔧 Combinar encabezados\n",
    "            columnas_combinadas = [\"Alimentos\"]\n",
    "            for cat, dat in zip(fila_categoria, fila_dato):\n",
    "                cat = str(cat).strip()\n",
    "                dat = str(dat).strip()\n",
    "                if cat and dat:\n",
    "                    columnas_combinadas.append(f\"{cat} ({dat})\")\n",
    "                elif dat:\n",
    "                    columnas_combinadas.append(dat)\n",
    "                elif cat:\n",
    "                    columnas_combinadas.append(cat)\n",
    "                else:\n",
    "                    columnas_combinadas.append(\"SIN NOMBRE\")\n",
    "\n",
    "            if len(columnas_combinadas) != bloque.shape[1]:\n",
    "                print(f\"    ⚠ Saltando bloque {i+1} por conflicto en columnas ({len(columnas_combinadas)} != {bloque.shape[1]})\")\n",
    "                continue\n",
    "\n",
    "            bloque.columns = columnas_combinadas\n",
    "            bloque = bloque.drop(0).reset_index(drop=True)\n",
    "\n",
    "            if niveles_df is not None and not niveles_df.empty:\n",
    "                bloque['Alimentos'] = bloque['Alimentos'].astype(str).str.strip().str.upper()\n",
    "                niveles_df['Nombre'] = niveles_df['Nombre'].astype(str).str.strip().str.upper()\n",
    "                niveles_df = niveles_df.drop_duplicates(subset=['Nombre'])\n",
    "                bloque = bloque.merge(niveles_df, how='left', left_on='Alimentos', right_on='Nombre')\n",
    "                bloque.drop(columns=['Nombre', 'Hoja'], inplace=True, errors='ignore')\n",
    "\n",
    "            nombre_categoria = df.iloc[fila_header - 2, start_col]\n",
    "            nombre_categoria = limpiar_nombre(nombre_categoria) or f\"BLOQUE_{i + 1}\"\n",
    "\n",
    "            subfolder = os.path.join(output_folder, \"sociodem\")\n",
    "            os.makedirs(subfolder, exist_ok=True)\n",
    "            output_path = os.path.join(subfolder, f\"{year}_sociodem_{hoja}_{nombre_categoria}.csv\")\n",
    "            bloque.to_csv(output_path, index=False, sep=';', encoding='utf-8-sig')\n",
    "            print(f\"    ✔ CSV creado: {output_path}\")\n",
    "\n",
    "\n",
    "\n",
    "\n",
    "def extraer_datos_ccaa_nuevo(df, nombre_base, output_folder, niveles_df=None):\n",
    "    for ccaa in df.columns.get_level_values(0).unique():\n",
    "        sub_df = df[ccaa].copy()\n",
    "        sub_df.insert(0, \"Alimentos\", df.index)\n",
    "        sub_df = sub_df.dropna(how='all')\n",
    "\n",
    "        if niveles_df is not None and not niveles_df.empty:\n",
    "            sub_df['Alimentos'] = sub_df['Alimentos'].astype(str).str.strip().str.upper()\n",
    "            niveles_df['Nombre'] = niveles_df['Nombre'].astype(str).str.strip().str.upper()\n",
    "            niveles_df = niveles_df.drop_duplicates(subset=['Nombre'])\n",
    "            sub_df = sub_df.merge(niveles_df, how='left', left_on='Alimentos', right_on='Nombre')\n",
    "            sub_df.drop(columns=['Nombre'], inplace=True)\n",
    "\n",
    "\n",
    "        ccaa_limpio = re.sub(r'[\\\\/*?:\"<>|]', \"_\", ccaa)\n",
    "        subfolder = os.path.join(output_folder, \"ccaa\")\n",
    "        os.makedirs(subfolder, exist_ok=True)\n",
    "        output_path = os.path.join(subfolder, f\"{nombre_base}_{ccaa_limpio}.csv\")\n",
    "        sub_df.to_csv(output_path, sep=\";\", encoding=\"utf-8-sig\", index=False)\n",
    "        print(f\"  ✔ CCAA guardado: {output_path}\")\n",
    "\n",
    "\n",
    "def extraer_bloques_datos(df, nombre_base, output_folder, tipo_fuente, niveles_df=None):\n",
    "    # Primero intentamos encontrar T.ESPAÑA en las primeras filas\n",
    "    tespana_mask = df.apply(lambda row: row.astype(str).str.contains(r'T\\.?\\s*ESPAÑA', case=False, regex=True).any(), axis=1)\n",
    "    tespana_rows = df[tespana_mask]\n",
    "    \n",
    "    # Si no encontramos T.ESPAÑA, buscamos otros patrones de cabecera\n",
    "    if tespana_rows.empty:\n",
    "        print(f\"  ⚠ No se encontró 'T.ESPAÑA' en {nombre_base}, buscando otros patrones...\")\n",
    "        # Buscamos filas con patrones de tipos de datos\n",
    "        tipos_dato_idx = None\n",
    "        for i in range(min(20, len(df))):  # Buscar en las primeras 20 filas\n",
    "            fila = df.iloc[i].dropna().astype(str).str.upper().str.strip()\n",
    "            if any(fila.str.contains('PENETRACION|VALOR|VOLUMEN|PRECIO|CONSUMO\\s*PER\\s*C.A?PITA|GASTO\\s*PER\\s*C.A?PITA', case=False, regex=True)):\n",
    "                tipos_dato_idx = i\n",
    "                break\n",
    "        \n",
    "        if tipos_dato_idx is None:\n",
    "            print(f\"  ⚠ No se encontró fila con tipos de dato en {nombre_base}\")\n",
    "            return\n",
    "        \n",
    "        # Asumimos que la fila siguiente es la de encabezados\n",
    "        encabezados = df.iloc[tipos_dato_idx].fillna('').astype(str)\n",
    "        tipos_dato = df.iloc[tipos_dato_idx].fillna('').astype(str)\n",
    "        encabezados_idx = tipos_dato_idx + 1\n",
    "    else:\n",
    "        encabezados_idx = tespana_rows.index[0]\n",
    "        # Buscar fila con tipos de dato\n",
    "        tipos_dato_idx = None\n",
    "        for i in range(encabezados_idx-1, max(encabezados_idx-10, -1), -1):\n",
    "            fila = df.iloc[i].dropna().astype(str).str.upper().str.strip()\n",
    "            if any(fila.str.contains('PENETRACION|VALOR|VOLUMEN|PRECIO|CONSUMO\\s*PER\\s*C.A?PITA|GASTO\\s*PER\\s*C.A?PITA', case=False, regex=True)):\n",
    "                tipos_dato_idx = i\n",
    "                break\n",
    "        \n",
    "        if tipos_dato_idx is None:\n",
    "            print(f\"  ⚠ No se encontró fila con tipos de dato en {nombre_base}\")\n",
    "            return\n",
    "        \n",
    "        encabezados = df.iloc[encabezados_idx].fillna('').astype(str)\n",
    "        tipos_dato = df.iloc[tipos_dato_idx].fillna('').astype(str)\n",
    "\n",
    "    # Procesamiento de bloques (igual que antes)\n",
    "    bloques = []\n",
    "    current_tipo = None\n",
    "    start_col = None\n",
    "    for i, (encabezado, tipo) in enumerate(zip(encabezados, tipos_dato)):\n",
    "        tipo = tipo.strip().upper()\n",
    "        if \"PENETRACION\" in tipo:\n",
    "            if current_tipo is not None:\n",
    "                bloques.append((current_tipo, start_col, i))\n",
    "            current_tipo = \"PENETRACION\"\n",
    "            start_col = i\n",
    "        elif \"PRECIO MEDIO\" in tipo:\n",
    "            if current_tipo is not None:\n",
    "                bloques.append((current_tipo, start_col, i))\n",
    "            current_tipo = \"PRECIO_MEDIO\"\n",
    "            start_col = i\n",
    "        elif \"VALOR\" in tipo and \"MILES\" in tipo:\n",
    "            if current_tipo is not None:\n",
    "                bloques.append((current_tipo, start_col, i))\n",
    "            current_tipo = \"VALOR\"\n",
    "            start_col = i\n",
    "        elif \"VOLUMEN\" in tipo and \"MILES\" in tipo:\n",
    "            if current_tipo is not None:\n",
    "                bloques.append((current_tipo, start_col, i))\n",
    "            current_tipo = \"VOLUMEN\"\n",
    "            start_col = i\n",
    "    if current_tipo is not None:\n",
    "        bloques.append((current_tipo, start_col, len(encabezados)))\n",
    "\n",
    "    print(f\"  💡 Se encontraron {len(bloques)} bloques en {nombre_base}\")\n",
    "\n",
    "    for tipo, start_col, end_col in bloques:\n",
    "        tipo_limpio = re.sub(r'[^a-zA-Z0-9]', '_', tipo.lower()).strip('_')\n",
    "        try:\n",
    "            bloque_df = df.iloc[encabezados_idx+1:, [0] + list(range(start_col, end_col))]\n",
    "            column_names = ['Alimentos'] + list(encabezados[start_col:end_col])\n",
    "            if bloque_df.shape[1] != len(column_names):\n",
    "                print(f\"  ⚠ Saltando bloque {tipo}: número de columnas no coincide ({bloque_df.shape[1]} != {len(column_names)})\")\n",
    "                continue\n",
    "            bloque_df.columns = column_names            \n",
    "            bloque_df = bloque_df.dropna(how='all')\n",
    "            bloque_df = bloque_df[bloque_df['Alimentos'].notna()]\n",
    "            bloque_df = bloque_df[~bloque_df['Alimentos'].astype(str).str.contains('T\\.?\\s*ESPAÑA', case=False, regex=True)]\n",
    "            for col in bloque_df.columns[1:]:\n",
    "                bloque_df[col] = pd.to_numeric(bloque_df[col], errors='coerce')\n",
    "            bloque_df = bloque_df.drop_duplicates()\n",
    "\n",
    "            if niveles_df is not None and not niveles_df.empty:\n",
    "                bloque_df['Alimentos'] = bloque_df['Alimentos'].astype(str).str.strip().str.upper()\n",
    "                niveles_df['Nombre'] = niveles_df['Nombre'].astype(str).str.strip().str.upper()\n",
    "                niveles_df = niveles_df.drop_duplicates(subset=['Nombre'])\n",
    "                bloque_df = bloque_df.merge(niveles_df, how='left', left_on='Alimentos', right_on='Nombre')\n",
    "                bloque_df.drop(columns=['Nombre'], inplace=True)\n",
    "\n",
    "\n",
    "            if tipo_fuente.upper() == \"ANUAL\":\n",
    "                subfolder = output_folder  # Guarda directamente en CSV_Anuales\n",
    "            else:\n",
    "                subfolder = os.path.join(output_folder, tipo_fuente.lower())\n",
    "            os.makedirs(subfolder, exist_ok=True)\n",
    "            output_path = os.path.join(subfolder, f\"{nombre_base}_{tipo.upper()}.csv\")\n",
    "            bloque_df.to_csv(output_path, index=False, sep=';', encoding='utf-8-sig')\n",
    "            print(f\"  ✔ {tipo} guardado: {output_path}\")\n",
    "        except Exception as e:\n",
    "            print(f\"  ✖ Error procesando {tipo}: {str(e)}\")\n",
    "\n",
    "def procesar_mensuales(input_folder=\"Excel Mensuales\", output_folder=\"CSV_Mensuales\"):\n",
    "    if not os.path.exists(input_folder):\n",
    "        print(f\"❌ No existe la carpeta: {input_folder}\")\n",
    "        return\n",
    "\n",
    "    os.makedirs(output_folder, exist_ok=True)\n",
    "    portada_keywords = [\"portada\", \"inicio\", \"presentación\", \"resumen\", \"lista canales\"]\n",
    "\n",
    "    for filename in os.listdir(input_folder):\n",
    "        if not filename.lower().endswith(('.xlsx', '.xls')):\n",
    "            continue\n",
    "\n",
    "        file_path = os.path.join(input_folder, filename)\n",
    "        print(f\"\\n📂 Procesando archivo mensual: {filename}\")\n",
    "\n",
    "        match = re.search(r\"(20\\d{2})\", filename)\n",
    "        year = match.group(1) if match else \"sin_anio\"\n",
    "        tipo_fuente = detectar_fuente_datos(filename)\n",
    "\n",
    "        try:\n",
    "            if tipo_fuente == \"SOCIODEM\":\n",
    "                niveles_df = extraer_niveles_desde_excel(file_path)\n",
    "                procesar_sociodem_por_hoja(file_path, output_folder, year, niveles_df=niveles_df)\n",
    "                continue\n",
    "            elif tipo_fuente in [\"CCAA\", \"CANAL\"]:\n",
    "                niveles_df = extraer_niveles_desde_excel(file_path)\n",
    "            else:\n",
    "                niveles_df = None\n",
    "\n",
    "\n",
    "\n",
    "            excel_data = pd.ExcelFile(file_path)\n",
    "\n",
    "\n",
    "            for sheet_name in excel_data.sheet_names:\n",
    "                if any(k in sheet_name.lower() for k in portada_keywords):\n",
    "                    print(f\"  ⏩ Omitida hoja: {sheet_name}\")\n",
    "                    continue\n",
    "\n",
    "                nombre_base = f\"{year}_{tipo_fuente.lower()}_{sheet_name.replace(' ', '_').lower()}\"\n",
    "                if tipo_fuente == \"CCAA\":\n",
    "                    df = excel_data.parse(sheet_name, header=[1, 2], index_col=0)\n",
    "                    extraer_datos_ccaa_nuevo(df, nombre_base, output_folder, niveles_df=niveles_df)\n",
    "                else:\n",
    "                    df = excel_data.parse(sheet_name, header=None)\n",
    "                    extraer_bloques_datos(df, nombre_base, output_folder, tipo_fuente, niveles_df=niveles_df)\n",
    "\n",
    "        except Exception as e:\n",
    "            print(f\"  ✖ Error procesando {filename}: {str(e)}\")\n",
    "\n",
    "    print(\"\\n✅ Procesamiento de archivos mensuales finalizado.\")\n",
    "\n",
    "# ------------------- FUNCIONES PARA ANUALES -------------------\n",
    "\n",
    "def procesar_anuales(input_folder=\"Excels Anuales\", output_folder=\"CSV_Anuales\"):\n",
    "    if not os.path.exists(input_folder):\n",
    "        print(f\"❌ No existe la carpeta: {input_folder}\")\n",
    "        return\n",
    "    os.makedirs(output_folder, exist_ok=True)\n",
    "\n",
    "    portada_keywords = [\"portada\", \"inicio\", \"presentación\", \"resumen\", \"lista canales\"]\n",
    "\n",
    "    for filename in os.listdir(input_folder):\n",
    "        if not filename.lower().endswith(('.xlsx', '.xls')):\n",
    "            continue\n",
    "            \n",
    "        file_path = os.path.join(input_folder, filename)\n",
    "        print(f\"\\n📂 Procesando archivo anual: {filename}\")\n",
    "\n",
    "        match = re.search(r\"(20\\d{2})\", filename)\n",
    "        anio = match.group(1) if match else \"sin_anio\"\n",
    "        excel_data = pd.ExcelFile(file_path)\n",
    "        niveles_df = extraer_niveles_desde_excel(file_path)\n",
    "\n",
    "        for sheet_name in excel_data.sheet_names:\n",
    "            if any(k in sheet_name.lower() for k in portada_keywords):\n",
    "                print(f\"  ⏩ Omitida hoja: {sheet_name}\")\n",
    "                continue\n",
    "\n",
    "            nombre_base = f\"{anio}_anual_{sheet_name.replace(' ', '_').lower()}\"\n",
    "\n",
    "            try:\n",
    "                df = excel_data.parse(sheet_name, header=None)\n",
    "\n",
    "                # Normalizar el nombre de la hoja\n",
    "                normalized_name = sheet_name.strip().lower().replace('á', 'a')\n",
    "\n",
    "                # Detectar si contiene alguna de las palabras clave\n",
    "                if 'consumoxcapita' in normalized_name or 'gastoxcapita' in normalized_name:\n",
    "                    # Caso especial: solo tiene un tipo de dato\n",
    "                    encabezados_idx = 0\n",
    "                    while encabezados_idx < len(df) and df.iloc[encabezados_idx].isnull().all():\n",
    "                        encabezados_idx += 1\n",
    "                    encabezados = df.iloc[encabezados_idx].fillna('').astype(str)\n",
    "                    bloque_df = df.iloc[encabezados_idx+1:].copy()\n",
    "                    bloque_df.columns = encabezados\n",
    "                    bloque_df = bloque_df.dropna(how='all')\n",
    "                    bloque_df = bloque_df[bloque_df.iloc[:, 0].notna()]\n",
    "                    bloque_df = bloque_df.drop_duplicates()\n",
    "\n",
    "                    # RENOMBRAR LA PRIMERA COLUMNA A \"Alimentos\"\n",
    "                    cols = list(bloque_df.columns)\n",
    "                    cols[0] = \"Alimentos\"\n",
    "                    bloque_df.columns = cols\n",
    "\n",
    "                    # Añadir niveles si están disponibles\n",
    "                    if niveles_df is not None and not niveles_df.empty:\n",
    "                        bloque_df.iloc[:, 0] = bloque_df.iloc[:, 0].astype(str).str.strip().str.upper()\n",
    "                        niveles_df['Nombre'] = niveles_df['Nombre'].astype(str).str.strip().str.upper()\n",
    "                        niveles_df = niveles_df.drop_duplicates(subset=['Nombre'])\n",
    "                        bloque_df = bloque_df.merge(niveles_df, how='left', left_on=bloque_df.columns[0], right_on='Nombre')\n",
    "                        bloque_df.drop(columns=['Nombre', 'Hoja'], inplace=True, errors='ignore')\n",
    "\n",
    "                    output_path = os.path.join(output_folder, f\"{nombre_base}.csv\")\n",
    "                    bloque_df.to_csv(output_path, index=False, sep=';', encoding='utf-8-sig')\n",
    "                    print(f\"  ✔ {sheet_name.upper()} guardado: {output_path}\")\n",
    "                    continue  # saltar a siguiente hoja\n",
    "\n",
    "                # Estructura estándar\n",
    "                if isinstance(df.columns, pd.MultiIndex):\n",
    "                    extraer_datos_ccaa_nuevo(df, nombre_base, output_folder, niveles_df=niveles_df)\n",
    "                else:\n",
    "                    extraer_bloques_datos(df, nombre_base, output_folder, \"ANUAL\", niveles_df=niveles_df)\n",
    "\n",
    "            except Exception as e:\n",
    "                print(f\"  ✖ Error procesando hoja {sheet_name}: {str(e)}\")\n",
    "                continue\n",
    "\n",
    "    print(\"\\n✅ Procesamiento de archivos anuales finalizado.\")\n",
    "\n",
    "\n",
    "# ------------------- EJECUCIÓN -------------------\n",
    "\n",
    "if __name__ == \"__main__\":\n",
    "\n",
    "    print(\"=== INICIANDO PROCESAMIENTO DE MENSUALES ===\")\n",
    "    procesar_mensuales()\n",
    "\n",
    "    print(\"\\n=== INICIANDO PROCESAMIENTO DE ANUALES ===\")\n",
    "    procesar_anuales()\n",
    "\n"
   ]
  },
  {
   "cell_type": "markdown",
   "id": "35a00bd2",
   "metadata": {},
   "source": [
    "## abajo si"
   ]
  },
  {
   "cell_type": "code",
   "execution_count": null,
   "id": "a5736621",
   "metadata": {},
   "outputs": [],
   "source": [
    "import pandas as pd\n",
    "\n",
    "archivo = \"Excels Anuales/2023-datos-anuales-panel-consumo-hogares-base2021_tcm30-686038.xlsx\"\n",
    "\n",
    "# Mostrar las hojas\n",
    "hojas = pd.ExcelFile(archivo).sheet_names\n",
    "print(\"Hojas disponibles:\", hojas)\n"
   ]
  },
  {
   "cell_type": "code",
   "execution_count": null,
   "id": "ebe60e9d",
   "metadata": {},
   "outputs": [],
   "source": [
    "df = pd.read_excel(archivo, sheet_name=\"VOLUMEN\", engine=\"openpyxl\")\n",
    "print(df.head(10))\n"
   ]
  },
  {
   "cell_type": "code",
   "execution_count": null,
   "id": "66f23fca",
   "metadata": {},
   "outputs": [],
   "source": [
    "print(df.columns.tolist())\n"
   ]
  },
  {
   "cell_type": "code",
   "execution_count": null,
   "id": "39361919",
   "metadata": {},
   "outputs": [],
   "source": [
    "for val in df[\"CONSUMO EN HOGARES\"].dropna().head(30):\n",
    "    leading_chars = repr(val[:10])  # los primeros 10 caracteres\n",
    "    print(f\"{leading_chars} | {val}\")\n"
   ]
  },
  {
   "cell_type": "markdown",
   "id": "9f8fe259",
   "metadata": {},
   "source": [
    "## REVISAR"
   ]
  },
  {
   "cell_type": "code",
   "execution_count": null,
   "id": "8500606f",
   "metadata": {},
   "outputs": [],
   "source": [
    "from openpyxl import load_workbook\n",
    "\n",
    "archivo = \"Excels Anuales/2023-datos-anuales-panel-consumo-hogares-base2021_tcm30-686038.xlsx\"\n",
    "wb = load_workbook(archivo, data_only=True)\n",
    "ws = wb[\"VOLUMEN\"]\n",
    "\n",
    "niveles = []\n",
    "nombres = []\n",
    "\n",
    "for row in ws.iter_rows(min_row=2, max_col=1):  # asumiendo fila 1 es header, columna 1 = A\n",
    "    cell = row[0]\n",
    "    nombre = cell.value\n",
    "    # La sangría está en cell.alignment.indent (puede ser None o un número)\n",
    "    indent = cell.alignment.indent if cell.alignment and cell.alignment.indent else 0\n",
    "    \n",
    "    nombres.append(nombre)\n",
    "    niveles.append(indent)\n",
    "\n",
    "import pandas as pd\n",
    "df_niveles = pd.DataFrame({\"Nombre\": nombres, \"Nivel\": niveles})\n",
    "\n",
    "print(df_niveles.head(20))\n"
   ]
  }
 ],
 "metadata": {
  "kernelspec": {
   "display_name": "Python 3",
   "language": "python",
   "name": "python3"
  },
  "language_info": {
   "codemirror_mode": {
    "name": "ipython",
    "version": 3
   },
   "file_extension": ".py",
   "mimetype": "text/x-python",
   "name": "python",
   "nbconvert_exporter": "python",
   "pygments_lexer": "ipython3",
   "version": "3.11.9"
  }
 },
 "nbformat": 4,
 "nbformat_minor": 5
}
